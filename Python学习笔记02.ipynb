{
 "cells": [
  {
   "cell_type": "markdown",
   "metadata": {},
   "source": [
    "# 1.模块\n",
    "- 一个模块就是一个包含python代码的文件，后缀名是.py就可以，模块就是个python文件\n",
    "- 如何定义模块\n",
    "    - 模块就是一个普通文件，所以任何代码可以直接书写\n",
    "    - 不过根据模块的规范，最好模块中编写以下内容\n",
    "        - 函数（单一功能）\n",
    "        - 类（相似功能的组合，或者类似业务模块）\n",
    "        - 测试代码\n",
    "- 如何使用模块\n",
    "    - 模块直接导入\n",
    "        - 加入模块名称直接以数字开头，需要借助importlib帮助\n",
    "            - \\# 借助于importlib包可以实现导入以数字开头的模块名称\n",
    "            - import importlib\n",
    "            - \\# 相当于导入一个叫01的模块并把导入的模块赋值给tuling\n",
    "            - tuling = importlib.import_module(\"01\")\n",
    "    - 语法\n",
    "        - import module_name\n",
    "        - module_name.function_name\n",
    "        - module_name.class_name\n",
    "    - 其他的写法\n",
    "        - import 模块 as 别名\n",
    "    - from module_name import func_name,class_name\n",
    "        - 按上述方法有选择性的导入\n",
    "        - 使用的时候可以直接使用导入的内容，不需要前缀\n",
    "        - 案例p03\n",
    "    - from module_name import *\n",
    "        - 导入模块所有内容\n",
    "        - 案例p04\n",
    "        "
   ]
  },
  {
   "cell_type": "code",
   "execution_count": null,
   "metadata": {},
   "outputs": [],
   "source": []
  },
  {
   "cell_type": "code",
   "execution_count": null,
   "metadata": {},
   "outputs": [],
   "source": []
  },
  {
   "cell_type": "code",
   "execution_count": null,
   "metadata": {},
   "outputs": [],
   "source": []
  },
  {
   "cell_type": "code",
   "execution_count": null,
   "metadata": {},
   "outputs": [],
   "source": []
  }
 ],
 "metadata": {
  "kernelspec": {
   "display_name": "Python 3",
   "language": "python",
   "name": "python3"
  },
  "language_info": {
   "codemirror_mode": {
    "name": "ipython",
    "version": 3
   },
   "file_extension": ".py",
   "mimetype": "text/x-python",
   "name": "python",
   "nbconvert_exporter": "python",
   "pygments_lexer": "ipython3",
   "version": "3.7.3"
  }
 },
 "nbformat": 4,
 "nbformat_minor": 2
}
