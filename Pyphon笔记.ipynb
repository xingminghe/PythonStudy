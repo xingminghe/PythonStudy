{
 "cells": [
  {
   "cell_type": "markdown",
   "metadata": {},
   "source": [
    "# 布尔值\n",
    "- 布尔值是用来表示真假的值\n",
    "- 只有两个值 ：True/False\n",
    "- 在Python中，布尔值可以当数字使用\n",
    "    - 布尔值如果当数字使用，True=1，False=0\n",
    "    - 如果数字用来当作布尔值使用，0=False，其余当做True"
   ]
  },
  {
   "cell_type": "code",
   "execution_count": 5,
   "metadata": {},
   "outputs": [
    {
     "name": "stdout",
     "output_type": "stream",
     "text": [
      "19\n",
      "负数是True\n"
     ]
    }
   ],
   "source": [
    "#布尔值当数值使用\n",
    "age = 18 + True\n",
    "print(age)\n",
    "\n",
    "#判断语句\n",
    "a = -1\n",
    "if a:\n",
    "    print(\"负数是True\")\n",
    "else:\n",
    "    print(\"负数是False\")"
   ]
  },
  {
   "cell_type": "markdown",
   "metadata": {},
   "source": [
    "# 字符串\n",
    "- 表达文字信息的内容，比如“你好”\n",
    "- 形式上是引号引起来的一段内容\n",
    "- 引号包括\n",
    "    - 单引号\n",
    "    - 双引号\n",
    "    - 三引号，可以用来表示多行信息\n",
    "- 单双引号含义一致"
   ]
  },
  {
   "cell_type": "code",
   "execution_count": 6,
   "metadata": {},
   "outputs": [
    {
     "name": "stdout",
     "output_type": "stream",
     "text": [
      "I love U\n",
      "I love U too\n",
      "\n",
      "你好\n",
      "很高兴认识你\n",
      "你叫什么\n",
      "\n"
     ]
    }
   ],
   "source": [
    "# 字符串案列\n",
    "love = \"I love U\"\n",
    "print(love)\n",
    "\n",
    "love2 = 'I love U too'\n",
    "\n",
    "print(love2)\n",
    "\n",
    "# 三引号可以表示多行\n",
    "love3 = \"\"\"\n",
    "你好\n",
    "很高兴认识你\n",
    "你叫什么\n",
    "\"\"\"\n",
    "print(love3)"
   ]
  },
  {
   "cell_type": "markdown",
   "metadata": {},
   "source": [
    "# None类型\n",
    "- 表示没有，通常用来站位\n",
    "- 比如返回，用来表示返回一个空"
   ]
  },
  {
   "cell_type": "markdown",
   "metadata": {},
   "source": [
    "# 表达式\n",
    "- 由一个或者几个数字或者变量或者运算符合成的一行代码\n",
    "- 通常返回一个结果\n"
   ]
  },
  {
   "cell_type": "markdown",
   "metadata": {},
   "source": [
    "# 运算符\n",
    "- 由一个以上的值经过一系列的运算得到新值的过程就叫运算\n",
    "- 用来操作运算的符号叫运算符\n",
    "- 运算符分类\n",
    "    - 算数运算符\n",
    "    - 比较或者关系运算符\n",
    "    - 赋值运算符\n",
    "    - 逻辑运算符\n",
    "    - 位运算\n",
    "    - 成员运算符\n",
    "    - 身份运算符"
   ]
  },
  {
   "cell_type": "code",
   "execution_count": 1,
   "metadata": {},
   "outputs": [],
   "source": [
    "# 表达式案例\n",
    "a = 1+2"
   ]
  },
  {
   "cell_type": "markdown",
   "metadata": {},
   "source": [
    "## 算数运算符\n",
    "- 用来运行算数运算的符号\n",
    "- 通常用来表示加减乘除\n",
    "- python没有自增自减运算符"
   ]
  },
  {
   "cell_type": "code",
   "execution_count": 5,
   "metadata": {},
   "outputs": [
    {
     "name": "stdout",
     "output_type": "stream",
     "text": [
      "7\n",
      "11\n",
      "18\n",
      "4.5\n",
      "4\n",
      "1\n",
      "-3\n",
      "27\n"
     ]
    }
   ],
   "source": [
    "# 算数运算符案例\n",
    "# 加减乘除跟数学意义基本一致\n",
    "a = 9 - 2\n",
    "print(a)\n",
    "\n",
    "b = 9 + 2\n",
    "print(b)\n",
    "\n",
    "c = 9 * 2\n",
    "print(c)\n",
    "\n",
    "# pythone 的除法分为：普通除，地板除，取余\n",
    "\n",
    "# 普通除法\n",
    "d = 9 / 2\n",
    "print(d)\n",
    "\n",
    "# 地板除,取整\n",
    "\n",
    "e = 9 // 2\n",
    "print(e)\n",
    "\n",
    "# 取余\n",
    "\n",
    "f = 9 % 2\n",
    "print(f)\n",
    "\n",
    "g = 9 % -4\n",
    "print(g)\n",
    "\n",
    "#指数，两个乘号代表指数\n",
    "h = 3**3\n",
    "print(h)\n"
   ]
  },
  {
   "cell_type": "markdown",
   "metadata": {},
   "source": [
    "# 比较运算符\n",
    "- 对两个内容进行比较运算\n",
    "- 结果一定是布尔值，即 True/False\n"
   ]
  },
  {
   "cell_type": "code",
   "execution_count": 8,
   "metadata": {},
   "outputs": [
    {
     "name": "stdout",
     "output_type": "stream",
     "text": [
      "False\n",
      "True\n"
     ]
    }
   ],
   "source": [
    "# 等于 ==\n",
    "a = 3 == 4\n",
    "print(a)\n",
    "\n",
    "# 不等于 !=\n",
    "\n",
    "b = 3!=4\n",
    "print(b)\n",
    "\n",
    "# 大于 >, 大于等于>=, 小于<,小于等于<="
   ]
  },
  {
   "cell_type": "markdown",
   "metadata": {},
   "source": [
    "# 赋值运算符\n",
    "- 把一个值放到变量里面去"
   ]
  },
  {
   "cell_type": "code",
   "execution_count": 13,
   "metadata": {},
   "outputs": [
    {
     "name": "stdout",
     "output_type": "stream",
     "text": [
      "103\n"
     ]
    }
   ],
   "source": [
    "# 赋值运算符\n",
    "a = 9\n",
    "\n",
    "# 复杂赋值\n",
    "a = b = 9\n",
    "\n",
    "a,b = 1,2\n",
    "\n",
    "# 赋值的缩写\n",
    "aa = 100\n",
    "aa += 3\n",
    "print(aa)\n",
    "\n",
    "# 所有的数学运算符都可以缩写\n",
    "+= -+ *= /= //= %= **="
   ]
  },
  {
   "cell_type": "markdown",
   "metadata": {},
   "source": [
    "# 逻辑运算符\n",
    "- 对布尔类型变量或者值进行运算的符号\n",
    "- and：逻辑与\n",
    "- or：逻辑或\n",
    "- not：逻辑非\n",
    "- python 里面的逻辑运算没有异或\n",
    "- 运算规则\n",
    "    - and看做乘法，or看做加法\n",
    "    - True看做1，False看做0\n",
    "    - 则逻辑运算就能转换成整数数学运算\n",
    "    - 最后结果如果是0则为False，否则为True\n",
    "- 逻辑运算的短路问题\n",
    "        -逻辑运算式，按照运算顺序计算，一旦能够确定整个式子未来的结果值，就不再继续进行计算，直接返回"
   ]
  },
  {
   "cell_type": "code",
   "execution_count": 14,
   "metadata": {},
   "outputs": [
    {
     "name": "stdout",
     "output_type": "stream",
     "text": [
      "True\n",
      "False\n"
     ]
    }
   ],
   "source": [
    "# 逻辑表达举例\n",
    "a = True\n",
    "b = True\n",
    "c = False\n",
    "\n",
    "aa = a and b # 左边表达式可以转换成1*1\n",
    "print(aa)\n",
    "\n",
    "bb = a and c\n",
    "print(bb)"
   ]
  },
  {
   "cell_type": "markdown",
   "metadata": {},
   "source": [
    "# 成员运算符\n",
    "- 用来检测一个值或者变量是否在某个集合里面\n",
    "- in：成员运算符\n",
    "- not in：不再里面的意思"
   ]
  },
  {
   "cell_type": "code",
   "execution_count": 16,
   "metadata": {},
   "outputs": [
    {
     "name": "stdout",
     "output_type": "stream",
     "text": [
      "False\n",
      "True\n"
     ]
    }
   ],
   "source": [
    "# in 案例\n",
    "L = [1,2,3,4,5]\n",
    "a = 6\n",
    "aa = a in L\n",
    "print(aa)\n",
    "\n",
    "# a 没在里面\n",
    "aa = a not in L\n",
    "print(aa)"
   ]
  },
  {
   "cell_type": "markdown",
   "metadata": {},
   "source": [
    "# 身份运算符\n",
    "- 用来确定两个变量是否是同一变量\n",
    "- is：变量运算符\n",
    "- is not:不是"
   ]
  },
  {
   "cell_type": "code",
   "execution_count": 22,
   "metadata": {},
   "outputs": [
    {
     "name": "stdout",
     "output_type": "stream",
     "text": [
      "False\n",
      "True\n",
      "False\n"
     ]
    }
   ],
   "source": [
    "# 身份运算符案例\n",
    "a = 1\n",
    "b = 18\n",
    "aa = a is b\n",
    "print(aa)\n",
    "\n",
    "# 身份运算符案例2  a,b 进代表值一样，并不代表a,b是同一个变量\n",
    "#python对于-5到256的小数字做了特殊处理，不同变量如果值一样会同时指向同一个地址。\n",
    "a = 2\n",
    "b = 2\n",
    "aa = a is b\n",
    "print(aa)\n",
    "\n",
    "a = 99999\n",
    "b = 99999\n",
    "bb = a is b\n",
    "print(bb)"
   ]
  },
  {
   "cell_type": "markdown",
   "metadata": {},
   "source": [
    "# 多路分支\n",
    "- if 条件表达式:\n",
    "`    语句1\n",
    "    语句2\n",
    "    ....\n",
    "  elif 条件表达式:\n",
    "    语句1\n",
    "    ...\n",
    "  elif 条件表达式:\n",
    "    语句1\n",
    "    ....\n",
    "  else：\n",
    "    语句1\n",
    "    ...\n",
    "   `\n",
    "# if语句补充\n",
    "- if语句可以嵌套使用，但是不推荐\n",
    "- python里面没有switch语句"
   ]
  },
  {
   "cell_type": "code",
   "execution_count": 5,
   "metadata": {},
   "outputs": [
    {
     "name": "stdout",
     "output_type": "stream",
     "text": [
      "请输入你的成绩30\n",
      "起开，我没有你这学生！\n"
     ]
    }
   ],
   "source": [
    "score = input(\"请输入你的成绩\")\n",
    "score = int(score)\n",
    "if score >= 90:\n",
    "    print(\"A\")\n",
    "elif score >= 80:\n",
    "    print(\"B\")\n",
    "elif score >= 70:\n",
    "    print(\"C\")\n",
    "elif score >= 60:\n",
    "    print(\"D\")\n",
    "else:\n",
    "    print(\"起开，我没有你这学生！\")"
   ]
  },
  {
   "cell_type": "markdown",
   "metadata": {},
   "source": [
    "# 循环语句\n",
    "- 重复执行某一些固定的动作或者任务\n",
    "- 分类\n",
    "    - for\n",
    "    - while\n",
    "# for循环\n",
    "   ` for 变量 in 序列:\n",
    "        语句1\n",
    "        语句2\n",
    "        ....\n",
    "        `"
   ]
  },
  {
   "cell_type": "code",
   "execution_count": 9,
   "metadata": {},
   "outputs": [
    {
     "name": "stdout",
     "output_type": "stream",
     "text": [
      "1\n",
      "101\n",
      "1001\n",
      "2\n",
      "102\n",
      "1002\n",
      "3\n",
      "103\n",
      "1003\n",
      "4\n",
      "104\n",
      "1004\n",
      "5\n",
      "105\n",
      "1005\n",
      "6\n",
      "106\n",
      "1006\n",
      "7\n",
      "107\n",
      "1007\n"
     ]
    }
   ],
   "source": [
    "# 比如[1,2,3,4,5,6,7]\n",
    "list_one = [1,2,3,4,5,6,7]\n",
    "for number in list_one:\n",
    "    print(number)\n",
    "    print(number + 100)\n",
    "    print(number + 1000)"
   ]
  },
  {
   "cell_type": "code",
   "execution_count": 11,
   "metadata": {},
   "outputs": [
    {
     "name": "stdout",
     "output_type": "stream",
     "text": [
      "对不起同学，饶了老师吧\n",
      "对不起同学，饶了老师吧\n",
      "晓静你去了哪里\n"
     ]
    }
   ],
   "source": [
    "# 打印学生列表姓名\n",
    "\n",
    "stu_list = [\"王大燕\",\"李美丽\",\"王晓静\"]\n",
    "\n",
    "for stu in stu_list:\n",
    "    if stu == \"王晓静\":\n",
    "        print(\"晓静你去了哪里\")\n",
    "    else:\n",
    "        print(\"对不起同学，饶了老师吧\")"
   ]
  },
  {
   "cell_type": "code",
   "execution_count": 12,
   "metadata": {},
   "outputs": [
    {
     "name": "stdout",
     "output_type": "stream",
     "text": [
      "对不起同学，饶了老师吧\n",
      "对不起同学，饶了老师吧\n",
      "晓静你去了哪里\n",
      "不会再爱了\n"
     ]
    }
   ],
   "source": [
    "# for-else语句\n",
    "# for循环结束的时候，有时需要执行一些收尾工作，此时需要用else语句\n",
    "# else语句可选\n",
    "\n",
    "stu_list = [\"王大燕\",\"李美丽\",\"王晓静\"]\n",
    "\n",
    "for stu in stu_list:\n",
    "    if stu == \"王晓静\":\n",
    "        print(\"晓静你去了哪里\")\n",
    "    else:\n",
    "        print(\"对不起同学，饶了老师吧\")\n",
    "else:\n",
    "    print(\"不会再爱了\")"
   ]
  },
  {
   "cell_type": "markdown",
   "metadata": {},
   "source": [
    "# break, continue,pass\n",
    "- break: 无条件结束整个循环，简称循环猝死\n",
    "- continue:继续\n",
    "- pass： 占位符，代表这句啥也不干"
   ]
  },
  {
   "cell_type": "code",
   "execution_count": 16,
   "metadata": {},
   "outputs": [
    {
     "name": "stdout",
     "output_type": "stream",
     "text": [
      "3\n",
      "4\n",
      "5\n",
      "6\n",
      "7已经找打\n"
     ]
    }
   ],
   "source": [
    "# 数字队列中，寻找数字7，如果找到，打印出来即可，并且结束\n",
    "dig_list = [3,4,5,6,7,34,56,24,87,3,7,23,89,45,7]\n",
    "for dig in dig_list:\n",
    "    if dig == 7:\n",
    "        print(\"7已经找打\")\n",
    "        \n",
    "        break\n",
    "    else:\n",
    "        print(dig)"
   ]
  },
  {
   "cell_type": "code",
   "execution_count": 29,
   "metadata": {},
   "outputs": [
    {
     "name": "stdout",
     "output_type": "stream",
     "text": [
      "3\n",
      "4\n",
      "5\n",
      "6\n",
      "7已经找打\n",
      "7发现第1次\n",
      "34\n",
      "56\n",
      "24\n",
      "87\n",
      "3\n",
      "7已经找打\n",
      "7发现第2次\n",
      "23\n",
      "89\n",
      "45\n",
      "7已经找打\n",
      "7发现第3次\n",
      "7共被发现3次\n"
     ]
    }
   ],
   "source": [
    "dig_list = [3,4,5,6,7,34,56,24,87,3,7,23,89,45,7]\n",
    "a = 0\n",
    "for dig in dig_list:\n",
    "    if dig == 7:\n",
    "        print(\"7已经找打\")\n",
    "        a +=1\n",
    "        print(\"7发现第%d次\"%a)\n",
    "        continue\n",
    "    else:\n",
    "        print(dig)\n",
    "print(\"7共被发现%d次\"%a)"
   ]
  },
  {
   "cell_type": "code",
   "execution_count": 31,
   "metadata": {},
   "outputs": [
    {
     "name": "stdout",
     "output_type": "stream",
     "text": [
      "你还小\n"
     ]
    }
   ],
   "source": [
    "# pass 占位符\n",
    "age = 19\n",
    "if age > 19:\n",
    "    pass\n",
    "else:\n",
    "    print(\"你还小\")"
   ]
  },
  {
   "cell_type": "markdown",
   "metadata": {},
   "source": [
    "# range函数\n",
    "- 生成有序数列\n",
    "- 生成数字队列可以定制\n",
    "- range生成的序列的两个数字是左包括右不包括"
   ]
  },
  {
   "cell_type": "code",
   "execution_count": 35,
   "metadata": {},
   "outputs": [
    {
     "name": "stdout",
     "output_type": "stream",
     "text": [
      "1\n",
      "2\n",
      "3\n",
      "4\n",
      "5\n",
      "6\n",
      "7\n",
      "8\n",
      "9\n",
      "10\n"
     ]
    }
   ],
   "source": [
    "#生成一个从1到10的数字序列\n",
    "#range生成的序列的两个数字是左包括右不包括\n",
    "dig_list = range(1,11)\n",
    "for dig in dig_list:\n",
    "    print(dig)\n",
    "\n",
    "# 一般在python中这个表示范围的数字都是左包括右不包括，randint函数是个特列"
   ]
  },
  {
   "cell_type": "code",
   "execution_count": 36,
   "metadata": {},
   "outputs": [
    {
     "name": "stdout",
     "output_type": "stream",
     "text": [
      "1\n",
      "2\n",
      "3\n",
      "4\n",
      "5\n",
      "6\n",
      "7\n",
      "8\n",
      "9\n"
     ]
    }
   ],
   "source": [
    "# range案列2\n",
    "#打印从1到9的数字\n",
    "for i in range(1,10):\n",
    "    print(i)"
   ]
  },
  {
   "cell_type": "markdown",
   "metadata": {},
   "source": [
    "# while循环\n",
    "- 一个循环语句\n",
    "- 表示条件成立的时候，就循环，适应不知道具体循环次数，但能确定在某个条件条件成立就循环\n",
    "- while语法：\n",
    "       `while条件表达式:\n",
    "           语句块\n",
    "        #另外一种表达方法\n",
    "        while 条件表达式:\n",
    "            语句1\n",
    "         else：\n",
    "             语句2\n",
    "             `"
   ]
  },
  {
   "cell_type": "code",
   "execution_count": 39,
   "metadata": {},
   "outputs": [
    {
     "name": "stdout",
     "output_type": "stream",
     "text": [
      "11\n",
      "11\n"
     ]
    }
   ],
   "source": [
    "# r如果说年利率是6.7%，本利是每年翻滚，则多少年后本钱会翻倍\n",
    "benqian = 10000\n",
    "year = 0\n",
    "while benqian < 20000:\n",
    "    benqian *=(1 + 0.067)\n",
    "    year += 1\n",
    "print(year)\n",
    "\n",
    "#年利率案例2\n",
    "while benqian < 20000:\n",
    "    benqian *=(1 + 0.067)\n",
    "    year += 1\n",
    "    \n",
    "else:\n",
    "    print(year)\n"
   ]
  },
  {
   "cell_type": "markdown",
   "metadata": {},
   "source": [
    "# 函数\n",
    "- 函数式代码的一种组织形式\n"
   ]
  },
  {
   "cell_type": "code",
   "execution_count": 6,
   "metadata": {},
   "outputs": [
    {
     "name": "stdout",
     "output_type": "stream",
     "text": [
      "03-001\n",
      "3.14\n"
     ]
    }
   ],
   "source": [
    "print('%02d-%03d' % (3, 1))\n",
    "print('%.2f' % 3.1415926)"
   ]
  },
  {
   "cell_type": "markdown",
   "metadata": {},
   "source": [
    "# 参数详解\n",
    "- 参数分类\n",
    "    - 普通参数/位置参数\n",
    "    - 默认参数\n",
    "    - 关键字参数\n",
    "    - 收集参数\n",
    "    "
   ]
  },
  {
   "cell_type": "code",
   "execution_count": 12,
   "metadata": {},
   "outputs": [
    {
     "name": "stdout",
     "output_type": "stream",
     "text": [
      "3\n"
     ]
    }
   ],
   "source": [
    "# 普通参数案列\n",
    "def normal_para(one,two,three):\n",
    "        print(one + two)\n",
    "        return None\n",
    "normal_para(1,2,3)"
   ]
  },
  {
   "cell_type": "code",
   "execution_count": 14,
   "metadata": {},
   "outputs": [
    {
     "name": "stdout",
     "output_type": "stream",
     "text": [
      "3\n"
     ]
    }
   ],
   "source": [
    "# 默认参数案列\n",
    "def default_para(one,two,three=100):\n",
    "    print(one + two)\n",
    "    return None\n",
    "default_para(1,2)\n"
   ]
  },
  {
   "cell_type": "code",
   "execution_count": 1,
   "metadata": {},
   "outputs": [
    {
     "name": "stdout",
     "output_type": "stream",
     "text": [
      "27\n",
      "20\n",
      "27\n",
      "20\n",
      "26\n",
      "21\n"
     ]
    }
   ],
   "source": [
    "# 关键字参数案列\n",
    "def keyword_para(one,two,three):\n",
    "    print(one + two)\n",
    "    print(three)\n",
    "    return None\n",
    "\n",
    "keyword_para(one=6,two=21,three=20)\n",
    "keyword_para(three=20,one=6,two=21)\n",
    "keyword_para(20,6,21)\n"
   ]
  },
  {
   "cell_type": "markdown",
   "metadata": {},
   "source": [
    "# str字符串\n",
    "- str\n",
    "- 转义字符\n",
    "- 格式化\n",
    "- 内建函数"
   ]
  },
  {
   "cell_type": "markdown",
   "metadata": {},
   "source": [
    "# 字符串\n",
    "- 表示文字信息\n",
    "- 用单引号，双引号，三引号括起来\n"
   ]
  },
  {
   "cell_type": "code",
   "execution_count": 21,
   "metadata": {},
   "outputs": [
    {
     "name": "stdout",
     "output_type": "stream",
     "text": [
      " ni hao a \n",
      "ni de ming zi shi \n",
      "\n",
      "hen\n",
      "gao\n",
      "xing\n",
      "ren\n",
      "shi\n",
      "ni\n",
      "\n"
     ]
    }
   ],
   "source": [
    "s = \" ni hao a \"\n",
    "print(s)\n",
    "\n",
    "s1 = 'ni de ming zi shi '\n",
    "print(s1)\n",
    "\n",
    "s2 = \"\"\"\n",
    "hen\n",
    "gao\n",
    "xing\n",
    "ren\n",
    "shi\n",
    "ni\n",
    "\"\"\"\n",
    "print(s2)"
   ]
  },
  {
   "cell_type": "markdown",
   "metadata": {},
   "source": [
    "# 转义字符\n",
    "- 用一个特色的方法表示出一系列不方便写出的内容，比如回车键，换行符，退格键\n",
    "- 借组反斜杠字符，一旦字符串中出现反斜杠，则反斜杠后面的一个或者几个字符表示 已经不是原来的意思了，进行了转义\n",
    "- 在字符串中，一旦出现反斜杠就要加倍小心，可能有转义字符出现\n",
    "- 不同系统对换行操作有不同的表示\n",
    "    - windows: \\n\n",
    "    - Linux: \\r\\n"
   ]
  },
  {
   "cell_type": "code",
   "execution_count": 29,
   "metadata": {},
   "outputs": [
    {
     "name": "stdout",
     "output_type": "stream",
     "text": [
      "Let's Go\n",
      "Let's Go\n",
      "c:\\user\\augsnano\n",
      "I\n",
      "love\n",
      "u\n"
     ]
    }
   ],
   "source": [
    "# 转义字符案例\n",
    "# 想表达LLet's Go\n",
    "# 使用转义字符\n",
    "s = 'Let\\'s Go'\n",
    "print(s)\n",
    "\n",
    "\n",
    "# 使用单双引号嵌套\n",
    "\n",
    "s = \"Let's Go\"\n",
    "print(s)\n",
    "\n",
    "\n",
    " \n",
    "# 表示斜杠\n",
    "# 比如表示C:\\user\\augsnano\n",
    "s = \"c:\\\\user\\\\augsnano\"\n",
    "print(s)\n",
    "\n",
    "\n",
    "# 回车换行\n",
    "# 想表达的效果是：\n",
    "# I\n",
    "# love\n",
    "# u\n",
    "s = \"I\\nlove\\nu\"\n",
    "print(s)"
   ]
  },
  {
   "cell_type": "markdown",
   "metadata": {},
   "source": [
    "# 常用转义字符\n"
   ]
  },
  {
   "cell_type": "code",
   "execution_count": 31,
   "metadata": {},
   "outputs": [
    {
     "name": "stdout",
     "output_type": "stream",
     "text": [
      "hhahahaha\n"
     ]
    }
   ],
   "source": [
    "# 单个斜杠的用法\n",
    "# 在python里，单个反斜杠表示此行未结束，出于美观需要下一行继续\n",
    "def myDemo(x,\\\n",
    "           y,\\\n",
    "           z):\n",
    "    return None\n",
    "print(\"hhahahaha\")\n",
    "myDemo(1,2,3)"
   ]
  },
  {
   "cell_type": "markdown",
   "metadata": {},
   "source": [
    "# 格式化\n",
    "- 把字符串按照一定的格式打印或者进行填充\n",
    "- 格式化分类\n",
    "    - 传统格式化\n",
    "    - format"
   ]
  },
  {
   "cell_type": "code",
   "execution_count": 32,
   "metadata": {},
   "outputs": [],
   "source": [
    "# 填充\n",
    "s = \"\"\n",
    "\n",
    "# 字符串传统格式化\n"
   ]
  },
  {
   "cell_type": "markdown",
   "metadata": {},
   "source": [
    "# 字符串传统格式化\n",
    "- 使用%进行格式化\n",
    "- %百分号，或者占位符\n"
   ]
  },
  {
   "cell_type": "markdown",
   "metadata": {},
   "source": [
    "# format 格式化\n",
    "- 使用函数形式进行格式化，代替以前的百分号\n"
   ]
  },
  {
   "cell_type": "code",
   "execution_count": 38,
   "metadata": {},
   "outputs": [
    {
     "name": "stdout",
     "output_type": "stream",
     "text": [
      "hell world\n",
      "我们是图灵学院,我们的网址是www.tulingxueyuan.com,刘大拿最帅\n"
     ]
    }
   ],
   "source": [
    "# 不用指定位置，按顺序读取\n",
    "s = \"{0} {1}\"\n",
    "print(s.format(\"hell\", \"world\"))\n",
    "\n",
    "#使用命名参数\n",
    "\n",
    "s = \"我们是{school_name},我们的网址是{url},{teacher}最帅\"\n",
    "s = s.format(school_name=\"图灵学院\",url=\"www.tulingxueyuan.com\",teacher=\"刘大拿\")\n",
    "print(s)"
   ]
  },
  {
   "cell_type": "code",
   "execution_count": 39,
   "metadata": {},
   "outputs": [
    {
     "name": "stdout",
     "output_type": "stream",
     "text": [
      "我们是图灵学院,我们的网址是www.tulingxueyuan.com,刘大拿最帅\n"
     ]
    }
   ],
   "source": [
    "# 使用字典设置参数，需要解包\n",
    "\n",
    "s_dict = {\"school_name\":\"图灵学院\",\\\n",
    "          \"url\":\"www.tulingxueyuan.com\",\\\n",
    "          \"teacher\":\"刘大拿\"\n",
    "    \n",
    "}\n",
    "s = s.format(**s_dict)\n",
    "print(s)"
   ]
  },
  {
   "cell_type": "code",
   "execution_count": 42,
   "metadata": {},
   "outputs": [
    {
     "name": "stdout",
     "output_type": "stream",
     "text": [
      "我叫小明，我的身高是182.23，体重是67.34\n"
     ]
    }
   ],
   "source": [
    "# 对数字的格式化需要用到\n",
    "\n",
    "s = \"我叫小明，我的身高是{:.2f}，体重是{:.2f}\"\n",
    "s = s.format(182.2342934,67.34234)\n",
    "print(s)"
   ]
  },
  {
   "cell_type": "markdown",
   "metadata": {},
   "source": [
    "# str内置函数\n",
    "- 字符串查找类 find，index，islower\n",
    "- find：查找字符串中是否包含一个子串"
   ]
  },
  {
   "cell_type": "code",
   "execution_count": 59,
   "metadata": {},
   "outputs": [
    {
     "data": {
      "text/plain": [
       "32"
      ]
     },
     "execution_count": 59,
     "metadata": {},
     "output_type": "execute_result"
    }
   ],
   "source": [
    "s = \"liu dada love wang xiaojing and liuxiaojing\"\n",
    "s1 = \"liuxiaojing\"\n",
    "s.find(s1)\n",
    "s.index(s1)"
   ]
  },
  {
   "cell_type": "code",
   "execution_count": null,
   "metadata": {},
   "outputs": [],
   "source": [
    "### 判断类函数\n",
    "- 此类函数的特点是一版都用is开头，比如islower\n",
    "-  isalpha:判断是否是字母"
   ]
  },
  {
   "cell_type": "code",
   "execution_count": 60,
   "metadata": {},
   "outputs": [
    {
     "name": "stdout",
     "output_type": "stream",
     "text": [
      "Help on class str in module builtins:\n",
      "\n",
      "class str(object)\n",
      " |  str(object='') -> str\n",
      " |  str(bytes_or_buffer[, encoding[, errors]]) -> str\n",
      " |  \n",
      " |  Create a new string object from the given object. If encoding or\n",
      " |  errors is specified, then the object must expose a data buffer\n",
      " |  that will be decoded using the given encoding and error handler.\n",
      " |  Otherwise, returns the result of object.__str__() (if defined)\n",
      " |  or repr(object).\n",
      " |  encoding defaults to sys.getdefaultencoding().\n",
      " |  errors defaults to 'strict'.\n",
      " |  \n",
      " |  Methods defined here:\n",
      " |  \n",
      " |  __add__(self, value, /)\n",
      " |      Return self+value.\n",
      " |  \n",
      " |  __contains__(self, key, /)\n",
      " |      Return key in self.\n",
      " |  \n",
      " |  __eq__(self, value, /)\n",
      " |      Return self==value.\n",
      " |  \n",
      " |  __format__(self, format_spec, /)\n",
      " |      Return a formatted version of the string as described by format_spec.\n",
      " |  \n",
      " |  __ge__(self, value, /)\n",
      " |      Return self>=value.\n",
      " |  \n",
      " |  __getattribute__(self, name, /)\n",
      " |      Return getattr(self, name).\n",
      " |  \n",
      " |  __getitem__(self, key, /)\n",
      " |      Return self[key].\n",
      " |  \n",
      " |  __getnewargs__(...)\n",
      " |  \n",
      " |  __gt__(self, value, /)\n",
      " |      Return self>value.\n",
      " |  \n",
      " |  __hash__(self, /)\n",
      " |      Return hash(self).\n",
      " |  \n",
      " |  __iter__(self, /)\n",
      " |      Implement iter(self).\n",
      " |  \n",
      " |  __le__(self, value, /)\n",
      " |      Return self<=value.\n",
      " |  \n",
      " |  __len__(self, /)\n",
      " |      Return len(self).\n",
      " |  \n",
      " |  __lt__(self, value, /)\n",
      " |      Return self<value.\n",
      " |  \n",
      " |  __mod__(self, value, /)\n",
      " |      Return self%value.\n",
      " |  \n",
      " |  __mul__(self, value, /)\n",
      " |      Return self*value.\n",
      " |  \n",
      " |  __ne__(self, value, /)\n",
      " |      Return self!=value.\n",
      " |  \n",
      " |  __repr__(self, /)\n",
      " |      Return repr(self).\n",
      " |  \n",
      " |  __rmod__(self, value, /)\n",
      " |      Return value%self.\n",
      " |  \n",
      " |  __rmul__(self, value, /)\n",
      " |      Return value*self.\n",
      " |  \n",
      " |  __sizeof__(self, /)\n",
      " |      Return the size of the string in memory, in bytes.\n",
      " |  \n",
      " |  __str__(self, /)\n",
      " |      Return str(self).\n",
      " |  \n",
      " |  capitalize(self, /)\n",
      " |      Return a capitalized version of the string.\n",
      " |      \n",
      " |      More specifically, make the first character have upper case and the rest lower\n",
      " |      case.\n",
      " |  \n",
      " |  casefold(self, /)\n",
      " |      Return a version of the string suitable for caseless comparisons.\n",
      " |  \n",
      " |  center(self, width, fillchar=' ', /)\n",
      " |      Return a centered string of length width.\n",
      " |      \n",
      " |      Padding is done using the specified fill character (default is a space).\n",
      " |  \n",
      " |  count(...)\n",
      " |      S.count(sub[, start[, end]]) -> int\n",
      " |      \n",
      " |      Return the number of non-overlapping occurrences of substring sub in\n",
      " |      string S[start:end].  Optional arguments start and end are\n",
      " |      interpreted as in slice notation.\n",
      " |  \n",
      " |  encode(self, /, encoding='utf-8', errors='strict')\n",
      " |      Encode the string using the codec registered for encoding.\n",
      " |      \n",
      " |      encoding\n",
      " |        The encoding in which to encode the string.\n",
      " |      errors\n",
      " |        The error handling scheme to use for encoding errors.\n",
      " |        The default is 'strict' meaning that encoding errors raise a\n",
      " |        UnicodeEncodeError.  Other possible values are 'ignore', 'replace' and\n",
      " |        'xmlcharrefreplace' as well as any other name registered with\n",
      " |        codecs.register_error that can handle UnicodeEncodeErrors.\n",
      " |  \n",
      " |  endswith(...)\n",
      " |      S.endswith(suffix[, start[, end]]) -> bool\n",
      " |      \n",
      " |      Return True if S ends with the specified suffix, False otherwise.\n",
      " |      With optional start, test S beginning at that position.\n",
      " |      With optional end, stop comparing S at that position.\n",
      " |      suffix can also be a tuple of strings to try.\n",
      " |  \n",
      " |  expandtabs(self, /, tabsize=8)\n",
      " |      Return a copy where all tab characters are expanded using spaces.\n",
      " |      \n",
      " |      If tabsize is not given, a tab size of 8 characters is assumed.\n",
      " |  \n",
      " |  find(...)\n",
      " |      S.find(sub[, start[, end]]) -> int\n",
      " |      \n",
      " |      Return the lowest index in S where substring sub is found,\n",
      " |      such that sub is contained within S[start:end].  Optional\n",
      " |      arguments start and end are interpreted as in slice notation.\n",
      " |      \n",
      " |      Return -1 on failure.\n",
      " |  \n",
      " |  format(...)\n",
      " |      S.format(*args, **kwargs) -> str\n",
      " |      \n",
      " |      Return a formatted version of S, using substitutions from args and kwargs.\n",
      " |      The substitutions are identified by braces ('{' and '}').\n",
      " |  \n",
      " |  format_map(...)\n",
      " |      S.format_map(mapping) -> str\n",
      " |      \n",
      " |      Return a formatted version of S, using substitutions from mapping.\n",
      " |      The substitutions are identified by braces ('{' and '}').\n",
      " |  \n",
      " |  index(...)\n",
      " |      S.index(sub[, start[, end]]) -> int\n",
      " |      \n",
      " |      Return the lowest index in S where substring sub is found, \n",
      " |      such that sub is contained within S[start:end].  Optional\n",
      " |      arguments start and end are interpreted as in slice notation.\n",
      " |      \n",
      " |      Raises ValueError when the substring is not found.\n",
      " |  \n",
      " |  isalnum(self, /)\n",
      " |      Return True if the string is an alpha-numeric string, False otherwise.\n",
      " |      \n",
      " |      A string is alpha-numeric if all characters in the string are alpha-numeric and\n",
      " |      there is at least one character in the string.\n",
      " |  \n",
      " |  isalpha(self, /)\n",
      " |      Return True if the string is an alphabetic string, False otherwise.\n",
      " |      \n",
      " |      A string is alphabetic if all characters in the string are alphabetic and there\n",
      " |      is at least one character in the string.\n",
      " |  \n",
      " |  isascii(self, /)\n",
      " |      Return True if all characters in the string are ASCII, False otherwise.\n",
      " |      \n",
      " |      ASCII characters have code points in the range U+0000-U+007F.\n",
      " |      Empty string is ASCII too.\n",
      " |  \n",
      " |  isdecimal(self, /)\n",
      " |      Return True if the string is a decimal string, False otherwise.\n",
      " |      \n",
      " |      A string is a decimal string if all characters in the string are decimal and\n",
      " |      there is at least one character in the string.\n",
      " |  \n",
      " |  isdigit(self, /)\n",
      " |      Return True if the string is a digit string, False otherwise.\n",
      " |      \n",
      " |      A string is a digit string if all characters in the string are digits and there\n",
      " |      is at least one character in the string.\n",
      " |  \n",
      " |  isidentifier(self, /)\n",
      " |      Return True if the string is a valid Python identifier, False otherwise.\n",
      " |      \n",
      " |      Use keyword.iskeyword() to test for reserved identifiers such as \"def\" and\n",
      " |      \"class\".\n",
      " |  \n",
      " |  islower(self, /)\n",
      " |      Return True if the string is a lowercase string, False otherwise.\n",
      " |      \n",
      " |      A string is lowercase if all cased characters in the string are lowercase and\n",
      " |      there is at least one cased character in the string.\n",
      " |  \n",
      " |  isnumeric(self, /)\n",
      " |      Return True if the string is a numeric string, False otherwise.\n",
      " |      \n",
      " |      A string is numeric if all characters in the string are numeric and there is at\n",
      " |      least one character in the string.\n",
      " |  \n",
      " |  isprintable(self, /)\n",
      " |      Return True if the string is printable, False otherwise.\n",
      " |      \n",
      " |      A string is printable if all of its characters are considered printable in\n",
      " |      repr() or if it is empty.\n",
      " |  \n",
      " |  isspace(self, /)\n",
      " |      Return True if the string is a whitespace string, False otherwise.\n",
      " |      \n",
      " |      A string is whitespace if all characters in the string are whitespace and there\n",
      " |      is at least one character in the string.\n",
      " |  \n",
      " |  istitle(self, /)\n",
      " |      Return True if the string is a title-cased string, False otherwise.\n",
      " |      \n",
      " |      In a title-cased string, upper- and title-case characters may only\n",
      " |      follow uncased characters and lowercase characters only cased ones.\n",
      " |  \n",
      " |  isupper(self, /)\n",
      " |      Return True if the string is an uppercase string, False otherwise.\n",
      " |      \n",
      " |      A string is uppercase if all cased characters in the string are uppercase and\n",
      " |      there is at least one cased character in the string.\n",
      " |  \n",
      " |  join(self, iterable, /)\n",
      " |      Concatenate any number of strings.\n",
      " |      \n",
      " |      The string whose method is called is inserted in between each given string.\n",
      " |      The result is returned as a new string.\n",
      " |      \n",
      " |      Example: '.'.join(['ab', 'pq', 'rs']) -> 'ab.pq.rs'\n",
      " |  \n",
      " |  ljust(self, width, fillchar=' ', /)\n",
      " |      Return a left-justified string of length width.\n",
      " |      \n",
      " |      Padding is done using the specified fill character (default is a space).\n",
      " |  \n",
      " |  lower(self, /)\n",
      " |      Return a copy of the string converted to lowercase.\n",
      " |  \n",
      " |  lstrip(self, chars=None, /)\n",
      " |      Return a copy of the string with leading whitespace removed.\n",
      " |      \n",
      " |      If chars is given and not None, remove characters in chars instead.\n",
      " |  \n",
      " |  partition(self, sep, /)\n",
      " |      Partition the string into three parts using the given separator.\n",
      " |      \n",
      " |      This will search for the separator in the string.  If the separator is found,\n",
      " |      returns a 3-tuple containing the part before the separator, the separator\n",
      " |      itself, and the part after it.\n",
      " |      \n",
      " |      If the separator is not found, returns a 3-tuple containing the original string\n",
      " |      and two empty strings.\n",
      " |  \n",
      " |  replace(self, old, new, count=-1, /)\n",
      " |      Return a copy with all occurrences of substring old replaced by new.\n",
      " |      \n",
      " |        count\n",
      " |          Maximum number of occurrences to replace.\n",
      " |          -1 (the default value) means replace all occurrences.\n",
      " |      \n",
      " |      If the optional argument count is given, only the first count occurrences are\n",
      " |      replaced.\n",
      " |  \n",
      " |  rfind(...)\n",
      " |      S.rfind(sub[, start[, end]]) -> int\n",
      " |      \n",
      " |      Return the highest index in S where substring sub is found,\n",
      " |      such that sub is contained within S[start:end].  Optional\n",
      " |      arguments start and end are interpreted as in slice notation.\n",
      " |      \n",
      " |      Return -1 on failure.\n",
      " |  \n",
      " |  rindex(...)\n",
      " |      S.rindex(sub[, start[, end]]) -> int\n",
      " |      \n",
      " |      Return the highest index in S where substring sub is found,\n",
      " |      such that sub is contained within S[start:end].  Optional\n",
      " |      arguments start and end are interpreted as in slice notation.\n",
      " |      \n",
      " |      Raises ValueError when the substring is not found.\n",
      " |  \n",
      " |  rjust(self, width, fillchar=' ', /)\n",
      " |      Return a right-justified string of length width.\n",
      " |      \n",
      " |      Padding is done using the specified fill character (default is a space).\n",
      " |  \n",
      " |  rpartition(self, sep, /)\n",
      " |      Partition the string into three parts using the given separator.\n",
      " |      \n",
      " |      This will search for the separator in the string, starting at the end. If\n",
      " |      the separator is found, returns a 3-tuple containing the part before the\n",
      " |      separator, the separator itself, and the part after it.\n",
      " |      \n",
      " |      If the separator is not found, returns a 3-tuple containing two empty strings\n",
      " |      and the original string.\n",
      " |  \n",
      " |  rsplit(self, /, sep=None, maxsplit=-1)\n",
      " |      Return a list of the words in the string, using sep as the delimiter string.\n",
      " |      \n",
      " |        sep\n",
      " |          The delimiter according which to split the string.\n",
      " |          None (the default value) means split according to any whitespace,\n",
      " |          and discard empty strings from the result.\n",
      " |        maxsplit\n",
      " |          Maximum number of splits to do.\n",
      " |          -1 (the default value) means no limit.\n",
      " |      \n",
      " |      Splits are done starting at the end of the string and working to the front.\n",
      " |  \n",
      " |  rstrip(self, chars=None, /)\n",
      " |      Return a copy of the string with trailing whitespace removed.\n",
      " |      \n",
      " |      If chars is given and not None, remove characters in chars instead.\n",
      " |  \n",
      " |  split(self, /, sep=None, maxsplit=-1)\n",
      " |      Return a list of the words in the string, using sep as the delimiter string.\n",
      " |      \n",
      " |      sep\n",
      " |        The delimiter according which to split the string.\n",
      " |        None (the default value) means split according to any whitespace,\n",
      " |        and discard empty strings from the result.\n",
      " |      maxsplit\n",
      " |        Maximum number of splits to do.\n",
      " |        -1 (the default value) means no limit.\n",
      " |  \n",
      " |  splitlines(self, /, keepends=False)\n",
      " |      Return a list of the lines in the string, breaking at line boundaries.\n",
      " |      \n",
      " |      Line breaks are not included in the resulting list unless keepends is given and\n",
      " |      true.\n",
      " |  \n",
      " |  startswith(...)\n",
      " |      S.startswith(prefix[, start[, end]]) -> bool\n",
      " |      \n",
      " |      Return True if S starts with the specified prefix, False otherwise.\n",
      " |      With optional start, test S beginning at that position.\n",
      " |      With optional end, stop comparing S at that position.\n",
      " |      prefix can also be a tuple of strings to try.\n",
      " |  \n",
      " |  strip(self, chars=None, /)\n",
      " |      Return a copy of the string with leading and trailing whitespace remove.\n",
      " |      \n",
      " |      If chars is given and not None, remove characters in chars instead.\n",
      " |  \n",
      " |  swapcase(self, /)\n",
      " |      Convert uppercase characters to lowercase and lowercase characters to uppercase.\n",
      " |  \n",
      " |  title(self, /)\n",
      " |      Return a version of the string where each word is titlecased.\n",
      " |      \n",
      " |      More specifically, words start with uppercased characters and all remaining\n",
      " |      cased characters have lower case.\n",
      " |  \n",
      " |  translate(self, table, /)\n",
      " |      Replace each character in the string using the given translation table.\n",
      " |      \n",
      " |        table\n",
      " |          Translation table, which must be a mapping of Unicode ordinals to\n",
      " |          Unicode ordinals, strings, or None.\n",
      " |      \n",
      " |      The table must implement lookup/indexing via __getitem__, for instance a\n",
      " |      dictionary or list.  If this operation raises LookupError, the character is\n",
      " |      left untouched.  Characters mapped to None are deleted.\n",
      " |  \n",
      " |  upper(self, /)\n",
      " |      Return a copy of the string converted to uppercase.\n",
      " |  \n",
      " |  zfill(self, width, /)\n",
      " |      Pad a numeric string with zeros on the left, to fill a field of the given width.\n",
      " |      \n",
      " |      The string is never truncated.\n",
      " |  \n",
      " |  ----------------------------------------------------------------------\n",
      " |  Static methods defined here:\n",
      " |  \n",
      " |  __new__(*args, **kwargs) from builtins.type\n",
      " |      Create and return a new object.  See help(type) for accurate signature.\n",
      " |  \n",
      " |  maketrans(x, y=None, z=None, /)\n",
      " |      Return a translation table usable for str.translate().\n",
      " |      \n",
      " |      If there is only one argument, it must be a dictionary mapping Unicode\n",
      " |      ordinals (integers) or characters to Unicode ordinals, strings or None.\n",
      " |      Character keys will be then converted to ordinals.\n",
      " |      If there are two arguments, they must be strings of equal length, and\n",
      " |      in the resulting dictionary, each character in x will be mapped to the\n",
      " |      character at the same position in y. If there is a third argument, it\n",
      " |      must be a string, whose characters will be mapped to None in the result.\n",
      "\n"
     ]
    }
   ],
   "source": [
    "help(str)"
   ]
  },
  {
   "cell_type": "code",
   "execution_count": 65,
   "metadata": {},
   "outputs": [
    {
     "name": "stdout",
     "output_type": "stream",
     "text": [
      "ab~cd~ef\n"
     ]
    }
   ],
   "source": [
    "s = \"~\"\n",
    "\n",
    "print(s.join(['ab','cd','ef']))"
   ]
  },
  {
   "cell_type": "code",
   "execution_count": null,
   "metadata": {},
   "outputs": [],
   "source": []
  }
 ],
 "metadata": {
  "kernelspec": {
   "display_name": "Python 3",
   "language": "python",
   "name": "python3"
  },
  "language_info": {
   "codemirror_mode": {
    "name": "ipython",
    "version": 3
   },
   "file_extension": ".py",
   "mimetype": "text/x-python",
   "name": "python",
   "nbconvert_exporter": "python",
   "pygments_lexer": "ipython3",
   "version": "3.7.3"
  }
 },
 "nbformat": 4,
 "nbformat_minor": 2
}
