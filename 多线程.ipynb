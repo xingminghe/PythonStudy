{
 "cells": [
  {
   "cell_type": "markdown",
   "metadata": {},
   "source": [
    "# 1  环境\n",
    "- xubuntu 16.04\n",
    "- anaconda\n",
    "- pycharm\n",
    "- python3.6\n",
    "- https://www.cnblogs.com/jokerbj/p/7460260.html\n",
    "- http://www.dabeaz.com/python/UnderstandingGIL.pdf"
   ]
  },
  {
   "cell_type": "markdown",
   "metadata": {},
   "source": [
    "# 多线程 vs 多进程\n",
    "- 程序：一堆代码以文本形式存入一个文档\n",
    "- 进程： 程序运行的一个状态\n",
    "    - 包含地址空间，内存，数据栈等\n",
    "    - 每个进程由自己完全独立的运行环境，多进程共享数据是一个问题\n",
    "- 线程\n",
    "    - 一个进程的独立运行片段，一个进程可以由多个线程\n",
    "    - 轻量化的进程\n",
    "    - 一个进程的多个线程间共享数据和上下文运行环境\n",
    "    - 共享互斥问题\n",
    "- 全局解释器锁（GIL – global interpreter lock）\n",
    "    - Python代码的执行是由python虚拟机进行控制\n",
    "    - 在主循环中只能有一个控制线程在执行\n",
    "- Python包\n",
    "    - thread：有问题，不好用，python3改成了_thread\n",
    "    - threading: 通行的包\n",
    "    - 案例01: 顺序执行，耗时比较长\n",
    "    - 案例02： 改用多线程，缩短总时间，使用_thread\n",
    "    - 案例03： 多线程，传参数"
   ]
  },
  {
   "cell_type": "markdown",
   "metadata": {},
   "source": [
    "# threading的使用\n",
    "- 直接利用threading.Thread生成Thread实例\n",
    "- t = threading.Thread(target=xxx, args=(xxx,))t.start():启动多线程\n",
    "- t.join(): 等待多线程执行完成\n",
    "- 案例04\n",
    "- 案例05: 加入join后比较跟案例04的结果的异同"
   ]
  },
  {
   "cell_type": "markdown",
   "metadata": {},
   "source": [
    "# 守护线程-daemon\n",
    "- 如果在程序中将子线程设置成守护线程，则子线程会在主线程结束的时候自动退出\n",
    "- 一般认为，守护线程不重要或者不允许离开主线程独立运行\n",
    "- 守护线程案例能否有效果跟环境相关\n",
    "- 案例06非守护线程\n",
    "- 案例07守护线程"
   ]
  },
  {
   "cell_type": "markdown",
   "metadata": {},
   "source": [
    "# 线程常用属性\n",
    "- threading.currentThread：返回当前线程变量\n",
    "- threading.enumerate:返回一个包含正在运行的线程的list，正在运行的线程指的是线程启动后，结束前的状态\n",
    "- threading.activeCount: 返回正在运行的线程数量，效果跟 len(threading.enumerate)相同\n",
    "- thr.setName: 给线程设置名字\n",
    "- thr.getName: 得到线程的名字\n",
    "- 案例08"
   ]
  },
  {
   "cell_type": "code",
   "execution_count": null,
   "metadata": {},
   "outputs": [],
   "source": []
  }
 ],
 "metadata": {
  "kernelspec": {
   "display_name": "Python 3",
   "language": "python",
   "name": "python3"
  },
  "language_info": {
   "codemirror_mode": {
    "name": "ipython",
    "version": 3
   },
   "file_extension": ".py",
   "mimetype": "text/x-python",
   "name": "python",
   "nbconvert_exporter": "python",
   "pygments_lexer": "ipython3",
   "version": "3.7.3"
  }
 },
 "nbformat": 4,
 "nbformat_minor": 2
}
