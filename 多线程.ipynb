{
 "cells": [
  {
   "cell_type": "markdown",
   "metadata": {},
   "source": [
    "# 1  环境\n",
    "- xubuntu 16.04\n",
    "- anaconda\n",
    "- pycharm\n",
    "- python3.6\n",
    "- https://www.cnblogs.com/jokerbj/p/7460260.html\n",
    "- http://www.dabeaz.com/python/UnderstandingGIL.pdf"
   ]
  },
  {
   "cell_type": "markdown",
   "metadata": {},
   "source": [
    "# 多线程 vs 多进程\n",
    "- 程序：一堆代码以文本形式存入一个文档\n",
    "- 进程： 程序运行的一个状态\n",
    "    - 包含地址空间，内存，数据栈等\n",
    "    - 每个进程由自己完全独立的运行环境，多进程共享数据是一个问题\n",
    "- 线程\n",
    "    - 一个进程的独立运行片段，一个进程可以由多个线程\n",
    "    - 轻量化的进程\n",
    "    - 一个进程的多个线程间共享数据和上下文运行环境\n",
    "    - 共享互斥问题\n",
    "- 全局解释器锁（GIL – global interpreter lock）\n",
    "    - Python代码的执行是由python虚拟机进行控制\n",
    "    - 在主循环中只能有一个控制线程在执行\n",
    "- Python包\n",
    "    - thread：有问题，不好用，python3改成了_thread\n",
    "    - threading: 通行的包\n",
    "    - 案例01: 顺序执行，耗时比较长\n",
    "    - 案例02： 改用多线程，缩短总时间，使用_thread\n",
    "    - 案例03： 多线程，传参数"
   ]
  },
  {
   "cell_type": "markdown",
   "metadata": {},
   "source": [
    "# threading的使用\n",
    "- 直接利用threading.Thread生成Thread实例\n",
    "- t = threading.Thread(target=xxx, args=(xxx,))t.start():启动多线程\n",
    "- t.join(): 等待多线程执行完成\n",
    "- 案例04\n",
    "- 案例05: 加入join后比较跟案例04的结果的异同"
   ]
  },
  {
   "cell_type": "markdown",
   "metadata": {},
   "source": [
    "# 守护线程-daemon\n",
    "- 如果在程序中将子线程设置成守护线程，则子线程会在主线程结束的时候自动退出\n",
    "- 一般认为，守护线程不重要或者不允许离开主线程独立运行\n",
    "- 守护线程案例能否有效果跟环境相关\n",
    "- 案例06非守护线程\n",
    "- 案例07守护线程"
   ]
  },
  {
   "cell_type": "markdown",
   "metadata": {},
   "source": [
    "# 线程常用属性\n",
    "- threading.currentThread：返回当前线程变量\n",
    "- threading.enumerate:返回一个包含正在运行的线程的list，正在运行的线程指的是线程启动后，结束前的状态\n",
    "- threading.activeCount: 返回正在运行的线程数量，效果跟 len(threading.enumerate)相同\n",
    "- thr.setName: 给线程设置名字\n",
    "- thr.getName: 得到线程的名字\n",
    "- 案例08"
   ]
  },
  {
   "cell_type": "markdown",
   "metadata": {},
   "source": [
    "# 直接继承自threading.Thread\n",
    "- 直接继承Thread\n",
    "- 重写run函数\n",
    "- 类实例可以直接运行\n",
    "- 案例09\n",
    "- 案例10，工业风案例"
   ]
  },
  {
   "cell_type": "markdown",
   "metadata": {},
   "source": [
    "# 共享变量\n",
    "- 共享变量： 当多个现成同时访问一个变量的时候，会产生共享变量的问题\n",
    "- 案例11\n",
    "- 解决变量：锁，信号灯，\n",
    "- 锁（Lock）：\n",
    "    - 是一个标志，表示一个线程在占用一些资源\n",
    "    - 使用方法：\n",
    "        - 上锁\n",
    "        - 使用共享资源，放心的用\n",
    "        - 取消锁，释放锁\n",
    "    - 案例12\n",
    "    - 锁谁： 哪个资源需要多个线程共享，锁哪个\n",
    "    - 理解锁：锁其实不是锁住谁，而是一个令牌\n",
    "- 线程安全问题：\n",
    "    - 如果一个资源/变量，他对于多线程来讲，不用加锁也不会引起任何问题，则称为线程安全\n",
    "    - 线程不安全变量类型： list, set, dict\n",
    "    - 线程安全变量类型： queue"
   ]
  },
  {
   "cell_type": "markdown",
   "metadata": {},
   "source": [
    "- 生产者消费者问题\n",
    "    - 一个模型，可以用来搭建消息队列，\n",
    "    - queue是一个用来存放变量的数据结构，特点是先进先出，内部元素排队，可以理解成一个特殊的list\n",
    "- 死锁问题, 案例14\n",
    "- 锁的等待时间问题， v15\n",
    "- semaphore\n",
    "    - 允许一个资源最多由几个多线程同时使用\n",
    "    - 案例16\n",
    "- threading.Timer\n",
    "    - 案例17\n",
    "    - Timer是利用多线程，在指定时间后启动一个功能\n",
    "- 可重入锁\n",
    "    - 一个锁，可以被一个线程多次申请\n",
    "    - 主要解决递归调用的时候，需要申请锁的情况\n",
    "    - 案例18"
   ]
  },
  {
   "cell_type": "markdown",
   "metadata": {},
   "source": [
    "# 线程替代方案"
   ]
  },
  {
   "cell_type": "markdown",
   "metadata": {},
   "source": [
    "- subprocess\n",
    "    - 完全跳过线程，使用进程\n",
    "    - 是派生进程的主要替代方案\n",
    "    - python2.4后引入\n",
    "- multiprocessiong\n",
    "    - 使用threadiing借口派生，使用子进程\n",
    "    - 允许为多核或者多cpu派生进程，接口跟threading非常相似\n",
    "    - python2.6\n",
    "- concurrent.futures\n",
    "    - 新的异步执行模块\n",
    "    - 任务级别的操作\n",
    "    - python3.2后引入"
   ]
  },
  {
   "cell_type": "markdown",
   "metadata": {},
   "source": [
    "# 多进程\n",
    "- 进程间通讯(Inter process Communication, IPC )\n",
    "- 进程之间无任何共享状态\n",
    "- 进程的创建\n",
    "    - 直接生成Process实例对象， 案例19\n",
    "    - 派生子类， 案例20\n",
    "- 在os中查看pid，ppid以及他们的关系\n",
    "    - 案例21"
   ]
  },
  {
   "cell_type": "markdown",
   "metadata": {},
   "source": [
    "# 生产者消费者模型\n",
    "- JoinableQueue\n",
    "- 案例22\n",
    "- 队列中哨兵的使用, 案例23\n",
    "- 哨兵的改进， 案例24"
   ]
  }
 ],
 "metadata": {
  "kernelspec": {
   "display_name": "Python 3",
   "language": "python",
   "name": "python3"
  },
  "language_info": {
   "codemirror_mode": {
    "name": "ipython",
    "version": 3
   },
   "file_extension": ".py",
   "mimetype": "text/x-python",
   "name": "python",
   "nbconvert_exporter": "python",
   "pygments_lexer": "ipython3",
   "version": "3.7.3"
  }
 },
 "nbformat": 4,
 "nbformat_minor": 2
}
