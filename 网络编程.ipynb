{
 "cells": [
  {
   "cell_type": "markdown",
   "metadata": {},
   "source": [
    "# 网络编程\n",
    "- 网络编程\n",
    "- 网络协议： 一套规则\n",
    "- 网络模型：\n",
    "    - 七层模型-七层\n",
    "        - 物理层\n",
    "        - 数据链路层\n",
    "        - 网络层\n",
    "        - 传输层\n",
    "        - 会话层\n",
    "        - 表示层\n",
    "        - 应用层\n",
    "    - 四层模型-实际应用\n",
    "        - 链路层\n",
    "        - 网络\n",
    "        - 传输层\n",
    "        - 应用层\n",
    "- 每一层都有相应的协议负责交换信息或者协同工作\n",
    "- TCP/IP 协议族\n",
    "    - TCP/IP 是供已连接因特网的计算机进行通信的通信协议\n",
    "    - TCP/IP 指传输控制协议/网际协议 (Transmission Control Protocol / Internet Protocol)。\n",
    "    - TCP/IP 定义了电子设备（比如计算机）如何连入因特网，以及数据如何在它们之间传输的标准。\n",
    "- P地址：负责在网络上唯一定位一个机器\n",
    "    - IP地址分ABCDE类\n",
    "    - 是由四个数字段组成，每个数字段的取值是0-255\n",
    "    - 192.168.xxx.xxx:局域网ip\n",
    "    - 127.0.0.1：本机\n",
    "    - IPv4, IPv6\n",
    "- 端口\n",
    "    - 范围： 0-65535\n",
    "        - 知名端口：0-1023\n",
    "        - 非知名端口：1024-"
   ]
  },
  {
   "cell_type": "markdown",
   "metadata": {},
   "source": [
    "# TCP/UDP协议\n",
    "- UDP：非安全的不面向链接的传输\n",
    "    - 安全性差\n",
    "    - 大小限制64kb\n",
    "    - 没有顺序\n",
    "    - 速度快\n",
    "    \n",
    "    \n",
    "- TCP\n",
    "    - 基于链接的通信\n",
    "    \n",
    "    \n",
    "- Socket编程\n",
    "    - socket（套接字）: 是一个网络通信的端点， 能实现不同主机的进程通信，网络大多基于Socket通信\n",
    "    - 通过IP+端口定位对方并发送消息的通信机制\n",
    "    - 分为UDP和TCP\n",
    "    - 客户端Client： 发起访问的一方\n",
    "    - 服务器端Server：接受访问的一方"
   ]
  },
  {
   "cell_type": "markdown",
   "metadata": {},
   "source": [
    "# UDP 编程\n",
    "- Server端流程\n",
    "    - 1. 建立socket，socket是负责具体通信的一个实例\n",
    "    - 2. 绑定，为创建的socket指派固定的端口和ip地址\n",
    "    - 3. 接受对方发送内容\n",
    "    - 4. 给对方发送反馈，此步骤为非必须步骤\n",
    "    \n",
    "    \n",
    "- Client端流程\n",
    "    - 1. 建立通信的socket\n",
    "    - 2. 发送内容到指定服务器\n",
    "    - 3. 接受服务器给定的反馈内容\n",
    "    \n",
    "    \n",
    "- 服务器 案例01\n",
    "- 客户端 案例02\n",
    "- 服务器程序要求永久运行，一般用死循环处理\n",
    "- 改造的服务器版本 案例03"
   ]
  },
  {
   "cell_type": "markdown",
   "metadata": {},
   "source": [
    "# TCP编程\n",
    "- 面向链接的传输，即每次传输之前需要先建立一个链接\n",
    "- 客户端和服务器端两个程序需要编写\n",
    "- Server端的编写流程\n",
    "\t- 建立socket负责具体通信，这个socket其实只负责接受对方的请求，真正通信的是链接后从新建立的socket\n",
    "\t- 绑定端口和地址\n",
    "\t- 监听接入的访问socket\n",
    "\t- 接受访问的socket，可以理解接受访问即建立了一个通讯的链接通路\n",
    "\t- 接受对方的发送内容，利用接收到的socket接收内容\n",
    "\t- 如果有必要，给对方发送反馈信息\n",
    "\t- 关闭链接通路\n",
    "\n",
    "\n",
    "- Client端流程\n",
    "\t- 建立通信socket\n",
    "\t- 链接对方，请求跟对方建立通路\n",
    "\t- 发送内容到对方服务器\n",
    "\t- 接受对方的反馈\n",
    "\t- 关闭链接通路\n",
    "- 案例04 服务器端\n",
    "- 案例05 客户端\n"
   ]
  }
 ],
 "metadata": {
  "kernelspec": {
   "display_name": "Python 3",
   "language": "python",
   "name": "python3"
  },
  "language_info": {
   "codemirror_mode": {
    "name": "ipython",
    "version": 3
   },
   "file_extension": ".py",
   "mimetype": "text/x-python",
   "name": "python",
   "nbconvert_exporter": "python",
   "pygments_lexer": "ipython3",
   "version": "3.7.3"
  }
 },
 "nbformat": 4,
 "nbformat_minor": 2
}
