{
 "cells": [
  {
   "cell_type": "markdown",
   "metadata": {},
   "source": [
    "# Log模块资料\n",
    "- https://www.cnblogs.com/yyds/p/6901864.html"
   ]
  },
  {
   "cell_type": "markdown",
   "metadata": {},
   "source": [
    "# Python语言的高级特性"
   ]
  },
  {
   "cell_type": "markdown",
   "metadata": {},
   "source": [
    "## 函数式编程（FunctionalProgramming）\n",
    "- 计划于lambda演算的一种编程方式\n",
    "    - 编程中只有函数\n",
    "    - 函数可以作为参数，同样可以作为返回值\n",
    "    - 纯函数式编程语言:LISP,Hashkell\n",
    "- Python函数式编程只是借鉴函数式编程的一些特点，可以理解成一半函数式一半Python\n",
    "- 需要讲述\n",
    "    - 高阶函数\n",
    "    - 返回函数\n",
    "    - 匿名函数\n",
    "    - 装饰器\n",
    "    - 偏函数"
   ]
  },
  {
   "cell_type": "markdown",
   "metadata": {},
   "source": [
    "### lambda表达式\n",
    "- 函数： 最大程度复用代码\n",
    "    - 存在问题： 如果函数很小，很短，则会造成啰嗦\n",
    "    - 如果函数被调用次数少，则会造成浪费\n",
    "    - 对于阅读者来说，造成阅读流程的被迫中断\n",
    "- lambda表达式（匿名函数）\n",
    "    - 一个表达式，函数体相对简单\n",
    "    - 不是一个代码块，仅仅是一个表达式\n",
    "    - 可以有参数，有多个参数也可以，用逗号隔开"
   ]
  },
  {
   "cell_type": "code",
   "execution_count": 3,
   "metadata": {},
   "outputs": [
    {
     "name": "stdout",
     "output_type": "stream",
     "text": [
      "7800\n",
      "654\n"
     ]
    }
   ],
   "source": [
    "# lambda表达式的用法\n",
    "# 1. 以lambda开头\n",
    "# 2. 紧跟一定的参数（如果有的话）\n",
    "# 3. 参数后用冒号和表达式主题隔开\n",
    "# 4. 只是一个表达式，所以，没有return\n",
    "\n",
    "\n",
    "# 计算一个数字的100倍数\n",
    "# 因为就是一个表达式，所以没有return\n",
    "stm = lambda x: 100 * x\n",
    "print(stm(78))\n",
    "# 使用上跟函数调用一样\n",
    "stm2 = lambda x,y,z: x + y*10 + z*100\n",
    "print(stm2(4,5,6))"
   ]
  },
  {
   "cell_type": "markdown",
   "metadata": {},
   "source": [
    "# 高阶函数\n",
    "- 把函数作为参数使用的函数"
   ]
  },
  {
   "cell_type": "code",
   "execution_count": 4,
   "metadata": {},
   "outputs": [
    {
     "name": "stdout",
     "output_type": "stream",
     "text": [
      "100\n",
      "<function funA at 0x0000010C30EC6E18>\n",
      "funA\n"
     ]
    }
   ],
   "source": [
    "# 函数名称就是一个变量值\n",
    "a = 100\n",
    "print(a) # 打印变量值\n",
    "\n",
    "def funA():\n",
    "    print(\"funA\")\n",
    "    \n",
    "print(funA) # 打印变量值\n",
    "funB = funA # 变量赋值\n",
    "funB() # 调用函数"
   ]
  },
  {
   "cell_type": "markdown",
   "metadata": {},
   "source": [
    "# 小结\n",
    "- 函数名称是变量\n",
    "- funA funB指向同一片内存\n",
    "- 函数名当变量，可被作为参数传入另一个函数（高阶函数）"
   ]
  },
  {
   "cell_type": "markdown",
   "metadata": {},
   "source": [
    "## 高阶函数"
   ]
  },
  {
   "cell_type": "code",
   "execution_count": 6,
   "metadata": {},
   "outputs": [
    {
     "name": "stdout",
     "output_type": "stream",
     "text": [
      "900\n",
      "2700\n",
      "210\n"
     ]
    }
   ],
   "source": [
    "# 高阶函数举例\n",
    "# funA是普通函数，返回一个传入数字的100倍数字\n",
    "\n",
    "def funA(n):\n",
    "    return n * 100\n",
    "\n",
    "# 再写一函数，将传入参数乘以300倍，利用高阶函数\n",
    "def funB(n):\n",
    "    return funA(n) * 3\n",
    "\n",
    "print(funB(3))\n",
    "\n",
    "# 写个高阶函数\n",
    "def funC(f,n):\n",
    "    # 此函数是将n扩大3倍\n",
    "    return f(n) * 3\n",
    "\n",
    "print(funC(funA,9)) # 传入funA为100倍，funC为3倍，相乘为300倍。\n",
    "\n",
    "# 比较funC和funB,显然funC的写法优于funB\n",
    "def funD(n):\n",
    "    return n * 10\n",
    "\n",
    "# 需求变更，将n放大30倍，此时funB无法实现\n",
    "print(funC(funD,7)) # 传入funD为10倍，funC为3倍，相乘为30倍。"
   ]
  },
  {
   "cell_type": "markdown",
   "metadata": {},
   "source": [
    "### 系统高阶-map\n",
    "- 映射，原集合或列表中，每个元素按一定规则进行操作，结果生成一个新集合或列表\n",
    "- map函数系统提供具有映射功能的函数，返回值是一个迭代对象"
   ]
  },
  {
   "cell_type": "code",
   "execution_count": 23,
   "metadata": {},
   "outputs": [
    {
     "name": "stdout",
     "output_type": "stream",
     "text": [
      "[0, 1, 2, 3, 4, 5, 6, 7, 8, 9]\n",
      "[0, 10, 20, 30, 40, 50, 60, 70, 80, 90]\n",
      "**************************************************\n",
      "0\n",
      "10\n",
      "20\n",
      "30\n",
      "40\n",
      "50\n",
      "60\n",
      "70\n",
      "80\n",
      "90\n",
      "<class 'list'>\n",
      "[]\n"
     ]
    }
   ],
   "source": [
    "l1 = [i for i in range(10)]\n",
    "print(l1)\n",
    "l2 = []\n",
    "for i in l1:\n",
    "    l2.append(i*10)\n",
    "print(l2)\n",
    "\n",
    "\n",
    "print(\"*\"*50)\n",
    "\n",
    "def mapInt(n):\n",
    "    return n*10\n",
    "\n",
    "l3 = map(mapInt,l1)\n",
    "for i in l3:\n",
    "    print(i)\n",
    "\n",
    "l4 = []\n",
    "for i in l3:\n",
    "    l4.append(i)\n",
    "print(type(l4))\n",
    "print(l4)"
   ]
  }
 ],
 "metadata": {
  "kernelspec": {
   "display_name": "Python 3",
   "language": "python",
   "name": "python3"
  },
  "language_info": {
   "codemirror_mode": {
    "name": "ipython",
    "version": 3
   },
   "file_extension": ".py",
   "mimetype": "text/x-python",
   "name": "python",
   "nbconvert_exporter": "python",
   "pygments_lexer": "ipython3",
   "version": "3.7.3"
  }
 },
 "nbformat": 4,
 "nbformat_minor": 2
}
