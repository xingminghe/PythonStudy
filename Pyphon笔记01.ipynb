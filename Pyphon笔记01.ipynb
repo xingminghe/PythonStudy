{
 "cells": [
  {
   "cell_type": "markdown",
   "metadata": {},
   "source": [
    "# 布尔值\n",
    "- 布尔值是用来表示真假的值\n",
    "- 只有两个值 ：True/False\n",
    "- 在Python中，布尔值可以当数字使用\n",
    "    - 布尔值如果当数字使用，True=1，False=0\n",
    "    - 如果数字用来当作布尔值使用，0=False，其余当做True"
   ]
  },
  {
   "cell_type": "code",
   "execution_count": 5,
   "metadata": {},
   "outputs": [
    {
     "name": "stdout",
     "output_type": "stream",
     "text": [
      "19\n",
      "负数是True\n"
     ]
    }
   ],
   "source": [
    "#布尔值当数值使用\n",
    "age = 18 + True\n",
    "print(age)\n",
    "\n",
    "#判断语句\n",
    "a = -1\n",
    "if a:\n",
    "    print(\"负数是True\")\n",
    "else:\n",
    "    print(\"负数是False\")"
   ]
  },
  {
   "cell_type": "markdown",
   "metadata": {},
   "source": [
    "# 字符串\n",
    "- 表达文字信息的内容，比如“你好”\n",
    "- 形式上是引号引起来的一段内容\n",
    "- 引号包括\n",
    "    - 单引号\n",
    "    - 双引号\n",
    "    - 三引号，可以用来表示多行信息\n",
    "- 单双引号含义一致"
   ]
  },
  {
   "cell_type": "code",
   "execution_count": 6,
   "metadata": {},
   "outputs": [
    {
     "name": "stdout",
     "output_type": "stream",
     "text": [
      "I love U\n",
      "I love U too\n",
      "\n",
      "你好\n",
      "很高兴认识你\n",
      "你叫什么\n",
      "\n"
     ]
    }
   ],
   "source": [
    "# 字符串案列\n",
    "love = \"I love U\"\n",
    "print(love)\n",
    "\n",
    "love2 = 'I love U too'\n",
    "\n",
    "print(love2)\n",
    "\n",
    "# 三引号可以表示多行\n",
    "love3 = \"\"\"\n",
    "你好\n",
    "很高兴认识你\n",
    "你叫什么\n",
    "\"\"\"\n",
    "print(love3)"
   ]
  },
  {
   "cell_type": "markdown",
   "metadata": {},
   "source": [
    "# None类型\n",
    "- 表示没有，通常用来站位\n",
    "- 比如返回，用来表示返回一个空"
   ]
  },
  {
   "cell_type": "markdown",
   "metadata": {},
   "source": [
    "# 表达式\n",
    "- 由一个或者几个数字或者变量或者运算符合成的一行代码\n",
    "- 通常返回一个结果\n"
   ]
  },
  {
   "cell_type": "markdown",
   "metadata": {},
   "source": [
    "# 运算符\n",
    "- 由一个以上的值经过一系列的运算得到新值的过程就叫运算\n",
    "- 用来操作运算的符号叫运算符\n",
    "- 运算符分类\n",
    "    - 算数运算符\n",
    "    - 比较或者关系运算符\n",
    "    - 赋值运算符\n",
    "    - 逻辑运算符\n",
    "    - 位运算\n",
    "    - 成员运算符\n",
    "    - 身份运算符"
   ]
  },
  {
   "cell_type": "code",
   "execution_count": 1,
   "metadata": {},
   "outputs": [],
   "source": [
    "# 表达式案例\n",
    "a = 1+2"
   ]
  },
  {
   "cell_type": "markdown",
   "metadata": {},
   "source": [
    "## 算数运算符\n",
    "- 用来运行算数运算的符号\n",
    "- 通常用来表示加减乘除\n",
    "- python没有自增自减运算符"
   ]
  },
  {
   "cell_type": "code",
   "execution_count": 23,
   "metadata": {},
   "outputs": [
    {
     "name": "stdout",
     "output_type": "stream",
     "text": [
      "7\n",
      "11\n",
      "18\n",
      "4.5\n",
      "9.0\n",
      "1\n",
      "-3\n",
      "27\n"
     ]
    }
   ],
   "source": [
    "# 算数运算符案例\n",
    "# 加减乘除跟数学意义基本一致\n",
    "a = 9 - 2\n",
    "print(a)\n",
    "\n",
    "b = 9 + 2\n",
    "print(b)\n",
    "\n",
    "c = 9 * 2\n",
    "print(c)\n",
    "\n",
    "# pythone 的除法分为：普通除，地板除，取余\n",
    "\n",
    "# 普通除法\n",
    "d = 9 / 2\n",
    "print(d)\n",
    "\n",
    "# 地板除,取整\n",
    "\n",
    "e = 9.12 // 1\n",
    "print(e)\n",
    "\n",
    "# 取余\n",
    "\n",
    "f = 9 % 2\n",
    "print(f)\n",
    "\n",
    "g = 9 % -4\n",
    "print(g)\n",
    "\n",
    "#指数，两个乘号代表指数\n",
    "h = 3**3\n",
    "print(h)\n"
   ]
  },
  {
   "cell_type": "markdown",
   "metadata": {},
   "source": [
    "# 比较运算符\n",
    "- 对两个内容进行比较运算\n",
    "- 结果一定是布尔值，即 True/False\n"
   ]
  },
  {
   "cell_type": "code",
   "execution_count": 8,
   "metadata": {},
   "outputs": [
    {
     "name": "stdout",
     "output_type": "stream",
     "text": [
      "False\n",
      "True\n"
     ]
    }
   ],
   "source": [
    "# 等于 ==\n",
    "a = 3 == 4\n",
    "print(a)\n",
    "\n",
    "# 不等于 !=\n",
    "\n",
    "b = 3!=4\n",
    "print(b)\n",
    "\n",
    "# 大于 >, 大于等于>=, 小于<,小于等于<="
   ]
  },
  {
   "cell_type": "markdown",
   "metadata": {},
   "source": [
    "# 赋值运算符\n",
    "- 把一个值放到变量里面去"
   ]
  },
  {
   "cell_type": "code",
   "execution_count": 13,
   "metadata": {},
   "outputs": [
    {
     "name": "stdout",
     "output_type": "stream",
     "text": [
      "103\n"
     ]
    }
   ],
   "source": [
    "# 赋值运算符\n",
    "a = 9\n",
    "\n",
    "# 复杂赋值\n",
    "a = b = 9\n",
    "\n",
    "a,b = 1,2\n",
    "\n",
    "# 赋值的缩写\n",
    "aa = 100\n",
    "aa += 3\n",
    "print(aa)\n",
    "\n",
    "# 所有的数学运算符都可以缩写\n",
    "+= -+ *= /= //= %= **="
   ]
  },
  {
   "cell_type": "markdown",
   "metadata": {},
   "source": [
    "# 逻辑运算符\n",
    "- 对布尔类型变量或者值进行运算的符号\n",
    "- and：逻辑与\n",
    "- or：逻辑或\n",
    "- not：逻辑非\n",
    "- python 里面的逻辑运算没有异或\n",
    "- 运算规则\n",
    "    - and看做乘法，or看做加法\n",
    "    - True看做1，False看做0\n",
    "    - 则逻辑运算就能转换成整数数学运算\n",
    "    - 最后结果如果是0则为False，否则为True\n",
    "- 逻辑运算的短路问题\n",
    "        -逻辑运算式，按照运算顺序计算，一旦能够确定整个式子未来的结果值，就不再继续进行计算，直接返回"
   ]
  },
  {
   "cell_type": "code",
   "execution_count": 14,
   "metadata": {},
   "outputs": [
    {
     "name": "stdout",
     "output_type": "stream",
     "text": [
      "True\n",
      "False\n"
     ]
    }
   ],
   "source": [
    "# 逻辑表达举例\n",
    "a = True\n",
    "b = True\n",
    "c = False\n",
    "\n",
    "aa = a and b # 左边表达式可以转换成1*1\n",
    "print(aa)\n",
    "\n",
    "bb = a and c\n",
    "print(bb)"
   ]
  },
  {
   "cell_type": "markdown",
   "metadata": {},
   "source": [
    "# 成员运算符\n",
    "- 用来检测一个值或者变量是否在某个集合里面\n",
    "- in：成员运算符\n",
    "- not in：不再里面的意思"
   ]
  },
  {
   "cell_type": "code",
   "execution_count": 16,
   "metadata": {},
   "outputs": [
    {
     "name": "stdout",
     "output_type": "stream",
     "text": [
      "False\n",
      "True\n"
     ]
    }
   ],
   "source": [
    "# in 案例\n",
    "L = [1,2,3,4,5]\n",
    "a = 6\n",
    "aa = a in L\n",
    "print(aa)\n",
    "\n",
    "# a 没在里面\n",
    "aa = a not in L\n",
    "print(aa)"
   ]
  },
  {
   "cell_type": "markdown",
   "metadata": {},
   "source": [
    "# 身份运算符\n",
    "- 用来确定两个变量是否是同一变量\n",
    "- is：变量运算符\n",
    "- is not:不是"
   ]
  },
  {
   "cell_type": "code",
   "execution_count": 22,
   "metadata": {},
   "outputs": [
    {
     "name": "stdout",
     "output_type": "stream",
     "text": [
      "False\n",
      "True\n",
      "False\n"
     ]
    }
   ],
   "source": [
    "# 身份运算符案例\n",
    "a = 1\n",
    "b = 18\n",
    "aa = a is b\n",
    "print(aa)\n",
    "\n",
    "# 身份运算符案例2  a,b 进代表值一样，并不代表a,b是同一个变量\n",
    "#python对于-5到256的小数字做了特殊处理，不同变量如果值一样会同时指向同一个地址。\n",
    "a = 2\n",
    "b = 2\n",
    "aa = a is b\n",
    "print(aa)\n",
    "\n",
    "a = 99999\n",
    "b = 99999\n",
    "bb = a is b\n",
    "print(bb)"
   ]
  },
  {
   "cell_type": "markdown",
   "metadata": {},
   "source": [
    "# 多路分支\n",
    "- if 条件表达式:\n",
    "`    语句1\n",
    "    语句2\n",
    "    ....\n",
    "  elif 条件表达式:\n",
    "    语句1\n",
    "    ...\n",
    "  elif 条件表达式:\n",
    "    语句1\n",
    "    ....\n",
    "  else：\n",
    "    语句1\n",
    "    ...\n",
    "   `\n",
    "# if语句补充\n",
    "- if语句可以嵌套使用，但是不推荐\n",
    "- python里面没有switch语句"
   ]
  },
  {
   "cell_type": "code",
   "execution_count": 5,
   "metadata": {},
   "outputs": [
    {
     "name": "stdout",
     "output_type": "stream",
     "text": [
      "请输入你的成绩30\n",
      "起开，我没有你这学生！\n"
     ]
    }
   ],
   "source": [
    "score = input(\"请输入你的成绩\")\n",
    "score = int(score)\n",
    "if score >= 90:\n",
    "    print(\"A\")\n",
    "elif score >= 80:\n",
    "    print(\"B\")\n",
    "elif score >= 70:\n",
    "    print(\"C\")\n",
    "elif score >= 60:\n",
    "    print(\"D\")\n",
    "else:\n",
    "    print(\"起开，我没有你这学生！\")"
   ]
  },
  {
   "cell_type": "markdown",
   "metadata": {},
   "source": [
    "# 循环语句\n",
    "- 重复执行某一些固定的动作或者任务\n",
    "- 分类\n",
    "    - for\n",
    "    - while\n",
    "# for循环\n",
    "   ` for 变量 in 序列:\n",
    "        语句1\n",
    "        语句2\n",
    "        ....\n",
    "        `"
   ]
  },
  {
   "cell_type": "code",
   "execution_count": 9,
   "metadata": {},
   "outputs": [
    {
     "name": "stdout",
     "output_type": "stream",
     "text": [
      "1\n",
      "101\n",
      "1001\n",
      "2\n",
      "102\n",
      "1002\n",
      "3\n",
      "103\n",
      "1003\n",
      "4\n",
      "104\n",
      "1004\n",
      "5\n",
      "105\n",
      "1005\n",
      "6\n",
      "106\n",
      "1006\n",
      "7\n",
      "107\n",
      "1007\n"
     ]
    }
   ],
   "source": [
    "# 比如[1,2,3,4,5,6,7]\n",
    "list_one = [1,2,3,4,5,6,7]\n",
    "for number in list_one:\n",
    "    print(number)\n",
    "    print(number + 100)\n",
    "    print(number + 1000)"
   ]
  },
  {
   "cell_type": "code",
   "execution_count": 11,
   "metadata": {},
   "outputs": [
    {
     "name": "stdout",
     "output_type": "stream",
     "text": [
      "对不起同学，饶了老师吧\n",
      "对不起同学，饶了老师吧\n",
      "晓静你去了哪里\n"
     ]
    }
   ],
   "source": [
    "# 打印学生列表姓名\n",
    "\n",
    "stu_list = [\"王大燕\",\"李美丽\",\"王晓静\"]\n",
    "\n",
    "for stu in stu_list:\n",
    "    if stu == \"王晓静\":\n",
    "        print(\"晓静你去了哪里\")\n",
    "    else:\n",
    "        print(\"对不起同学，饶了老师吧\")"
   ]
  },
  {
   "cell_type": "code",
   "execution_count": 12,
   "metadata": {},
   "outputs": [
    {
     "name": "stdout",
     "output_type": "stream",
     "text": [
      "对不起同学，饶了老师吧\n",
      "对不起同学，饶了老师吧\n",
      "晓静你去了哪里\n",
      "不会再爱了\n"
     ]
    }
   ],
   "source": [
    "# for-else语句\n",
    "# for循环结束的时候，有时需要执行一些收尾工作，此时需要用else语句\n",
    "# else语句可选\n",
    "\n",
    "stu_list = [\"王大燕\",\"李美丽\",\"王晓静\"]\n",
    "\n",
    "for stu in stu_list:\n",
    "    if stu == \"王晓静\":\n",
    "        print(\"晓静你去了哪里\")\n",
    "    else:\n",
    "        print(\"对不起同学，饶了老师吧\")\n",
    "else:\n",
    "    print(\"不会再爱了\")"
   ]
  },
  {
   "cell_type": "markdown",
   "metadata": {},
   "source": [
    "# break, continue,pass\n",
    "- break: 无条件结束整个循环，简称循环猝死\n",
    "- continue:继续\n",
    "- pass： 占位符，代表这句啥也不干"
   ]
  },
  {
   "cell_type": "code",
   "execution_count": 16,
   "metadata": {},
   "outputs": [
    {
     "name": "stdout",
     "output_type": "stream",
     "text": [
      "3\n",
      "4\n",
      "5\n",
      "6\n",
      "7已经找打\n"
     ]
    }
   ],
   "source": [
    "# 数字队列中，寻找数字7，如果找到，打印出来即可，并且结束\n",
    "dig_list = [3,4,5,6,7,34,56,24,87,3,7,23,89,45,7]\n",
    "for dig in dig_list:\n",
    "    if dig == 7:\n",
    "        print(\"7已经找打\")\n",
    "        \n",
    "        break\n",
    "    else:\n",
    "        print(dig)"
   ]
  },
  {
   "cell_type": "code",
   "execution_count": 29,
   "metadata": {},
   "outputs": [
    {
     "name": "stdout",
     "output_type": "stream",
     "text": [
      "3\n",
      "4\n",
      "5\n",
      "6\n",
      "7已经找打\n",
      "7发现第1次\n",
      "34\n",
      "56\n",
      "24\n",
      "87\n",
      "3\n",
      "7已经找打\n",
      "7发现第2次\n",
      "23\n",
      "89\n",
      "45\n",
      "7已经找打\n",
      "7发现第3次\n",
      "7共被发现3次\n"
     ]
    }
   ],
   "source": [
    "dig_list = [3,4,5,6,7,34,56,24,87,3,7,23,89,45,7]\n",
    "a = 0\n",
    "for dig in dig_list:\n",
    "    if dig == 7:\n",
    "        print(\"7已经找打\")\n",
    "        a +=1\n",
    "        print(\"7发现第%d次\"%a)\n",
    "        continue\n",
    "    else:\n",
    "        print(dig)\n",
    "print(\"7共被发现%d次\"%a)"
   ]
  },
  {
   "cell_type": "code",
   "execution_count": 31,
   "metadata": {},
   "outputs": [
    {
     "name": "stdout",
     "output_type": "stream",
     "text": [
      "你还小\n"
     ]
    }
   ],
   "source": [
    "# pass 占位符\n",
    "age = 19\n",
    "if age > 19:\n",
    "    pass\n",
    "else:\n",
    "    print(\"你还小\")"
   ]
  },
  {
   "cell_type": "markdown",
   "metadata": {},
   "source": [
    "# range函数\n",
    "- 生成有序数列\n",
    "- 生成数字队列可以定制\n",
    "- range生成的序列的两个数字是左包括右不包括"
   ]
  },
  {
   "cell_type": "code",
   "execution_count": 35,
   "metadata": {},
   "outputs": [
    {
     "name": "stdout",
     "output_type": "stream",
     "text": [
      "1\n",
      "2\n",
      "3\n",
      "4\n",
      "5\n",
      "6\n",
      "7\n",
      "8\n",
      "9\n",
      "10\n"
     ]
    }
   ],
   "source": [
    "#生成一个从1到10的数字序列\n",
    "#range生成的序列的两个数字是左包括右不包括\n",
    "dig_list = range(1,11)\n",
    "for dig in dig_list:\n",
    "    print(dig)\n",
    "\n",
    "# 一般在python中这个表示范围的数字都是左包括右不包括，randint函数是个特列"
   ]
  },
  {
   "cell_type": "code",
   "execution_count": 36,
   "metadata": {},
   "outputs": [
    {
     "name": "stdout",
     "output_type": "stream",
     "text": [
      "1\n",
      "2\n",
      "3\n",
      "4\n",
      "5\n",
      "6\n",
      "7\n",
      "8\n",
      "9\n"
     ]
    }
   ],
   "source": [
    "# range案列2\n",
    "#打印从1到9的数字\n",
    "for i in range(1,10):\n",
    "    print(i)"
   ]
  },
  {
   "cell_type": "markdown",
   "metadata": {},
   "source": [
    "# while循环\n",
    "- 一个循环语句\n",
    "- 表示条件成立的时候，就循环，适应不知道具体循环次数，但能确定在某个条件条件成立就循环\n",
    "- while语法：\n",
    "       `while条件表达式:\n",
    "           语句块\n",
    "        #另外一种表达方法\n",
    "        while 条件表达式:\n",
    "            语句1\n",
    "         else：\n",
    "             语句2\n",
    "             `"
   ]
  },
  {
   "cell_type": "code",
   "execution_count": 39,
   "metadata": {},
   "outputs": [
    {
     "name": "stdout",
     "output_type": "stream",
     "text": [
      "11\n",
      "11\n"
     ]
    }
   ],
   "source": [
    "# r如果说年利率是6.7%，本利是每年翻滚，则多少年后本钱会翻倍\n",
    "benqian = 10000\n",
    "year = 0\n",
    "while benqian < 20000:\n",
    "    benqian *=(1 + 0.067)\n",
    "    year += 1\n",
    "print(year)\n",
    "\n",
    "#年利率案例2\n",
    "while benqian < 20000:\n",
    "    benqian *=(1 + 0.067)\n",
    "    year += 1\n",
    "    \n",
    "else:\n",
    "    print(year)\n"
   ]
  },
  {
   "cell_type": "markdown",
   "metadata": {},
   "source": [
    "# 函数\n",
    "- 函数式代码的一种组织形式\n"
   ]
  },
  {
   "cell_type": "code",
   "execution_count": 6,
   "metadata": {},
   "outputs": [
    {
     "name": "stdout",
     "output_type": "stream",
     "text": [
      "03-001\n",
      "3.14\n"
     ]
    }
   ],
   "source": [
    "print('%02d-%03d' % (3, 1))\n",
    "print('%.2f' % 3.1415926)"
   ]
  },
  {
   "cell_type": "markdown",
   "metadata": {},
   "source": [
    "# 参数详解\n",
    "- 参数分类\n",
    "    - 普通参数/位置参数\n",
    "    - 默认参数\n",
    "    - 关键字参数\n",
    "    - 收集参数\n",
    "    "
   ]
  },
  {
   "cell_type": "code",
   "execution_count": 12,
   "metadata": {},
   "outputs": [
    {
     "name": "stdout",
     "output_type": "stream",
     "text": [
      "3\n"
     ]
    }
   ],
   "source": [
    "# 普通参数案列\n",
    "def normal_para(one,two,three):\n",
    "        print(one + two)\n",
    "        return None\n",
    "normal_para(1,2,3)"
   ]
  },
  {
   "cell_type": "code",
   "execution_count": 14,
   "metadata": {},
   "outputs": [
    {
     "name": "stdout",
     "output_type": "stream",
     "text": [
      "3\n"
     ]
    }
   ],
   "source": [
    "# 默认参数案列\n",
    "def default_para(one,two,three=100):\n",
    "    print(one + two)\n",
    "    return None\n",
    "default_para(1,2)\n"
   ]
  },
  {
   "cell_type": "code",
   "execution_count": 1,
   "metadata": {},
   "outputs": [
    {
     "name": "stdout",
     "output_type": "stream",
     "text": [
      "27\n",
      "20\n",
      "27\n",
      "20\n",
      "26\n",
      "21\n"
     ]
    }
   ],
   "source": [
    "# 关键字参数案列\n",
    "def keyword_para(one,two,three):\n",
    "    print(one + two)\n",
    "    print(three)\n",
    "    return None\n",
    "\n",
    "keyword_para(one=6,two=21,three=20)\n",
    "keyword_para(three=20,one=6,two=21)\n",
    "keyword_para(20,6,21)\n"
   ]
  },
  {
   "cell_type": "markdown",
   "metadata": {},
   "source": [
    "# str字符串\n",
    "- str\n",
    "- 转义字符\n",
    "- 格式化\n",
    "- 内建函数"
   ]
  },
  {
   "cell_type": "markdown",
   "metadata": {},
   "source": [
    "# 字符串\n",
    "- 表示文字信息\n",
    "- 用单引号，双引号，三引号括起来\n"
   ]
  },
  {
   "cell_type": "code",
   "execution_count": 21,
   "metadata": {},
   "outputs": [
    {
     "name": "stdout",
     "output_type": "stream",
     "text": [
      " ni hao a \n",
      "ni de ming zi shi \n",
      "\n",
      "hen\n",
      "gao\n",
      "xing\n",
      "ren\n",
      "shi\n",
      "ni\n",
      "\n"
     ]
    }
   ],
   "source": [
    "s = \" ni hao a \"\n",
    "print(s)\n",
    "\n",
    "s1 = 'ni de ming zi shi '\n",
    "print(s1)\n",
    "\n",
    "s2 = \"\"\"\n",
    "hen\n",
    "gao\n",
    "xing\n",
    "ren\n",
    "shi\n",
    "ni\n",
    "\"\"\"\n",
    "print(s2)"
   ]
  },
  {
   "cell_type": "markdown",
   "metadata": {},
   "source": [
    "# 转义字符\n",
    "- 用一个特色的方法表示出一系列不方便写出的内容，比如回车键，换行符，退格键\n",
    "- 借组反斜杠字符，一旦字符串中出现反斜杠，则反斜杠后面的一个或者几个字符表示 已经不是原来的意思了，进行了转义\n",
    "- 在字符串中，一旦出现反斜杠就要加倍小心，可能有转义字符出现\n",
    "- 不同系统对换行操作有不同的表示\n",
    "    - windows: \\n\n",
    "    - Linux: \\r\\n"
   ]
  },
  {
   "cell_type": "code",
   "execution_count": 29,
   "metadata": {},
   "outputs": [
    {
     "name": "stdout",
     "output_type": "stream",
     "text": [
      "Let's Go\n",
      "Let's Go\n",
      "c:\\user\\augsnano\n",
      "I\n",
      "love\n",
      "u\n"
     ]
    }
   ],
   "source": [
    "# 转义字符案例\n",
    "# 想表达LLet's Go\n",
    "# 使用转义字符\n",
    "s = 'Let\\'s Go'\n",
    "print(s)\n",
    "\n",
    "\n",
    "# 使用单双引号嵌套\n",
    "\n",
    "s = \"Let's Go\"\n",
    "print(s)\n",
    "\n",
    "\n",
    " \n",
    "# 表示斜杠\n",
    "# 比如表示C:\\user\\augsnano\n",
    "s = \"c:\\\\user\\\\augsnano\"\n",
    "print(s)\n",
    "\n",
    "\n",
    "# 回车换行\n",
    "# 想表达的效果是：\n",
    "# I\n",
    "# love\n",
    "# u\n",
    "s = \"I\\nlove\\nu\"\n",
    "print(s)"
   ]
  },
  {
   "cell_type": "markdown",
   "metadata": {},
   "source": [
    "# 常用转义字符\n"
   ]
  },
  {
   "cell_type": "code",
   "execution_count": 31,
   "metadata": {},
   "outputs": [
    {
     "name": "stdout",
     "output_type": "stream",
     "text": [
      "hhahahaha\n"
     ]
    }
   ],
   "source": [
    "# 单个斜杠的用法\n",
    "# 在python里，单个反斜杠表示此行未结束，出于美观需要下一行继续\n",
    "def myDemo(x,\\\n",
    "           y,\\\n",
    "           z):\n",
    "    return None\n",
    "print(\"hhahahaha\")\n",
    "myDemo(1,2,3)"
   ]
  },
  {
   "cell_type": "markdown",
   "metadata": {},
   "source": [
    "# 格式化\n",
    "- 把字符串按照一定的格式打印或者进行填充\n",
    "- 格式化分类\n",
    "    - 传统格式化\n",
    "    - format"
   ]
  },
  {
   "cell_type": "code",
   "execution_count": 32,
   "metadata": {},
   "outputs": [],
   "source": [
    "# 填充\n",
    "s = \"\"\n",
    "\n",
    "# 字符串传统格式化\n"
   ]
  },
  {
   "cell_type": "markdown",
   "metadata": {},
   "source": [
    "# 字符串传统格式化\n",
    "### 使用%进行格式化\n",
    "### %百分号，或者占位符\n"
   ]
  },
  {
   "cell_type": "code",
   "execution_count": 94,
   "metadata": {},
   "outputs": [
    {
     "name": "stdout",
     "output_type": "stream",
     "text": [
      "10 除以 3 等于3.33\n"
     ]
    }
   ],
   "source": [
    "# 百分号%格式化\n",
    "a = 10\n",
    "b = 3\n",
    "c = a / b\n",
    "print(\"%d 除以 %d 等于%.2f\"%(a,b,c))"
   ]
  },
  {
   "cell_type": "markdown",
   "metadata": {},
   "source": [
    "# format 格式化\n",
    "- 使用函数形式进行格式化，代替以前的百分号\n"
   ]
  },
  {
   "cell_type": "code",
   "execution_count": 38,
   "metadata": {},
   "outputs": [
    {
     "name": "stdout",
     "output_type": "stream",
     "text": [
      "hell world\n",
      "我们是图灵学院,我们的网址是www.tulingxueyuan.com,刘大拿最帅\n"
     ]
    }
   ],
   "source": [
    "# 不用指定位置，按顺序读取\n",
    "s = \"{0} {1}\"\n",
    "print(s.format(\"hell\", \"world\"))\n",
    "\n",
    "#使用命名参数\n",
    "\n",
    "s = \"我们是{school_name},我们的网址是{url},{teacher}最帅\"\n",
    "s = s.format(school_name=\"图灵学院\",url=\"www.tulingxueyuan.com\",teacher=\"刘大拿\")\n",
    "print(s)"
   ]
  },
  {
   "cell_type": "code",
   "execution_count": 39,
   "metadata": {},
   "outputs": [
    {
     "name": "stdout",
     "output_type": "stream",
     "text": [
      "我们是图灵学院,我们的网址是www.tulingxueyuan.com,刘大拿最帅\n"
     ]
    }
   ],
   "source": [
    "# 使用字典设置参数，需要解包\n",
    "\n",
    "s_dict = {\"school_name\":\"图灵学院\",\\\n",
    "          \"url\":\"www.tulingxueyuan.com\",\\\n",
    "          \"teacher\":\"刘大拿\"\n",
    "    \n",
    "}\n",
    "s = s.format(**s_dict)\n",
    "print(s)"
   ]
  },
  {
   "cell_type": "code",
   "execution_count": 6,
   "metadata": {},
   "outputs": [
    {
     "name": "stdout",
     "output_type": "stream",
     "text": [
      "我叫小明，我的身高是182.23，体重是67.34\n",
      "32\n"
     ]
    }
   ],
   "source": [
    "# 对数字的格式化需要用到\n",
    "\n",
    "s = \"我叫小明，我的身高是{:.2f}，体重是{:.2f}\"\n",
    "s = s.format(182.2342934,67.34234)\n",
    "print(s)\n",
    "\n",
    "#s1 = \"{0:d}\".format(32.2)\n",
    "print(\"%d\"%32.3)"
   ]
  },
  {
   "cell_type": "markdown",
   "metadata": {},
   "source": [
    "# str内置函数\n",
    "- 字符串查找类 find，index，islower\n",
    "- find：查找字符串中是否包含一个子串"
   ]
  },
  {
   "cell_type": "code",
   "execution_count": 59,
   "metadata": {},
   "outputs": [
    {
     "data": {
      "text/plain": [
       "32"
      ]
     },
     "execution_count": 59,
     "metadata": {},
     "output_type": "execute_result"
    }
   ],
   "source": [
    "s = \"liu dada love wang xiaojing and liuxiaojing\"\n",
    "s1 = \"liuxiaojing\"\n",
    "s.find(s1)\n",
    "s.index(s1)"
   ]
  },
  {
   "cell_type": "code",
   "execution_count": null,
   "metadata": {},
   "outputs": [],
   "source": [
    "### 判断类函数\n",
    "- 此类函数的特点是一版都用is开头，比如islower\n",
    "-  isalpha:判断是否是字母"
   ]
  },
  {
   "cell_type": "code",
   "execution_count": 60,
   "metadata": {},
   "outputs": [
    {
     "name": "stdout",
     "output_type": "stream",
     "text": [
      "Help on class str in module builtins:\n",
      "\n",
      "class str(object)\n",
      " |  str(object='') -> str\n",
      " |  str(bytes_or_buffer[, encoding[, errors]]) -> str\n",
      " |  \n",
      " |  Create a new string object from the given object. If encoding or\n",
      " |  errors is specified, then the object must expose a data buffer\n",
      " |  that will be decoded using the given encoding and error handler.\n",
      " |  Otherwise, returns the result of object.__str__() (if defined)\n",
      " |  or repr(object).\n",
      " |  encoding defaults to sys.getdefaultencoding().\n",
      " |  errors defaults to 'strict'.\n",
      " |  \n",
      " |  Methods defined here:\n",
      " |  \n",
      " |  __add__(self, value, /)\n",
      " |      Return self+value.\n",
      " |  \n",
      " |  __contains__(self, key, /)\n",
      " |      Return key in self.\n",
      " |  \n",
      " |  __eq__(self, value, /)\n",
      " |      Return self==value.\n",
      " |  \n",
      " |  __format__(self, format_spec, /)\n",
      " |      Return a formatted version of the string as described by format_spec.\n",
      " |  \n",
      " |  __ge__(self, value, /)\n",
      " |      Return self>=value.\n",
      " |  \n",
      " |  __getattribute__(self, name, /)\n",
      " |      Return getattr(self, name).\n",
      " |  \n",
      " |  __getitem__(self, key, /)\n",
      " |      Return self[key].\n",
      " |  \n",
      " |  __getnewargs__(...)\n",
      " |  \n",
      " |  __gt__(self, value, /)\n",
      " |      Return self>value.\n",
      " |  \n",
      " |  __hash__(self, /)\n",
      " |      Return hash(self).\n",
      " |  \n",
      " |  __iter__(self, /)\n",
      " |      Implement iter(self).\n",
      " |  \n",
      " |  __le__(self, value, /)\n",
      " |      Return self<=value.\n",
      " |  \n",
      " |  __len__(self, /)\n",
      " |      Return len(self).\n",
      " |  \n",
      " |  __lt__(self, value, /)\n",
      " |      Return self<value.\n",
      " |  \n",
      " |  __mod__(self, value, /)\n",
      " |      Return self%value.\n",
      " |  \n",
      " |  __mul__(self, value, /)\n",
      " |      Return self*value.\n",
      " |  \n",
      " |  __ne__(self, value, /)\n",
      " |      Return self!=value.\n",
      " |  \n",
      " |  __repr__(self, /)\n",
      " |      Return repr(self).\n",
      " |  \n",
      " |  __rmod__(self, value, /)\n",
      " |      Return value%self.\n",
      " |  \n",
      " |  __rmul__(self, value, /)\n",
      " |      Return value*self.\n",
      " |  \n",
      " |  __sizeof__(self, /)\n",
      " |      Return the size of the string in memory, in bytes.\n",
      " |  \n",
      " |  __str__(self, /)\n",
      " |      Return str(self).\n",
      " |  \n",
      " |  capitalize(self, /)\n",
      " |      Return a capitalized version of the string.\n",
      " |      \n",
      " |      More specifically, make the first character have upper case and the rest lower\n",
      " |      case.\n",
      " |  \n",
      " |  casefold(self, /)\n",
      " |      Return a version of the string suitable for caseless comparisons.\n",
      " |  \n",
      " |  center(self, width, fillchar=' ', /)\n",
      " |      Return a centered string of length width.\n",
      " |      \n",
      " |      Padding is done using the specified fill character (default is a space).\n",
      " |  \n",
      " |  count(...)\n",
      " |      S.count(sub[, start[, end]]) -> int\n",
      " |      \n",
      " |      Return the number of non-overlapping occurrences of substring sub in\n",
      " |      string S[start:end].  Optional arguments start and end are\n",
      " |      interpreted as in slice notation.\n",
      " |  \n",
      " |  encode(self, /, encoding='utf-8', errors='strict')\n",
      " |      Encode the string using the codec registered for encoding.\n",
      " |      \n",
      " |      encoding\n",
      " |        The encoding in which to encode the string.\n",
      " |      errors\n",
      " |        The error handling scheme to use for encoding errors.\n",
      " |        The default is 'strict' meaning that encoding errors raise a\n",
      " |        UnicodeEncodeError.  Other possible values are 'ignore', 'replace' and\n",
      " |        'xmlcharrefreplace' as well as any other name registered with\n",
      " |        codecs.register_error that can handle UnicodeEncodeErrors.\n",
      " |  \n",
      " |  endswith(...)\n",
      " |      S.endswith(suffix[, start[, end]]) -> bool\n",
      " |      \n",
      " |      Return True if S ends with the specified suffix, False otherwise.\n",
      " |      With optional start, test S beginning at that position.\n",
      " |      With optional end, stop comparing S at that position.\n",
      " |      suffix can also be a tuple of strings to try.\n",
      " |  \n",
      " |  expandtabs(self, /, tabsize=8)\n",
      " |      Return a copy where all tab characters are expanded using spaces.\n",
      " |      \n",
      " |      If tabsize is not given, a tab size of 8 characters is assumed.\n",
      " |  \n",
      " |  find(...)\n",
      " |      S.find(sub[, start[, end]]) -> int\n",
      " |      \n",
      " |      Return the lowest index in S where substring sub is found,\n",
      " |      such that sub is contained within S[start:end].  Optional\n",
      " |      arguments start and end are interpreted as in slice notation.\n",
      " |      \n",
      " |      Return -1 on failure.\n",
      " |  \n",
      " |  format(...)\n",
      " |      S.format(*args, **kwargs) -> str\n",
      " |      \n",
      " |      Return a formatted version of S, using substitutions from args and kwargs.\n",
      " |      The substitutions are identified by braces ('{' and '}').\n",
      " |  \n",
      " |  format_map(...)\n",
      " |      S.format_map(mapping) -> str\n",
      " |      \n",
      " |      Return a formatted version of S, using substitutions from mapping.\n",
      " |      The substitutions are identified by braces ('{' and '}').\n",
      " |  \n",
      " |  index(...)\n",
      " |      S.index(sub[, start[, end]]) -> int\n",
      " |      \n",
      " |      Return the lowest index in S where substring sub is found, \n",
      " |      such that sub is contained within S[start:end].  Optional\n",
      " |      arguments start and end are interpreted as in slice notation.\n",
      " |      \n",
      " |      Raises ValueError when the substring is not found.\n",
      " |  \n",
      " |  isalnum(self, /)\n",
      " |      Return True if the string is an alpha-numeric string, False otherwise.\n",
      " |      \n",
      " |      A string is alpha-numeric if all characters in the string are alpha-numeric and\n",
      " |      there is at least one character in the string.\n",
      " |  \n",
      " |  isalpha(self, /)\n",
      " |      Return True if the string is an alphabetic string, False otherwise.\n",
      " |      \n",
      " |      A string is alphabetic if all characters in the string are alphabetic and there\n",
      " |      is at least one character in the string.\n",
      " |  \n",
      " |  isascii(self, /)\n",
      " |      Return True if all characters in the string are ASCII, False otherwise.\n",
      " |      \n",
      " |      ASCII characters have code points in the range U+0000-U+007F.\n",
      " |      Empty string is ASCII too.\n",
      " |  \n",
      " |  isdecimal(self, /)\n",
      " |      Return True if the string is a decimal string, False otherwise.\n",
      " |      \n",
      " |      A string is a decimal string if all characters in the string are decimal and\n",
      " |      there is at least one character in the string.\n",
      " |  \n",
      " |  isdigit(self, /)\n",
      " |      Return True if the string is a digit string, False otherwise.\n",
      " |      \n",
      " |      A string is a digit string if all characters in the string are digits and there\n",
      " |      is at least one character in the string.\n",
      " |  \n",
      " |  isidentifier(self, /)\n",
      " |      Return True if the string is a valid Python identifier, False otherwise.\n",
      " |      \n",
      " |      Use keyword.iskeyword() to test for reserved identifiers such as \"def\" and\n",
      " |      \"class\".\n",
      " |  \n",
      " |  islower(self, /)\n",
      " |      Return True if the string is a lowercase string, False otherwise.\n",
      " |      \n",
      " |      A string is lowercase if all cased characters in the string are lowercase and\n",
      " |      there is at least one cased character in the string.\n",
      " |  \n",
      " |  isnumeric(self, /)\n",
      " |      Return True if the string is a numeric string, False otherwise.\n",
      " |      \n",
      " |      A string is numeric if all characters in the string are numeric and there is at\n",
      " |      least one character in the string.\n",
      " |  \n",
      " |  isprintable(self, /)\n",
      " |      Return True if the string is printable, False otherwise.\n",
      " |      \n",
      " |      A string is printable if all of its characters are considered printable in\n",
      " |      repr() or if it is empty.\n",
      " |  \n",
      " |  isspace(self, /)\n",
      " |      Return True if the string is a whitespace string, False otherwise.\n",
      " |      \n",
      " |      A string is whitespace if all characters in the string are whitespace and there\n",
      " |      is at least one character in the string.\n",
      " |  \n",
      " |  istitle(self, /)\n",
      " |      Return True if the string is a title-cased string, False otherwise.\n",
      " |      \n",
      " |      In a title-cased string, upper- and title-case characters may only\n",
      " |      follow uncased characters and lowercase characters only cased ones.\n",
      " |  \n",
      " |  isupper(self, /)\n",
      " |      Return True if the string is an uppercase string, False otherwise.\n",
      " |      \n",
      " |      A string is uppercase if all cased characters in the string are uppercase and\n",
      " |      there is at least one cased character in the string.\n",
      " |  \n",
      " |  join(self, iterable, /)\n",
      " |      Concatenate any number of strings.\n",
      " |      \n",
      " |      The string whose method is called is inserted in between each given string.\n",
      " |      The result is returned as a new string.\n",
      " |      \n",
      " |      Example: '.'.join(['ab', 'pq', 'rs']) -> 'ab.pq.rs'\n",
      " |  \n",
      " |  ljust(self, width, fillchar=' ', /)\n",
      " |      Return a left-justified string of length width.\n",
      " |      \n",
      " |      Padding is done using the specified fill character (default is a space).\n",
      " |  \n",
      " |  lower(self, /)\n",
      " |      Return a copy of the string converted to lowercase.\n",
      " |  \n",
      " |  lstrip(self, chars=None, /)\n",
      " |      Return a copy of the string with leading whitespace removed.\n",
      " |      \n",
      " |      If chars is given and not None, remove characters in chars instead.\n",
      " |  \n",
      " |  partition(self, sep, /)\n",
      " |      Partition the string into three parts using the given separator.\n",
      " |      \n",
      " |      This will search for the separator in the string.  If the separator is found,\n",
      " |      returns a 3-tuple containing the part before the separator, the separator\n",
      " |      itself, and the part after it.\n",
      " |      \n",
      " |      If the separator is not found, returns a 3-tuple containing the original string\n",
      " |      and two empty strings.\n",
      " |  \n",
      " |  replace(self, old, new, count=-1, /)\n",
      " |      Return a copy with all occurrences of substring old replaced by new.\n",
      " |      \n",
      " |        count\n",
      " |          Maximum number of occurrences to replace.\n",
      " |          -1 (the default value) means replace all occurrences.\n",
      " |      \n",
      " |      If the optional argument count is given, only the first count occurrences are\n",
      " |      replaced.\n",
      " |  \n",
      " |  rfind(...)\n",
      " |      S.rfind(sub[, start[, end]]) -> int\n",
      " |      \n",
      " |      Return the highest index in S where substring sub is found,\n",
      " |      such that sub is contained within S[start:end].  Optional\n",
      " |      arguments start and end are interpreted as in slice notation.\n",
      " |      \n",
      " |      Return -1 on failure.\n",
      " |  \n",
      " |  rindex(...)\n",
      " |      S.rindex(sub[, start[, end]]) -> int\n",
      " |      \n",
      " |      Return the highest index in S where substring sub is found,\n",
      " |      such that sub is contained within S[start:end].  Optional\n",
      " |      arguments start and end are interpreted as in slice notation.\n",
      " |      \n",
      " |      Raises ValueError when the substring is not found.\n",
      " |  \n",
      " |  rjust(self, width, fillchar=' ', /)\n",
      " |      Return a right-justified string of length width.\n",
      " |      \n",
      " |      Padding is done using the specified fill character (default is a space).\n",
      " |  \n",
      " |  rpartition(self, sep, /)\n",
      " |      Partition the string into three parts using the given separator.\n",
      " |      \n",
      " |      This will search for the separator in the string, starting at the end. If\n",
      " |      the separator is found, returns a 3-tuple containing the part before the\n",
      " |      separator, the separator itself, and the part after it.\n",
      " |      \n",
      " |      If the separator is not found, returns a 3-tuple containing two empty strings\n",
      " |      and the original string.\n",
      " |  \n",
      " |  rsplit(self, /, sep=None, maxsplit=-1)\n",
      " |      Return a list of the words in the string, using sep as the delimiter string.\n",
      " |      \n",
      " |        sep\n",
      " |          The delimiter according which to split the string.\n",
      " |          None (the default value) means split according to any whitespace,\n",
      " |          and discard empty strings from the result.\n",
      " |        maxsplit\n",
      " |          Maximum number of splits to do.\n",
      " |          -1 (the default value) means no limit.\n",
      " |      \n",
      " |      Splits are done starting at the end of the string and working to the front.\n",
      " |  \n",
      " |  rstrip(self, chars=None, /)\n",
      " |      Return a copy of the string with trailing whitespace removed.\n",
      " |      \n",
      " |      If chars is given and not None, remove characters in chars instead.\n",
      " |  \n",
      " |  split(self, /, sep=None, maxsplit=-1)\n",
      " |      Return a list of the words in the string, using sep as the delimiter string.\n",
      " |      \n",
      " |      sep\n",
      " |        The delimiter according which to split the string.\n",
      " |        None (the default value) means split according to any whitespace,\n",
      " |        and discard empty strings from the result.\n",
      " |      maxsplit\n",
      " |        Maximum number of splits to do.\n",
      " |        -1 (the default value) means no limit.\n",
      " |  \n",
      " |  splitlines(self, /, keepends=False)\n",
      " |      Return a list of the lines in the string, breaking at line boundaries.\n",
      " |      \n",
      " |      Line breaks are not included in the resulting list unless keepends is given and\n",
      " |      true.\n",
      " |  \n",
      " |  startswith(...)\n",
      " |      S.startswith(prefix[, start[, end]]) -> bool\n",
      " |      \n",
      " |      Return True if S starts with the specified prefix, False otherwise.\n",
      " |      With optional start, test S beginning at that position.\n",
      " |      With optional end, stop comparing S at that position.\n",
      " |      prefix can also be a tuple of strings to try.\n",
      " |  \n",
      " |  strip(self, chars=None, /)\n",
      " |      Return a copy of the string with leading and trailing whitespace remove.\n",
      " |      \n",
      " |      If chars is given and not None, remove characters in chars instead.\n",
      " |  \n",
      " |  swapcase(self, /)\n",
      " |      Convert uppercase characters to lowercase and lowercase characters to uppercase.\n",
      " |  \n",
      " |  title(self, /)\n",
      " |      Return a version of the string where each word is titlecased.\n",
      " |      \n",
      " |      More specifically, words start with uppercased characters and all remaining\n",
      " |      cased characters have lower case.\n",
      " |  \n",
      " |  translate(self, table, /)\n",
      " |      Replace each character in the string using the given translation table.\n",
      " |      \n",
      " |        table\n",
      " |          Translation table, which must be a mapping of Unicode ordinals to\n",
      " |          Unicode ordinals, strings, or None.\n",
      " |      \n",
      " |      The table must implement lookup/indexing via __getitem__, for instance a\n",
      " |      dictionary or list.  If this operation raises LookupError, the character is\n",
      " |      left untouched.  Characters mapped to None are deleted.\n",
      " |  \n",
      " |  upper(self, /)\n",
      " |      Return a copy of the string converted to uppercase.\n",
      " |  \n",
      " |  zfill(self, width, /)\n",
      " |      Pad a numeric string with zeros on the left, to fill a field of the given width.\n",
      " |      \n",
      " |      The string is never truncated.\n",
      " |  \n",
      " |  ----------------------------------------------------------------------\n",
      " |  Static methods defined here:\n",
      " |  \n",
      " |  __new__(*args, **kwargs) from builtins.type\n",
      " |      Create and return a new object.  See help(type) for accurate signature.\n",
      " |  \n",
      " |  maketrans(x, y=None, z=None, /)\n",
      " |      Return a translation table usable for str.translate().\n",
      " |      \n",
      " |      If there is only one argument, it must be a dictionary mapping Unicode\n",
      " |      ordinals (integers) or characters to Unicode ordinals, strings or None.\n",
      " |      Character keys will be then converted to ordinals.\n",
      " |      If there are two arguments, they must be strings of equal length, and\n",
      " |      in the resulting dictionary, each character in x will be mapped to the\n",
      " |      character at the same position in y. If there is a third argument, it\n",
      " |      must be a string, whose characters will be mapped to None in the result.\n",
      "\n"
     ]
    }
   ],
   "source": [
    "help(str)"
   ]
  },
  {
   "cell_type": "code",
   "execution_count": 3,
   "metadata": {},
   "outputs": [
    {
     "name": "stdout",
     "output_type": "stream",
     "text": [
      "ab~cd~ef\n"
     ]
    }
   ],
   "source": [
    "s = \"~\"\n",
    "\n",
    "print(s.join(['ab','cd','ef']))"
   ]
  },
  {
   "cell_type": "code",
   "execution_count": 5,
   "metadata": {},
   "outputs": [
    {
     "name": "stdout",
     "output_type": "stream",
     "text": [
      "100 你好\n",
      "你好 100\n"
     ]
    }
   ],
   "source": [
    "a = 100\n",
    "b = \"你好\"\n",
    "print(a,b)\n",
    "a,b = b,a\n",
    "print(a,b)"
   ]
  },
  {
   "cell_type": "markdown",
   "metadata": {},
   "source": [
    "# 集合\n",
    "- 跟数学中的集合的概念一直\n",
    "- 内容无序 + 内容不重复"
   ]
  },
  {
   "cell_type": "code",
   "execution_count": 14,
   "metadata": {},
   "outputs": [
    {
     "name": "stdout",
     "output_type": "stream",
     "text": [
      "{1, 2, 3, 4, 5, 6, 7, 8, 9, 67, 68, 23}\n",
      "<class 'set'>\n",
      "{1, 2, 3, 4, 5, 6, 7, 8, 76, 45, 12, 23, 62}\n",
      "22222222222\n",
      "1\n",
      "2\n",
      "3\n",
      "4\n",
      "5\n",
      "6\n",
      "7\n",
      "8\n",
      "76\n",
      "45\n",
      "12\n",
      "23\n",
      "62\n",
      "你 好 啊\n",
      "4 5 6\n",
      "1 2 3\n"
     ]
    }
   ],
   "source": [
    "# 集合的定义\n",
    "# 通过 set关键字定义\n",
    "L1 = [1,2,3,4,5,6,7,8,9,4,67,3,7,23,68,1,7,4,3]\n",
    "sa = set(L1)\n",
    "print(sa)\n",
    "print(type(sa))\n",
    "\n",
    "\n",
    "# 使用大括号\n",
    "sc = {1,2,3,4,5,6,7,8,1,3,4,62,45,76,23,5,7,12}\n",
    "print(sc)\n",
    "    \n",
    "# in 操作\n",
    "if 2 in sc:\n",
    "    print(22222222222)\n",
    "if 66 in sc:\n",
    "    print(66666666666)\n",
    "    \n",
    "# 集合的遍历    \n",
    "for i in sc:\n",
    "    print(i)\n",
    "\n",
    "# 集合的另一种遍历\n",
    "\n",
    "sa = {(1,2,3),(4,5,6),(\"你\",\"好\",\"啊\")}\n",
    "\n",
    "for x,y,z in sa:\n",
    "    print(x,y,z)\n",
    "    "
   ]
  },
  {
   "cell_type": "code",
   "execution_count": 19,
   "metadata": {},
   "outputs": [
    {
     "name": "stdout",
     "output_type": "stream",
     "text": [
      "{1, 2, 3, 4, 5, 6, 7, 8, 9, 10}\n",
      "{1, 3, 5, 7, 9}\n",
      "{64, 1, 4, 36, 100, 9, 16, 49, 81, 25}\n",
      "{1, 2, 3, 4, 5, 6, 7, 8, 9, 10, 12, 14, 15, 16, 18, 20, 21, 24, 25, 27, 28, 30, 32, 35, 36, 40, 42, 45, 48, 49, 50, 54, 56, 60, 63, 64, 70, 72, 80, 81, 90, 100}\n"
     ]
    }
   ],
   "source": [
    "# 集合的生成式\n",
    "sa = {1,2,3,4,5,6,7,8,9,10}\n",
    "sb = {i for i in sa}\n",
    "print(sb)\n",
    "sc = {i for i in sa if i % 2 == 1}\n",
    "print(sc)\n",
    "\n",
    "\n",
    "# 双重循环\n",
    "# 吧sa中的每一个元素的平方值生成一个新的集合\n",
    "# 1.用一个for\n",
    "\n",
    "sd = {i**2 for i in sa}\n",
    "print(sd)\n",
    "\n",
    "se = {m*n for m in sa for n in sa}\n",
    "print(se)"
   ]
  },
  {
   "cell_type": "code",
   "execution_count": 23,
   "metadata": {},
   "outputs": [
    {
     "name": "stdout",
     "output_type": "stream",
     "text": [
      "42\n",
      "100\n",
      "1\n",
      "{1, 2, 3, 4, 5, 6, 7}\n",
      "set()\n"
     ]
    }
   ],
   "source": [
    "# 集合的内置函数\n",
    "# len：长度\n",
    "print(len(se))\n",
    "\n",
    "# max/min\n",
    "\n",
    "print(max(se))\n",
    "print(min(se))\n",
    "\n",
    "sf = {1,2,3,4,5,6}\n",
    "sf.add(7)\n",
    "print(sf)\n",
    "\n",
    "# clear 清空\n",
    "sf.clear()\n",
    "print(sf)"
   ]
  },
  {
   "cell_type": "code",
   "execution_count": 24,
   "metadata": {},
   "outputs": [
    {
     "name": "stdout",
     "output_type": "stream",
     "text": [
      "{1, 2, 3, 4, 6, 7, 8}\n"
     ]
    },
    {
     "ename": "KeyError",
     "evalue": "5",
     "output_type": "error",
     "traceback": [
      "\u001b[1;31m---------------------------------------------------------------------------\u001b[0m",
      "\u001b[1;31mKeyError\u001b[0m                                  Traceback (most recent call last)",
      "\u001b[1;32m<ipython-input-24-26a093585f73>\u001b[0m in \u001b[0;36m<module>\u001b[1;34m\u001b[0m\n\u001b[0;32m      4\u001b[0m \u001b[0msa\u001b[0m\u001b[1;33m.\u001b[0m\u001b[0mremove\u001b[0m\u001b[1;33m(\u001b[0m\u001b[1;36m5\u001b[0m\u001b[1;33m)\u001b[0m\u001b[1;33m\u001b[0m\u001b[1;33m\u001b[0m\u001b[0m\n\u001b[0;32m      5\u001b[0m \u001b[0mprint\u001b[0m\u001b[1;33m(\u001b[0m\u001b[0msa\u001b[0m\u001b[1;33m)\u001b[0m\u001b[1;33m\u001b[0m\u001b[1;33m\u001b[0m\u001b[0m\n\u001b[1;32m----> 6\u001b[1;33m \u001b[0msa\u001b[0m\u001b[1;33m.\u001b[0m\u001b[0mremove\u001b[0m\u001b[1;33m(\u001b[0m\u001b[1;36m5\u001b[0m\u001b[1;33m)\u001b[0m \u001b[1;31m# remove不存在的元素会报错\u001b[0m\u001b[1;33m\u001b[0m\u001b[1;33m\u001b[0m\u001b[0m\n\u001b[0m\u001b[0;32m      7\u001b[0m \u001b[0mprint\u001b[0m\u001b[1;33m(\u001b[0m\u001b[0msa\u001b[0m\u001b[1;33m)\u001b[0m\u001b[1;33m\u001b[0m\u001b[1;33m\u001b[0m\u001b[0m\n",
      "\u001b[1;31mKeyError\u001b[0m: 5"
     ]
    }
   ],
   "source": [
    "# 删除操作\n",
    "# remove和discard的区别\n",
    "sa = {1,2,3,4,5,6,7,8}\n",
    "sa.remove(5)\n",
    "print(sa)\n",
    "sa.remove(5) # remove不存在的元素会报错\n",
    "print(sa)"
   ]
  },
  {
   "cell_type": "code",
   "execution_count": 25,
   "metadata": {},
   "outputs": [
    {
     "name": "stdout",
     "output_type": "stream",
     "text": [
      "{1, 2, 3, 4, 6, 7, 8}\n",
      "{1, 2, 3, 4, 6, 7, 8}\n"
     ]
    }
   ],
   "source": [
    "sa = {1,2,3,4,5,6,7,8}\n",
    "sa.discard(5)\n",
    "print(sa)\n",
    "sa.discard(5) # discard不存在的元素没问题\n",
    "print(sa)"
   ]
  },
  {
   "cell_type": "code",
   "execution_count": 39,
   "metadata": {},
   "outputs": [
    {
     "name": "stdout",
     "output_type": "stream",
     "text": [
      "{1, 2, 3, 4, 5, 6, 7, 8, 9}\n",
      "1\n",
      "{2, 3, 4, 5, 6, 7, 8, 9}\n",
      "{3, 4, 5, 6, 7, 8, 9}\n",
      "{4, 5, 6, 7, 8, 9}\n",
      "{5, 6, 7, 8, 9}\n"
     ]
    }
   ],
   "source": [
    "# pop弹出集合的一个内容\n",
    "# 删除的内容是随机的\n",
    "# 删除的内容没啥规律，随机\n",
    "sa = {1,2,3,4,5,6,7,8,9}\n",
    "print(sa)\n",
    "a = sa.pop()\n",
    "print(a)\n",
    "print(sa)\n",
    "sa.pop()\n",
    "print(sa)\n",
    "sa.pop()\n",
    "print(sa)\n",
    "sa.pop()\n",
    "print(sa)\n"
   ]
  },
  {
   "cell_type": "code",
   "execution_count": 40,
   "metadata": {},
   "outputs": [
    {
     "name": "stdout",
     "output_type": "stream",
     "text": [
      "{4, 5, 6}\n"
     ]
    }
   ],
   "source": [
    "# 集合的数学操作\n",
    "sa = {1,2,3,4,5,6}\n",
    "sb = {4,5,6,7,8,9}\n",
    "\n",
    "# sa 和sb的交集\n",
    "print(sa.intersection(sb))\n",
    "\n",
    "#"
   ]
  },
  {
   "cell_type": "markdown",
   "metadata": {},
   "source": [
    "# frozenset冰冻集合\n",
    "\n",
    "- 内容不允许改变的集合"
   ]
  },
  {
   "cell_type": "code",
   "execution_count": 8,
   "metadata": {},
   "outputs": [
    {
     "name": "stdout",
     "output_type": "stream",
     "text": [
      "{1, 2, 3, 4, 5, 6}\n",
      "frozenset({1, 2, 3, 4, 5, 6})\n"
     ]
    }
   ],
   "source": [
    "sa = {1,2,3,4,5,6}\n",
    "sb = frozenset(sa)\n",
    "print(sa)\n",
    "print(sb)"
   ]
  },
  {
   "cell_type": "markdown",
   "metadata": {},
   "source": [
    "# 字典\n",
    "- 字典是一种组合数据，没有顺序的组合数据，数据已减值对形势出现"
   ]
  },
  {
   "cell_type": "code",
   "execution_count": 10,
   "metadata": {
    "scrolled": true
   },
   "outputs": [
    {
     "name": "stdout",
     "output_type": "stream",
     "text": [
      "<class 'dict'>\n",
      "{}\n",
      "{'one': 1, 'two': 2, 'three': 3}\n",
      "{'one': 1, 'two': 2, 'three': 3}\n",
      "{'one': 1, 'two': 2, 'three': 3}\n",
      "{'one': 1, 'two': 2, 'three': 3}\n"
     ]
    }
   ],
   "source": [
    "# 字典创建\n",
    "# 创建空字典\n",
    "d = {}\n",
    "print(type(d))\n",
    "d = dict()\n",
    "print(d)\n",
    "\n",
    "#创建有值的字典\n",
    "\n",
    "d = {\"one\":1,\"two\":2,\"three\":3}\n",
    "print(d)\n",
    "\n",
    "# 用dict关键字创建有内容字典1\n",
    "d = dict({\"one\":1,\"two\":2,\"three\":3})\n",
    "print(d)\n",
    "\n",
    "# 用dict创建有内容字典2\n",
    "# 利用关键字参数\n",
    "d = dict(one=1,two=2,three=3)\n",
    "print(d)\n",
    "\n",
    "#\n",
    "d = dict([(\"one\",1),(\"two\",2),(\"three\",3)])\n",
    "print(d)"
   ]
  },
  {
   "cell_type": "markdown",
   "metadata": {},
   "source": [
    "# 字典的特征\n",
    "- 字典是序列类型，但是是无序序列，所以没有分片和索引\n",
    "- 字典中的数据每个都由键值对组成，即kv对\n",
    "    - key：必须是和哈希的值，比如int，string，float，tuple，但是list set dict不行\n",
    "    - value：任何值"
   ]
  },
  {
   "cell_type": "markdown",
   "metadata": {},
   "source": [
    "# 字典常见操作\n"
   ]
  },
  {
   "cell_type": "code",
   "execution_count": 14,
   "metadata": {},
   "outputs": [
    {
     "name": "stdout",
     "output_type": "stream",
     "text": [
      "1\n",
      "{'one': 'eins', 'two': 2, 'three': 3}\n",
      "{'two': 2, 'three': 3}\n"
     ]
    }
   ],
   "source": [
    "#访问数据\n",
    "d = {\"one\":1,\"two\":2,\"three\":3}\n",
    "# 注意访问根式\n",
    "# 中括号内是键值\n",
    "print(d[\"one\"])\n",
    "\n",
    "d[\"one\"] = \"eins\"\n",
    "print(d)\n",
    "\n",
    "# 删除某个操作\n",
    "# 使用del操作\n",
    "del d[\"one\"]\n",
    "print(d)"
   ]
  },
  {
   "cell_type": "code",
   "execution_count": 15,
   "metadata": {},
   "outputs": [
    {
     "name": "stdout",
     "output_type": "stream",
     "text": [
      "key\n"
     ]
    }
   ],
   "source": [
    "# 成员检测，in not in\n",
    "# 成员检测检测的是key的内容\n",
    "\n",
    "d = {\"one\":1,\"two\":2,\"three\":3}\n",
    "\n",
    "if 2 in d:\n",
    "    print(\"value\")\n",
    "\n",
    "if \"two\" in d:\n",
    "    print(\"key\")\n",
    "\n",
    "if (\"two\",2) in d:\n",
    "    print(\"kv\")"
   ]
  },
  {
   "cell_type": "code",
   "execution_count": 22,
   "metadata": {
    "scrolled": true
   },
   "outputs": [
    {
     "name": "stdout",
     "output_type": "stream",
     "text": [
      "one 1\n",
      "two 2\n",
      "three 3\n",
      "one 1\n",
      "two 2\n",
      "three 3\n",
      "1\n",
      "2\n",
      "3\n",
      "one --- 1\n",
      "two --- 2\n",
      "three --- 3\n"
     ]
    }
   ],
   "source": [
    "# 遍历在python2和python3中区别比较大，代码不通用\n",
    "# 按key来使用for循环\n",
    "\n",
    "d = {\"one\":1,\"two\":2,\"three\":3}\n",
    "for k in d:\n",
    "    print(k,d[k])\n",
    "\n",
    "# 上述代码可以改下如下：\n",
    "\n",
    "for k in d.keys():\n",
    "    print(k,d[k])\n",
    "    \n",
    "# 只访问字典的值\n",
    "for v in d.values():\n",
    "    print(v)\n",
    "\n",
    "#注意一下特殊用法\n",
    "\n",
    "for k,v in d.items():\n",
    "    print(k,'---',v)"
   ]
  },
  {
   "cell_type": "markdown",
   "metadata": {},
   "source": [
    "# 字典生成式"
   ]
  },
  {
   "cell_type": "code",
   "execution_count": 26,
   "metadata": {},
   "outputs": [
    {
     "name": "stdout",
     "output_type": "stream",
     "text": [
      "{'one': 1, 'two': 2, 'three': 3}\n",
      "{'two': 2}\n"
     ]
    }
   ],
   "source": [
    "d = {\"one\":1,\"two\":2,\"three\":3}\n",
    "\n",
    "#常规字典生成式\n",
    "dd = {k:v for k,v in d.items()}\n",
    "print(dd)\n",
    "\n",
    "# 加限制条件的字典生成式\n",
    "dd = {k:v for k,v in d.items() if  v% 2 == 0}\n",
    "print(dd)"
   ]
  },
  {
   "cell_type": "markdown",
   "metadata": {},
   "source": [
    "# 字典的相关函数"
   ]
  },
  {
   "cell_type": "code",
   "execution_count": 27,
   "metadata": {},
   "outputs": [
    {
     "name": "stdout",
     "output_type": "stream",
     "text": [
      "{'one': 1, 'two': 2, 'three': 3}\n"
     ]
    }
   ],
   "source": [
    "# 通用函数： len, max,min,dict\n",
    "# str(字典):返回字典的字符串格式\n",
    "\n",
    "d = {\"one\":1,\"two\":2,\"three\":3}\n",
    "print(str(d))"
   ]
  },
  {
   "cell_type": "code",
   "execution_count": 32,
   "metadata": {},
   "outputs": [
    {
     "name": "stdout",
     "output_type": "stream",
     "text": [
      "<class 'dict_items'>\n",
      "dict_items([('one', 1), ('two', 2), ('three', 3)])\n"
     ]
    }
   ],
   "source": [
    "# clear: 清空字典\n",
    "# items：返回字典的键值对组成的元组格式\n",
    "\n",
    "d = {\"one\":1,\"two\":2,\"three\":3}\n",
    "i = d.items()\n",
    "print(type(i))\n",
    "print(i)\n",
    "# d.clear()\n",
    "# print(d)"
   ]
  },
  {
   "cell_type": "code",
   "execution_count": 33,
   "metadata": {},
   "outputs": [
    {
     "name": "stdout",
     "output_type": "stream",
     "text": [
      "<class 'dict_keys'>\n",
      "dict_keys(['one', 'two', 'three'])\n"
     ]
    }
   ],
   "source": [
    "# keys；返回字典的键组成的一个结构\n",
    "key = d.keys()\n",
    "print(type(key))\n",
    "print(key)"
   ]
  },
  {
   "cell_type": "code",
   "execution_count": 34,
   "metadata": {},
   "outputs": [
    {
     "name": "stdout",
     "output_type": "stream",
     "text": [
      "<class 'dict_values'>\n",
      "dict_values([1, 2, 3])\n"
     ]
    }
   ],
   "source": [
    "# values:返回字典的键值组成的一个结构\n",
    "value = d.values()\n",
    "print(type(value))\n",
    "print(value)"
   ]
  },
  {
   "cell_type": "code",
   "execution_count": 39,
   "metadata": {},
   "outputs": [
    {
     "name": "stdout",
     "output_type": "stream",
     "text": [
      "2\n",
      "None\n",
      "1\n",
      "100\n"
     ]
    },
    {
     "ename": "KeyError",
     "evalue": "'one33'",
     "output_type": "error",
     "traceback": [
      "\u001b[1;31m---------------------------------------------------------------------------\u001b[0m",
      "\u001b[1;31mKeyError\u001b[0m                                  Traceback (most recent call last)",
      "\u001b[1;32m<ipython-input-39-2b772ad86a4d>\u001b[0m in \u001b[0;36m<module>\u001b[1;34m\u001b[0m\n\u001b[0;32m      9\u001b[0m \u001b[1;33m\u001b[0m\u001b[0m\n\u001b[0;32m     10\u001b[0m \u001b[1;31m#如下代码找不到对应的键会报错\u001b[0m\u001b[1;33m\u001b[0m\u001b[1;33m\u001b[0m\u001b[1;33m\u001b[0m\u001b[0m\n\u001b[1;32m---> 11\u001b[1;33m \u001b[0mprint\u001b[0m\u001b[1;33m(\u001b[0m\u001b[0md\u001b[0m\u001b[1;33m[\u001b[0m\u001b[1;34m\"one33\"\u001b[0m\u001b[1;33m]\u001b[0m\u001b[1;33m)\u001b[0m\u001b[1;33m\u001b[0m\u001b[1;33m\u001b[0m\u001b[0m\n\u001b[0m",
      "\u001b[1;31mKeyError\u001b[0m: 'one33'"
     ]
    }
   ],
   "source": [
    "# get根据指定键返回相应的值，好处是，可以设置默认值\n",
    "d = {\"one\":1,\"two\":2,\"three\":3}\n",
    "print(d.get(\"two\"))\n",
    "print(d.get(\"two33\"))\n",
    "\n",
    "# get默认值如果找不到是None，可以设置其他的值\n",
    "print(d.get(\"one\",100))\n",
    "print(d.get(\"one33\",100))\n",
    "\n",
    "#如下代码找不到对应的键会报错\n",
    "print(d[\"one33\"])"
   ]
  },
  {
   "cell_type": "code",
   "execution_count": 40,
   "metadata": {},
   "outputs": [
    {
     "name": "stdout",
     "output_type": "stream",
     "text": [
      "{'oen': 'hahaha', 'two': 'hahaha', 'three': 'hahaha'}\n"
     ]
    }
   ],
   "source": [
    "# fromkeys：使用指定的序列作为键，使用一个值作为字典所有的值\n",
    "\n",
    "l = [\"oen\",\"two\",\"three\"]\n",
    "dd = dict.fromkeys(l,\"hahaha\")\n",
    "print(dd)"
   ]
  },
  {
   "cell_type": "markdown",
   "metadata": {},
   "source": [
    "# 递归函数\n",
    "- 函数直接或者间接调用自己\n"
   ]
  },
  {
   "cell_type": "code",
   "execution_count": 1,
   "metadata": {},
   "outputs": [
    {
     "name": "stdout",
     "output_type": "stream",
     "text": [
      "hello world\n",
      "Hello girl\n"
     ]
    }
   ],
   "source": [
    "def funa():\n",
    "    print(\"hello world\")\n",
    "    return None\n",
    "\n",
    "def funb():\n",
    "    funa()\n",
    "    print(\"Hello girl\")\n",
    "    return None\n",
    "\n",
    "funb()"
   ]
  },
  {
   "cell_type": "code",
   "execution_count": 6,
   "metadata": {},
   "outputs": [
    {
     "name": "stdout",
     "output_type": "stream",
     "text": [
      "24\n"
     ]
    }
   ],
   "source": [
    "# 阶乘\n",
    "def fun_a(n):\n",
    "    # print(n)\n",
    "    if n == 1:\n",
    "        return 1\n",
    "    return n*fun_a(n-1)\n",
    "\n",
    "fact1 = fun_a(4)\n",
    "print(fact1)"
   ]
  },
  {
   "cell_type": "code",
   "execution_count": 13,
   "metadata": {},
   "outputs": [
    {
     "name": "stdout",
     "output_type": "stream",
     "text": [
      "3\n"
     ]
    }
   ],
   "source": [
    "# 斐波那契额数列\n",
    "# 数学定义自行查找\n",
    "\n",
    "def fib(n):\n",
    "    if n == 1 or n == 2:\n",
    "        return 1\n",
    "    return fib(n-1) + fib(n-2)\n",
    "\n",
    "rst = fib(4)\n",
    "print(rst)\n"
   ]
  },
  {
   "cell_type": "code",
   "execution_count": 17,
   "metadata": {},
   "outputs": [
    {
     "name": "stdout",
     "output_type": "stream",
     "text": [
      "A-->B\n",
      "A-->C\n",
      "B-->C\n",
      "A-->B\n",
      "C-->A\n",
      "C-->B\n",
      "A-->B\n",
      "A-->C\n",
      "B-->C\n",
      "B-->A\n",
      "C-->A\n",
      "B-->C\n",
      "A-->B\n",
      "A-->C\n",
      "B-->C\n"
     ]
    }
   ],
   "source": [
    "# 汉诺塔\n",
    "\n",
    "a = \"A\"\n",
    "b = \"B\"\n",
    "c = \"C\"\n",
    "def hano(a,b,c,n):\n",
    "    if n == 1:\n",
    "        print(\"{}-->{}\".format(a,c))\n",
    "        return None\n",
    "    if n == 2:\n",
    "        print(\"{}-->{}\".format(a,b))\n",
    "        print(\"{}-->{}\".format(a,c))\n",
    "        print(\"{}-->{}\".format(b,c))\n",
    "        return None\n",
    "    hano(a,c,b,n-1)\n",
    "    print(\"{}-->{}\".format(a,c))\n",
    "    hano(b,a,c,n-1)\n",
    "\n",
    "hano(a,b,c,4)"
   ]
  },
  {
   "cell_type": "code",
   "execution_count": 19,
   "metadata": {},
   "outputs": [
    {
     "name": "stdout",
     "output_type": "stream",
     "text": [
      "A --> B\n",
      "A --> C\n",
      "B --> C\n"
     ]
    }
   ],
   "source": [
    "def hanoi(n,a,b,c):\n",
    "    if n == 1:\n",
    "        print(a,'-->',c)\n",
    "    else:\n",
    "        hanoi(n - 1,a,c,b)\n",
    "        print(a,'-->',c)\n",
    "        hanoi(n-1,b,a,c)\n",
    "hanoi(2,'A','B','C')            "
   ]
  },
  {
   "cell_type": "markdown",
   "metadata": {},
   "source": [
    "# OOP\n",
    "- 思想\n",
    "    - 以模块化的思想解决工程问题\n",
    "    - 面向过程 VS 面向对象\n",
    "    - 面向过程转向面向对象\n",
    "    - 列子，我要开一个学校，叫轻羽学院，主要讲少儿编程\n",
    "        - 讲师\n",
    "        - 学生\n",
    "        - 班主任\n",
    "        - 教师\n",
    "        - 学校\n",
    "- 常用名词\n",
    "    - oo 面向对象\n",
    "    - ooa 分析\n",
    "    - ood 设计\n",
    "    - oop 编程\n",
    "    - ooI 实现\n",
    "    - ooa -> ood -> ooi\n",
    "- 类和对象\n",
    "    - 类 抽象，描述的是一个集合，侧重于共性\n",
    "    - 对象，具象，描述的是个体\n",
    "- 类的内容\n",
    "    - 动作，函数\n",
    "    - 属性，变量\n",
    "- is -a\n",
    "\n",
    "- 定义类 class关键字\n",
    "- 类命名：\n",
    "    - 遵循大驼峰\n",
    "    - 第一个字母大写\n"
   ]
  },
  {
   "cell_type": "code",
   "execution_count": 20,
   "metadata": {},
   "outputs": [],
   "source": [
    "## 定义学生类，和几个学生\n",
    "\n",
    "class Student():\n",
    "    # 此处定义一个空类\n",
    "    # pass是关键字，表示站位用的，无意义\n",
    "    pass"
   ]
  },
  {
   "cell_type": "code",
   "execution_count": 21,
   "metadata": {},
   "outputs": [],
   "source": [
    "# 定义一个对象\n",
    "xxxxxbai = Student()"
   ]
  },
  {
   "cell_type": "code",
   "execution_count": 27,
   "metadata": {},
   "outputs": [
    {
     "name": "stdout",
     "output_type": "stream",
     "text": [
      "NoOne\n",
      "18\n",
      "Python\n"
     ]
    }
   ],
   "source": [
    "class PythonStudent():\n",
    "    name = \"NoOne\"\n",
    "    age = 18\n",
    "    course = \"Python\"\n",
    "    '''\n",
    "    定义类中的函数\n",
    "    一般需要有self关键字\n",
    "    其余跟普通函数基本相同\n",
    "    '''\n",
    "    \n",
    "    def giveMeMoney(self):\n",
    "        print(\"show me the money\")\n",
    "        return None\n",
    "\n",
    "xiaobai = PythonStudent()\n",
    "print(xiaobai.name)\n",
    "print(xiaobai.age)\n",
    "print(xiaobai.course)"
   ]
  },
  {
   "cell_type": "code",
   "execution_count": 52,
   "metadata": {},
   "outputs": [],
   "source": [
    "class Student():\n",
    "    name = \"北京图灵学院\"\n",
    "    age = 19\n",
    "    \n",
    "    def sayHi(self,n,a):\n",
    "        self.name = n\n",
    "        self.age = a\n",
    "        print(\"爱生活，爱图灵\")\n",
    "        print(\"my name is {}, i am {} years old.\".format(self.name,self.age))\n",
    "        \n",
    "        return None"
   ]
  },
  {
   "cell_type": "code",
   "execution_count": 30,
   "metadata": {},
   "outputs": [
    {
     "name": "stdout",
     "output_type": "stream",
     "text": [
      "<__main__.Student object at 0x00000208FA05E940>\n"
     ]
    }
   ],
   "source": [
    "# 实例化\n",
    "\n",
    "二拿 = Student()\n",
    "print(二拿)"
   ]
  },
  {
   "cell_type": "markdown",
   "metadata": {},
   "source": [
    "# self \n",
    "- self可以用别的名称代替\n",
    "- self不是关键字\n",
    "- 作用是指代本身\n",
    "    "
   ]
  },
  {
   "cell_type": "code",
   "execution_count": 53,
   "metadata": {},
   "outputs": [
    {
     "name": "stdout",
     "output_type": "stream",
     "text": [
      "爱生活，爱图灵\n",
      "my name is erjing, i am 17 years old.\n",
      "my name is 北京图灵学院,i am 19 years old\n"
     ]
    }
   ],
   "source": [
    "# self举例\n",
    "# 实例调用函数\n",
    "\n",
    "\n",
    "yaoyao = Student()\n",
    "# 让瑶瑶跟我打招呼\n",
    "yaoyao.sayHi(\"erjing\",17)\n",
    "\n",
    "print(\"my name is {},i am {} years old\".format(Student.name,Student.age))"
   ]
  },
  {
   "cell_type": "markdown",
   "metadata": {},
   "source": [
    "# 类的变量的作用域的问题\n",
    "- 类变量：属于类自己的变量\n",
    "- 实例变量：属于"
   ]
  },
  {
   "cell_type": "markdown",
   "metadata": {},
   "source": [
    "# 访问类的属性\n",
    "- 在类里强制访问类的属性，则需要（class） ，前后各两个下划线\n",
    "- 类方法：\n",
    "    - 定义类方法的时候，没有self函数\n",
    "    - 类的方法中只允许使用属于类的内容\n",
    "- 访问类方法\n",
    "    - 类名称.变量\n",
    "    - class.类变量"
   ]
  },
  {
   "cell_type": "code",
   "execution_count": 61,
   "metadata": {},
   "outputs": [
    {
     "name": "stdout",
     "output_type": "stream",
     "text": [
      "Hi, My name is boby,I am 18 years old. and learn English\n",
      "Hi, My name is saooo,I am 23 years old. and learn C++\n",
      "------------------------------------------------------------\n",
      "My name is Anny,I am 23 years old,and learn Python\n",
      "SOS\n"
     ]
    }
   ],
   "source": [
    "# 定义实例变量\n",
    "\n",
    "class Student():\n",
    "    # name,age,course是变量\n",
    "    # 类变量的问题和方法\n",
    "    name = \"Anny\"\n",
    "    age = 23\n",
    "    course = \"Python\"\n",
    "    \n",
    "    def sayHi(sefl,a,b,c):\n",
    "        print(\"Hi, My name is {},I am {} years old. and learn {}\".format(a,b,c))\n",
    "        return None\n",
    "    def sos():\n",
    "        # 类方法中不允许访问实例中的任何内容\n",
    "        \n",
    "        print(\"My name is {},I am {} years old,and learn {}\".format(Student.name,__class__.age,__class__.course))\n",
    "        print(\"SOS\")\n",
    "        return None\n",
    "dwc = Student()\n",
    "dwc.sayHi(\"boby\",18,\"English\")\n",
    "\n",
    "s= Student()\n",
    "s.sayHi(\"saooo\",23,\"C++\")\n",
    "print(\"---\"*20)\n",
    "Student.sos()"
   ]
  },
  {
   "cell_type": "markdown",
   "metadata": {},
   "source": [
    "# 构造函数\n",
    "- 类在实例化的时候执行一些基础性的初始化工作\n",
    "- 使用特殊的名称和写法\n",
    "- 在实例化的时候自动执行\n",
    "- 第一个参数必须有，一般推荐self\n",
    "- 是在实例化的时候第一个被执行的函数"
   ]
  },
  {
   "cell_type": "code",
   "execution_count": 62,
   "metadata": {},
   "outputs": [
    {
     "name": "stdout",
     "output_type": "stream",
     "text": [
      "我是构造函数\n",
      "----------------------\n",
      "Anny\n",
      "23\n"
     ]
    }
   ],
   "source": [
    "class Student():\n",
    "    # name,age,course是变量\n",
    "    # 类变量的问题和方法\n",
    "    name = \"Anny\"\n",
    "    age = 23\n",
    "    course = \"Python\"\n",
    "    \n",
    "    # 构造函数名称固定，写法相对固定\n",
    "    def __init__(self):\n",
    "        print(\"我是构造函数\")\n",
    "        \n",
    "s = Student()\n",
    "print(\"----------------------\")\n",
    "print(s.name)\n",
    "print(s.age)"
   ]
  },
  {
   "cell_type": "markdown",
   "metadata": {},
   "source": [
    "# 面向对象的三大特征\n",
    "- 继承\n",
    "- 封装\n",
    "- 多态\n",
    "\n",
    "# 继承\n",
    "- 继承的特征\n",
    "    - 子类可以使用父类定义的内容或者行为等\n",
    "    - 子类，有继承行为的类\n",
    "    - 所有类都必须有一个父类\n",
    "    - 如果没有，则默认为是object的子类\n",
    "    - 子类中定义的成员的父类成员如果相同，则优先使用子类成员\n",
    "    - 子类可以定义独有的成员属性和方法\n",
    "    - 子类如果想扩充父类的方法，可以在定义新方法的同时访问父类成员来进行代码重用\n",
    "      可以使用父类名.父类成员的格式来调用父类成员，也可以使用super().父类成员的格式来调用\n",
    "    \n",
    "- 单继承和多继承\n",
    "    - 单继承，每个类只能继承一个类\n",
    "    - 多继承，每个类允许继承多个类\n",
    "- 单继承和多继承的优缺点\n",
    "    - 单继承\n",
    "        - 传承有序逻辑清晰语法简单隐患少\n",
    "        - 功能不能无限扩展，只能在当前唯一的继承中扩展\n",
    "    - 多继承\n",
    "        - 优点，类的功能扩展方便\n",
    "        - 缺点，继承关系混乱\n",
    "        \n",
    "\n",
    "- 菱形继承和钻石继承\n",
    "    - 多个子类继承自同一个父类，这些子类又被同一个子类继承，于是继承关系形成一个菱形图谱\n",
    "    - [MRO]https://www.cnblogs.com/whatisfantasy/p/6046991.html\n",
    "    - 关于多继承的MRO\n",
    "        - MRO就是多继承中用于保存继承顺序的一个列表\n",
    "        - Python本身采用C3算法来多多继承的菱形继承进行计算的结果\n",
    "        - MRO列表计算规则\n",
    "            - 子类永远在父类前面\n",
    "            - 如果多个父类，则根据继承语法中括号内的书写顺序存放\n",
    "            - 如果多个类继承了同一个父类，孙子类中只会选取继承语法括号中第一个父类的父类\n",
    "            "
   ]
  },
  {
   "cell_type": "code",
   "execution_count": 65,
   "metadata": {},
   "outputs": [],
   "source": [
    "# 所有的类必须有父类\n",
    "# 默认是object类\n",
    "class Person():\n",
    "    pass\n",
    "class Person2(object):\n",
    "    pass\n"
   ]
  },
  {
   "cell_type": "code",
   "execution_count": 7,
   "metadata": {
    "scrolled": true
   },
   "outputs": [
    {
     "name": "stdout",
     "output_type": "stream",
     "text": [
      "Noname\n",
      "I am Sleeping\n",
      "True\n"
     ]
    }
   ],
   "source": [
    "class Person():\n",
    "    name = \"Noname\"\n",
    "    __petname = \"sec\"#小名，是保护的，子类可以使用\n",
    "    __score = 0 # 考试成绩是秘密\n",
    "    age = 0\n",
    "    def sleep(self):\n",
    "        print(\"I am Sleeping\")\n",
    "    def work(self):\n",
    "        return None\n",
    "    \n",
    "\n",
    "# 父类写在类定义的时候的括号里\n",
    "class Teacher(Person):\n",
    "    #name = \"张三\"\n",
    "    pass\n",
    "t = Teacher()\n",
    "print(t.name)\n",
    "t.sleep()\n",
    "#print(t.__petname)\n",
    "print(issubclass(Teacher, Person))"
   ]
  },
  {
   "cell_type": "code",
   "execution_count": 13,
   "metadata": {},
   "outputs": [
    {
     "name": "stdout",
     "output_type": "stream",
     "text": [
      "makeing some money\n",
      "attention\n"
     ]
    }
   ],
   "source": [
    "#子类扩充父类功能\n",
    "# 人有工作的函数，老师也有工作的函数，但是老师的工作需要讲课 \n",
    "class Person():\n",
    "    name = \"Noname\"\n",
    "    __petname = \"sec\"#小名，是保护的，子类可以使用\n",
    "    __score = 0 # 考试成绩是秘密\n",
    "    age = 0\n",
    "    def sleep(self):\n",
    "        print(\"I am Sleeping\")\n",
    "        return None\n",
    "    \n",
    "    def work(self):\n",
    "        print(\"makeing some money\")\n",
    "        return None\n",
    "    \n",
    "\n",
    "# 父类写在类定义的时候的括号里\n",
    "class Teacher(Person):\n",
    "    name = \"张三\"\n",
    "    techer_id = \"9527\"\n",
    "    def make_test(self):\n",
    "        print(\"attention\")\n",
    "        \n",
    "    def work(self):\n",
    "        # 扩充父类的功能只需要调用父类相应的函数\n",
    "        # Person.work(self)\n",
    "        # self.make_test()\n",
    "        # 扩充父类的另一种方法\n",
    "        # super代表得到父类\n",
    "        super().work()\n",
    "        self.make_test()\n",
    "        \n",
    "t = Teacher()\n",
    "t.work()\n"
   ]
  },
  {
   "cell_type": "markdown",
   "metadata": {},
   "source": [
    "### issubclass检测是否是子类\n",
    "- 可以用来检测两个雷的父子关系\n"
   ]
  },
  {
   "cell_type": "code",
   "execution_count": 80,
   "metadata": {},
   "outputs": [
    {
     "name": "stdout",
     "output_type": "stream",
     "text": [
      "True\n"
     ]
    }
   ],
   "source": [
    "print(issubclass(Teacher,Person))"
   ]
  },
  {
   "cell_type": "markdown",
   "metadata": {},
   "source": [
    "## 构造函数的继承\n",
    "- 继承构造函数的查找顺序问题\n",
    "    - 优先查找自己的变量\n",
    "    - 没有则查找父类\n",
    "    - 构造函数如果本类中没有定义，则自动查找调用父类的构造函数\n",
    "    - 如果本类有定义，则不再继续向上查找\n",
    "## super\n",
    "- super不是关键字，而是一个类\n",
    "- super的作用是获取MRO（MethodResolutionOrder）列表中的第一个类\n",
    "- super于父类直接没任何实质性关系，但通过super可以调用父类\n",
    "- super使用两个方法，参见构造函数中调用父类的构造函数"
   ]
  },
  {
   "cell_type": "code",
   "execution_count": 20,
   "metadata": {},
   "outputs": [
    {
     "name": "stdout",
     "output_type": "stream",
     "text": [
      "我被调用了\n",
      "junjun,语文\n",
      "我被调用了\n",
      "junjun,语文\n",
      "老师的构造函数被调用了\n",
      "我叫junjun,我教语文\n"
     ]
    }
   ],
   "source": [
    "# 构造函数默认继承\n",
    "class Person():\n",
    "    def __init__(self,name,age):\n",
    "        print(\"我被调用了\")\n",
    "        print(\"{},{}\".format(name,age))\n",
    "        \n",
    "class Teacher(Person):\n",
    "    def __init__(self,name,course):\n",
    "        # 扩展父类的构造函数\n",
    "        # 使用父类名调用\n",
    "        Person.__init__(self,name,course)\n",
    "        # 使用super调用\n",
    "        super().__init__(name,course)\n",
    "        print(\"老师的构造函数被调用了\")\n",
    "        print(\"我叫{},我教{}\".format(name,course))\n",
    "    pass\n",
    "\n",
    "#实例化老师，自己的构造函数被调用\n",
    "# 如果老师没有构造函数会调用父类Person的构造函数\n",
    "T = Teacher(\"junjun\",\"语文\")\n"
   ]
  },
  {
   "cell_type": "code",
   "execution_count": 32,
   "metadata": {},
   "outputs": [
    {
     "name": "stdout",
     "output_type": "stream",
     "text": [
      "(<class '__main__.A'>, <class 'object'>)\n",
      "(<class '__main__.B'>, <class '__main__.A'>, <class 'object'>)\n",
      "(<class '__main__.C'>, <class '__main__.B'>, <class '__main__.A'>, <class 'object'>)\n"
     ]
    }
   ],
   "source": [
    "# super 查询父类体统\n",
    "class A():\n",
    "    pass\n",
    "\n",
    "class B(A):\n",
    "    pass\n",
    "\n",
    "class C(B,A):\n",
    "    pass\n",
    "\n",
    "print(A.__mro__)\n",
    "print(B.__mro__)\n",
    "print(C.__mro__)"
   ]
  },
  {
   "cell_type": "markdown",
   "metadata": {},
   "source": [
    "# 封装\n",
    "- 封装就是对对象的成员访问限制\n",
    "- 封装的三个级别\n",
    "    - 公开 public\n",
    "    - 受保护的 protected\n",
    "    - 私有的 private\n",
    "    - public private protected不是关键字\n",
    "- 判别对象的位置\n",
    "    - 对象内部\n",
    "    - 对象外部\n",
    "    - 子类中\n",
    "- 私有\n",
    "    - 私有成员最高级别的封装，只能在当前类或对象中访问\n",
    "    - 在成员前面添加两个下划线即可\n",
    "    \n",
    "         - class Person()\n",
    "             - #name 是共有成员\n",
    "             - name = \"liudana\"\n",
    "             - #__age是私有成员\n",
    "             - __age = 19\n",
    "- 受保护的封装 protected\n",
    "    - 受保护的封装是将对象成员进行一定级别的封装，然后，在类中或者子类中都可以访问，但是在外部不可以\n",
    "    - 封装方法，在成员名称前添加一个下划线即可\n",
    "- 公开的，公共的 public\n",
    "    - 公共的封装实际对成员没有任何操作，任何地方都可以访问"
   ]
  },
  {
   "cell_type": "code",
   "execution_count": 44,
   "metadata": {},
   "outputs": [
    {
     "name": "stdout",
     "output_type": "stream",
     "text": [
      "liudana\n",
      "30\n"
     ]
    }
   ],
   "source": [
    "# 私有变量案例\n",
    "class Person():\n",
    "    # name是共有成员\n",
    "    name = \"liudana\"\n",
    "    # __age是私有成员\n",
    "    __age = 30\n",
    "\n",
    "p = Person()\n",
    "# name 共有变量\n",
    "print(p.name)\n",
    "#age 私有变量，报错\n",
    "#print(p.__age)\n",
    "\n",
    "#如果要访问私有变量可以用一下方式\n",
    "print(p._Person__age)\n",
    "    "
   ]
  },
  {
   "cell_type": "markdown",
   "metadata": {},
   "source": [
    "# 多态\n",
    "- 多态就是一个对象在不同情况下有不同的状态出现\n",
    "- 多态不是语法，是一种设计思想\n",
    "- 多态性，一种调用方式，不同执行效果\n",
    "- 多态，同一事物的多种形态，动物分为人类，够累，猪类\n",
    "- [多态和多态性]（https://www.cnblogs.com/luchuangao/p/6739557.html）"
   ]
  },
  {
   "cell_type": "markdown",
   "metadata": {},
   "source": [
    "# Mixin设计模式\n",
    "- 组要采用多继承方式对类的功能进行扩张\n",
    "- [Mixin概念](https://www.zhihu.com/question/20778853)"
   ]
  },
  {
   "cell_type": "markdown",
   "metadata": {},
   "source": [
    "# 常用函数\n",
    "- issubclass: 是否是子类\n",
    "- isinstance：是否是实例\n",
    "- hasattr：是否是成员\n",
    "- getattr：\n",
    "- setattr：\n",
    "- delattr：\n",
    "- dir：获取对象的成员列表"
   ]
  },
  {
   "cell_type": "code",
   "execution_count": 35,
   "metadata": {},
   "outputs": [
    {
     "name": "stdout",
     "output_type": "stream",
     "text": [
      "True\n"
     ]
    }
   ],
   "source": [
    "### issubclass检测是否是子类\n",
    "#可以用来检测两个雷的父子关系\n",
    "\n",
    "class A():\n",
    "    pass\n",
    "\n",
    "class B(A):\n",
    "    pass\n",
    "print(issubclass(B,A))"
   ]
  },
  {
   "cell_type": "code",
   "execution_count": 36,
   "metadata": {},
   "outputs": [
    {
     "name": "stdout",
     "output_type": "stream",
     "text": [
      "True\n"
     ]
    }
   ],
   "source": [
    "# issubclass是否是实例\n",
    "class A():\n",
    "    pass\n",
    "\n",
    "a = A()\n",
    "print(isinstance(a,A))"
   ]
  },
  {
   "cell_type": "code",
   "execution_count": 6,
   "metadata": {},
   "outputs": [
    {
     "name": "stdout",
     "output_type": "stream",
     "text": [
      "True\n",
      "False\n"
     ]
    }
   ],
   "source": [
    "#hasatttr 是否是成员\n",
    "class A():\n",
    "    name = \"NoName\"\n",
    "    \n",
    "a = A()\n",
    "print(hasattr(a,\"name\"))\n",
    "print(hasattr(a,\"age\"))"
   ]
  },
  {
   "cell_type": "code",
   "execution_count": 7,
   "metadata": {},
   "outputs": [
    {
     "name": "stdout",
     "output_type": "stream",
     "text": [
      "Help on built-in function setattr in module builtins:\n",
      "\n",
      "setattr(obj, name, value, /)\n",
      "    Sets the named attribute on the given object to the specified value.\n",
      "    \n",
      "    setattr(x, 'y', v) is equivalent to ``x.y = v''\n",
      "\n"
     ]
    }
   ],
   "source": [
    "help(setattr)"
   ]
  },
  {
   "cell_type": "markdown",
   "metadata": {},
   "source": [
    "# 类的成员描述符(属性)\n",
    "- 类的成员描述符是为了在类的成员属性进行相关操作而创建的一种方式\n",
    "    - get 获取属性的操作\n",
    "    - set 修改或者添加属性操作\n",
    "    - delete 删除属性的操作\n",
    "- 如果想使用类的成员描述符，大概有三种方法\n",
    "    - 使用类实现描述器\n",
    "    - 使用属性修饰符\n",
    "    - 使用property函数\n",
    "        - property函数很简单\n",
    "        - property（fget，fset，fdel，doc）\n",
    "        \n",
    "- 无论哪种修饰符都是为了对成员属性进行相应的控制\n",
    "    - 类的方式，适合多个类中的多个属性公用一个描述符\n",
    "    - property，使用当前类中使用，可以控制一个类中多个属性\n",
    "    - 属性修饰符，用于当前类中使用，控制一个类中的一个属性"
   ]
  },
  {
   "cell_type": "code",
   "execution_count": 45,
   "metadata": {},
   "outputs": [],
   "source": [
    "# 属性案例\n",
    "# 创建student类，描述学生类\n",
    "# 学生具有student.name属性\n",
    "# 但name格式并不同意\n",
    "\n",
    "class Person():\n",
    "    def fget(self):\n",
    "        return self._name\n",
    "    def fset(self,name):\n",
    "        self._name = name.upper()\n",
    "    def fdel(self):\n",
    "        self._name = \"NoName\"\n",
    "    name = property(fget,fset,fdel,\"对name进行下下操作啦\")"
   ]
  },
  {
   "cell_type": "code",
   "execution_count": 46,
   "metadata": {},
   "outputs": [
    {
     "name": "stdout",
     "output_type": "stream",
     "text": [
      "LIUDANA\n"
     ]
    }
   ],
   "source": [
    "p1 = Person()\n",
    "p1.name = \"liudana\"\n",
    "print(p1.name)"
   ]
  },
  {
   "cell_type": "code",
   "execution_count": 100,
   "metadata": {},
   "outputs": [],
   "source": [
    "# 作业\n",
    "#1. 在用户输入年龄的时候可以输入，整数，小数，浮点数\n",
    "#2. 但内部为了数据整洁，我们统一要保存整数，直接舍去小数点\n",
    "\n",
    "class Person():\n",
    "    '''\n",
    "    这是一个人，这是一个高尚的人，一个脱离了低级趣味的人！\n",
    "    '''\n",
    "    def fget(self):\n",
    "        return self._age\n",
    "    def fset(self,age):\n",
    "       \n",
    "        if float(age) < 0:\n",
    "            print(\"年龄不能是负数，即将设置成默认年龄16\")\n",
    "            self._age = 16\n",
    "        else:\n",
    "            self._age = int(float(age))\n",
    "            #self._age = age.split(\".\")[0]#用户输入的是字符串，用split方法分割成一个list，显示第零个数（也就是第一个字符串）\n",
    "           \n",
    "        \n",
    "    \n",
    "        \n",
    "    def fdel(self):\n",
    "        self._age = \"0\"\n",
    "        \n",
    "    age = property(fget,fset,fdel,\"年龄为零\")\n",
    "    \n",
    "\n"
   ]
  },
  {
   "cell_type": "code",
   "execution_count": 104,
   "metadata": {},
   "outputs": [
    {
     "name": "stdout",
     "output_type": "stream",
     "text": [
      "请输入你的年龄-12\n",
      "年龄不能是负数，即将设置成默认年龄16\n",
      "16\n"
     ]
    }
   ],
   "source": [
    "p1 = Person()\n",
    "\n",
    "p1.age = input(\"请输入你的年龄\")\n",
    "print(p1.age)"
   ]
  },
  {
   "cell_type": "markdown",
   "metadata": {},
   "source": [
    "# 类的内置属性\n",
    "-  \\__dict__：以字典的方式显示类的成员组成\n",
    "-  \\__doc__：获取类的文档信息\n",
    "-  \\__name__：获取类的名称，如果在模块中使用，获取模块的名称\n",
    "-  \\__bases__：获取某个类的所有父类，以元组的方式显示 "
   ]
  },
  {
   "cell_type": "code",
   "execution_count": 107,
   "metadata": {},
   "outputs": [
    {
     "name": "stdout",
     "output_type": "stream",
     "text": [
      "{'__module__': '__main__', '__doc__': '\\n    这是一个人，这是一个高尚的人，一个脱离了低级趣味的人！\\n    ', 'fget': <function Person.fget at 0x000000A561D8F2F0>, 'fset': <function Person.fset at 0x000000A561D8F510>, 'fdel': <function Person.fdel at 0x000000A561D8FBF8>, 'age': <property object at 0x000000A55C41D098>, '__dict__': <attribute '__dict__' of 'Person' objects>, '__weakref__': <attribute '__weakref__' of 'Person' objects>}\n",
      "\n",
      "    这是一个人，这是一个高尚的人，一个脱离了低级趣味的人！\n",
      "    \n"
     ]
    }
   ],
   "source": [
    "#类的内置函数举例\n",
    "print(Person.__dict__)\n",
    "print(Person.__doc__)# 类的说明文档在类中定义"
   ]
  },
  {
   "cell_type": "markdown",
   "metadata": {},
   "source": [
    "# 类的常用魔术方法\n",
    "- 魔术方法就是不不要人为的调用的方法，基本是在特定的时刻自动触发\n",
    "- 魔术方法的统一特征，方法名被前后各两个下划线包裹\n",
    "    - \\__init__函数：构造函数\n",
    "    - \\__new__函数：对象实例化方法，此函数比较特殊，一般不要使用\n",
    "    - \\__call__函数：对象当函数使用时触发\n",
    "    - \\__str__:当对象被当做字符串使用的时候调用\n",
    "    - \\__repr__:返回字符串\n",
    "- 描述符相关\n",
    "    - \\__set__\n",
    "    - \\__get__\n",
    "    - \\__delete__\n",
    "- 属性操作相关\n",
    "    - \\__getattr__:访问一个不存在的属性时触发\n",
    "    - \\__setattr__:对成员属性进行设置的时候触发\n",
    "        - 参数：\n",
    "            - self用来获取当前对象\n",
    "            - 被设置的属性名称以字符串的形式出现\n",
    "            - 需要对属性名称设置的值\n",
    "        - 作用：进行属性设置的时候进行验证或者修改\n",
    "        - 注意：在该方法中不能对属性直接进行复制操作，否则进入死循环\n",
    "- 运算分类相关魔术方法\n",
    "    - \\__gt__:进行大于判断的时候触发的函数\n",
    "        - 参数：\n",
    "            - self\n",
    "            - 第二个参数是第二个对象\n",
    "            - 返回值可以是任意值，推荐返回布尔值\n",
    "            "
   ]
  },
  {
   "cell_type": "code",
   "execution_count": 1,
   "metadata": {},
   "outputs": [
    {
     "name": "stdout",
     "output_type": "stream",
     "text": [
      "哈哈，我被调用了\n",
      "Call 函数被调用了\n"
     ]
    }
   ],
   "source": [
    "# __call__实例\n",
    "class A():\n",
    "    def __init__(self):\n",
    "        print(\"哈哈，我被调用了\")\n",
    "        \n",
    "    def __call__(self):\n",
    "        print(\"Call 函数被调用了\")\n",
    "        \n",
    "a = A()\n",
    "a()# 实例被当函数调用"
   ]
  },
  {
   "cell_type": "code",
   "execution_count": 147,
   "metadata": {},
   "outputs": [
    {
     "name": "stdout",
     "output_type": "stream",
     "text": [
      "哈哈，我被调用了\n",
      "对象被当做字符串给打印出来啦\n"
     ]
    }
   ],
   "source": [
    "# __str__实例\n",
    "class A():\n",
    "    def __init__(self):\n",
    "        print(\"哈哈，我被调用了\")\n",
    "        \n",
    "    def __call__(self):\n",
    "        print(\"Call 函数被调用了\")\n",
    "        \n",
    "    def __str__(self):\n",
    "        return \"对象被当做字符串给打印出来啦\"\n",
    "    \n",
    "a = A()\n",
    "print(a)"
   ]
  },
  {
   "cell_type": "code",
   "execution_count": 9,
   "metadata": {},
   "outputs": [
    {
     "name": "stdout",
     "output_type": "stream",
     "text": [
      "NoName\n",
      "没有找到啊\n",
      "course\n",
      "None\n"
     ]
    }
   ],
   "source": [
    "# __getattr__实例\n",
    "class A():\n",
    "    name = \"NoName\"\n",
    "    age = 18\n",
    "    def __getattr__(self,attr):\n",
    "        print(\"没有找到啊\")\n",
    "        print(attr)\n",
    "        \n",
    "a = A()\n",
    "print(a.name)\n",
    "print(a.course)"
   ]
  },
  {
   "cell_type": "code",
   "execution_count": 18,
   "metadata": {},
   "outputs": [
    {
     "name": "stdout",
     "output_type": "stream",
     "text": [
      "{}\n",
      "设置属性：age的值为-12\n",
      "年龄不能为负数，将设置成默认值16\n",
      "16\n"
     ]
    }
   ],
   "source": [
    "# __setattr__实例\n",
    "class Person():\n",
    "    name = \"NoName\"\n",
    "    age = 18\n",
    "    def __init__(self):\n",
    "        pass\n",
    "    \n",
    "    def __setattr__(self,name,value):\n",
    "        print(\"设置属性：{0}的值为{1}\".format(name,value))\n",
    "        \n",
    "        if value < 0:\n",
    "            print(\"年龄不能为负数，将设置成默认值16\")\n",
    "            super().__setattr__(name,16)\n",
    "        else:\n",
    "            super().__setattr__(name,value)\n",
    "        # 下面语句会导致死循环\n",
    "        # self.name = value\n",
    "        # 此种情况，为了避免死循环，规定统一调用父类魔法函数\n",
    "        \n",
    "p = Person()\n",
    "print(p.__dict__)\n",
    "p.age = -12\n",
    "print(p.age)"
   ]
  },
  {
   "cell_type": "code",
   "execution_count": 22,
   "metadata": {},
   "outputs": [
    {
     "name": "stdout",
     "output_type": "stream",
     "text": [
      "哈哈，one会比two大吗？\n",
      "False\n"
     ]
    }
   ],
   "source": [
    "# __gt__实例\n",
    "class Student():\n",
    "    def __init__(self,name):\n",
    "        self._name = name\n",
    "    \n",
    "    def __gt__(self,obj):\n",
    "        print(\"哈哈，{0}会比{1}大吗？\".format(self._name,obj._name))\n",
    "        return self._name > obj._name\n",
    "    \n",
    "stu1 = Student(\"one\")\n",
    "stu2 = Student(\"two\")\n",
    "\n",
    "print(stu1 > stu2)"
   ]
  },
  {
   "cell_type": "markdown",
   "metadata": {},
   "source": [
    "# 类和对象的三种方法\n",
    "- 实例方法\n",
    "    - 需要实例化对象才能使用的方法，使用过程中可能需要\n",
    "- 静态方法\n",
    "    - 不需要实例化，通过类直接访问\n",
    "   \n",
    "- 类方法\n",
    "    - 不需要实例化\n",
    "- 参看案例"
   ]
  },
  {
   "cell_type": "code",
   "execution_count": 32,
   "metadata": {},
   "outputs": [
    {
     "name": "stdout",
     "output_type": "stream",
     "text": [
      "<__main__.Person object at 0x000001D22F6B18D0>\n",
      "eating\n",
      "<class '__main__.Person'>\n",
      "playing\n",
      "<class '__main__.Person'>\n",
      "playing\n",
      "saying\n",
      "saying\n"
     ]
    }
   ],
   "source": [
    "# 三种方法案例\n",
    "class Person():\n",
    "    # 实例方法\n",
    "    def eat(self):\n",
    "        print(self)\n",
    "        print(\"eating\")\n",
    "        \n",
    "    #类方法\n",
    "    # 类方法的第一个参数，一般命名为cls，区别于self\n",
    "    @classmethod\n",
    "    def play(cls):\n",
    "        print(cls)\n",
    "        print(\"playing\")\n",
    "        \n",
    "    # 静态方法\n",
    "    # 不需要用第一个参数表示自身或者类\n",
    "    @staticmethod\n",
    "    def say():\n",
    "        print(\"saying\")\n",
    "        \n",
    "yueyue = Person()\n",
    "\n",
    "#实例方法\n",
    "yueyue.eat()\n",
    "\n",
    "# 类方法\n",
    "Person.play()\n",
    "yueyue.play()\n",
    "# 静态方法\n",
    "Person.say()\n",
    "yueyue.say()"
   ]
  },
  {
   "cell_type": "code",
   "execution_count": 33,
   "metadata": {},
   "outputs": [
    {
     "name": "stdout",
     "output_type": "stream",
     "text": [
      "2\n"
     ]
    }
   ],
   "source": [
    "'''\n",
    "假设我有一个学生类和一个班级类，想要实现的功能为：\n",
    "    执行班级人数增加的操作、获得班级的总人数；\n",
    "    学生类继承自班级类，每实例化一个学生，班级人数都能增加；\n",
    "    最后，我想定义一些学生，获得班级中的总人数。\n",
    "\n",
    "思考：这个问题用类方法做比较合适，为什么？因为我实例化的是学生，但是如果我从学生这一个实例中获得班级总人数，\n",
    "在逻辑上显然是不合理的。同时，如果想要获得班级总人数，如果生成一个班级的实例也是没有必要的。\n",
    "'''\n",
    "\n",
    "class ClassTest(object):\n",
    "    __num = 0\n",
    "\n",
    "    @classmethod\n",
    "    def addNum(cls):\n",
    "        cls.__num += 1\n",
    "\n",
    "    @classmethod\n",
    "    def getNum(cls):\n",
    "        return cls.__num\n",
    "\n",
    "    # 这里我用到魔术方法__new__，主要是为了在创建实例的时候调用累加方法。\n",
    "    def __new__(self):\n",
    "        ClassTest.addNum()\n",
    "        return super(ClassTest, self).__new__(self)\n",
    "\n",
    "\n",
    "class Student(ClassTest):\n",
    "    def __init__(self):\n",
    "        self.name = ''\n",
    "\n",
    "a = Student()\n",
    "b = Student()\n",
    "print(ClassTest.getNum())"
   ]
  },
  {
   "cell_type": "code",
   "execution_count": 44,
   "metadata": {},
   "outputs": [
    {
     "name": "stdout",
     "output_type": "stream",
     "text": [
      "10:06:01\n",
      "10:06:01\n"
     ]
    }
   ],
   "source": [
    "import time\n",
    "\n",
    "class TimeTest(object):\n",
    "    def __init__(self, hour, minute, second):\n",
    "        self.hour = hour\n",
    "        self.minute = minute\n",
    "        self.second = second\n",
    "\n",
    "    @staticmethod\n",
    "    def showTime():\n",
    "        return time.strftime(\"%H:%M:%S\", time.localtime())\n",
    "\n",
    "\n",
    "print(TimeTest.showTime())\n",
    "t = TimeTest(2, 10, 10)\n",
    "nowTime = t.showTime()\n",
    "print(nowTime)"
   ]
  },
  {
   "cell_type": "markdown",
   "metadata": {},
   "source": [
    "\n",
    "# 抽象类\n",
    "- 抽象方法：没有具体实现内容的方法称为抽象方法\n",
    "- 抽象方法的主要意义是规范了子类的行为接口\n",
    "- 抽象类的使用西药借助abc模块\n",
    "    `import abc\n",
    "- 抽象类：包括抽象方法的类叫抽象类，通常称为ABC类\n",
    "- 抽象类的使用\n",
    "    - 抽象类可以包含抽象方法，也可以包含具体方法\n",
    "    - 抽象类中可以有方法也可以有属性\n",
    "    - 抽象类不允许直接实例化\n",
    "    - 必须继承才可以使用，且继承的子类必须实现其所有继承来的抽象方法\n",
    "    - 假定子类没有实现所有继承的抽象类的方法，则子类也不能实例化\n",
    "    - 抽象类的主要作用是设定类的标准，一遍于开发的时候具有统一的规范\n"
   ]
  },
  {
   "cell_type": "code",
   "execution_count": 111,
   "metadata": {},
   "outputs": [
    {
     "name": "stdout",
     "output_type": "stream",
     "text": [
      "闻一下对方\n",
      "Hi, how are you\n"
     ]
    }
   ],
   "source": [
    "# 抽象\n",
    "class Animel():\n",
    "    def sayHello(self):\n",
    "        pass\n",
    "class Dog(Animel):\n",
    "    def sayHello(self):\n",
    "        print(\"闻一下对方\")\n",
    "        \n",
    "class Person(Animel):\n",
    "    def sayHello(self):\n",
    "        print(\"Hi, how are you\")\n",
    "        \n",
    "D = Dog()\n",
    "D.sayHello()\n",
    "\n",
    "P = Person()\n",
    "P.sayHello()"
   ]
  },
  {
   "cell_type": "code",
   "execution_count": 115,
   "metadata": {},
   "outputs": [],
   "source": [
    "# 抽象类的实现\n",
    "import abc\n",
    "\n",
    "#声明你哥类并且制定当前类的元类\n",
    "class Human(metaclass=abc.ABCMeta):\n",
    "    #定义一个抽象的方法\n",
    "    @abc.abstractmethod\n",
    "    def smoking(self):\n",
    "        pass\n",
    "    # 定义类抽象方法\n",
    "    @abc.abstractclassmethod\n",
    "    def drink(self):\n",
    "        pass\n",
    "    \n",
    "    #定义静态抽象方法\n",
    "    @abc.abstractstaticmethod\n",
    "    def play():\n",
    "        pass\n",
    "    \n",
    "    def sleep(self):\n",
    "        print(\"sleeping......\")"
   ]
  },
  {
   "cell_type": "code",
   "execution_count": 121,
   "metadata": {},
   "outputs": [],
   "source": [
    "class Person(Human):\n",
    "    def smoking(self):\n",
    "        print(\"I am Smoking\")\n",
    "    def drink(self):\n",
    "        print(\"i am drinking\")\n",
    "    def play():\n",
    "        print(\"I am playing\")\n",
    "        "
   ]
  },
  {
   "cell_type": "code",
   "execution_count": 124,
   "metadata": {},
   "outputs": [
    {
     "name": "stdout",
     "output_type": "stream",
     "text": [
      "I am Smoking\n",
      "i am drinking\n",
      "I am playing\n"
     ]
    }
   ],
   "source": [
    "p = Person()\n",
    "p.smoking()\n",
    "p.drink()\n",
    "Person.play()"
   ]
  },
  {
   "cell_type": "markdown",
   "metadata": {},
   "source": [
    "# 自定义类\n",
    "- 类其实是一个类定义和各种方法的自由组合\n",
    "- 可以定义类和函数，然后自己通过类直接复制\n",
    "- 可以借助于MethodType实现\n",
    "- 借助于type实现\n",
    "- 利用元类实现-MetaClass\n",
    "    - 元类是类\n",
    "    - "
   ]
  },
  {
   "cell_type": "code",
   "execution_count": 126,
   "metadata": {},
   "outputs": [
    {
     "name": "stdout",
     "output_type": "stream",
     "text": [
      "Hi, How are you\n",
      "Hi, How are you\n"
     ]
    }
   ],
   "source": [
    "# 自定义类\n",
    "class A():\n",
    "    pass\n",
    "\n",
    "def say(self):\n",
    "    print(\"Hi, How are you\")\n",
    "\n",
    "say(\"w\")\n",
    "\n",
    "a = A()\n",
    "A.say = say\n",
    "a.say()"
   ]
  },
  {
   "cell_type": "code",
   "execution_count": 130,
   "metadata": {},
   "outputs": [
    {
     "name": "stdout",
     "output_type": "stream",
     "text": [
      "Hi, How are you\n",
      "Hi, How are you\n"
     ]
    }
   ],
   "source": [
    "# 自定义类2\n",
    "from types import MethodType\n",
    "class A():\n",
    "    pass\n",
    "\n",
    "def say(self):\n",
    "    print(\"Hi, How are you\")\n",
    "\n",
    "say(\"w\")\n",
    "\n",
    "a = A()\n",
    "a.say = MethodType(say,A)\n",
    "a.say()"
   ]
  },
  {
   "cell_type": "code",
   "execution_count": 148,
   "metadata": {},
   "outputs": [
    {
     "name": "stdout",
     "output_type": "stream",
     "text": [
      "saying\n",
      "talking\n"
     ]
    }
   ],
   "source": [
    "#利用type实现一个类\n",
    "def say(self):\n",
    "    print(\"saying\")\n",
    "    \n",
    "def talk(self):\n",
    "    print(\"talking\")\n",
    "A = type(\"AName\",(object,),{\"class_say\":say,\"class_talk\":talk})\n",
    "\n",
    "a = A()\n",
    "#print(A.__dict__)\n",
    "dir(a)\n",
    "a.class_say()\n",
    "a.class_talk()"
   ]
  },
  {
   "cell_type": "code",
   "execution_count": 151,
   "metadata": {},
   "outputs": [
    {
     "name": "stdout",
     "output_type": "stream",
     "text": [
      "我是元类\n",
      "000000\n",
      "北京海淀区\n"
     ]
    }
   ],
   "source": [
    "# 元类演示\n",
    "# 元类写法是固定的必须继承自type\n",
    "#元类一般命名以MetaClass结尾\n",
    "class TulingMetaClass(type):\n",
    "    #注意一下写法\n",
    "    def __new__(cls,name,bases,attrs):\n",
    "        #自己的业务处理\n",
    "        print(\"我是元类\")\n",
    "        attrs[\"id\"] = \"000000\"\n",
    "        attrs[\"addr\"] = \"北京海淀区\"\n",
    "        return type.__new__(cls,name,bases,attrs)\n",
    "    \n",
    "# 元类定义完就可以使用，注意写法\n",
    "class Teacher(object,metaclass=TulingMetaClass):\n",
    "    pass\n",
    "t = Teacher()\n",
    "print(t.id)\n",
    "print(t.addr)"
   ]
  },
  {
   "cell_type": "code",
   "execution_count": null,
   "metadata": {},
   "outputs": [],
   "source": []
  }
 ],
 "metadata": {
  "kernelspec": {
   "display_name": "Python 3",
   "language": "python",
   "name": "python3"
  },
  "language_info": {
   "codemirror_mode": {
    "name": "ipython",
    "version": 3
   },
   "file_extension": ".py",
   "mimetype": "text/x-python",
   "name": "python",
   "nbconvert_exporter": "python",
   "pygments_lexer": "ipython3",
   "version": "3.7.3"
  }
 },
 "nbformat": 4,
 "nbformat_minor": 2
}
