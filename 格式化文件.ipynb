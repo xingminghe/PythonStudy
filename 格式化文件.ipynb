{
 "cells": [
  {
   "cell_type": "markdown",
   "metadata": {},
   "source": [
    "# 结构化文件存储\n",
    "- xml,json\n",
    "- 为了解决不同设备之间信息交换"
   ]
  },
  {
   "cell_type": "markdown",
   "metadata": {},
   "source": [
    "# XML文件\n",
    "- 参考资料\n",
    "    - https://docs.python.org/3/library/xml.etree.elementtree.html\n",
    "    - http://www.runoob.com/python/python-xml.html\n",
    "    - https://blog.csdn.net/seetheworld518/article/details/49535285\n",
    " \n",
    "- XML(eXtensibleMarkupLanguage)\n",
    "    - 标记语言：语言使用中使用尖括号括起来的文本字符串标记\n",
    "    - 可扩展：用户可以自己定义需要的标记\n",
    "    - 例如：\n",
    "    - \n",
    "    ```\n",
    "    <Teacher>\n",
    "        自定义标记Teacher\n",
    "        在两个标记之间任何内容都应该跟Teacher相关\n",
    "     </Teacher>\n",
    "     ```\n",
    "     \n",
    "    - 是w3c组织制定的一个标准\n",
    "    - XML描述的是数据本身，即数据的结构和语义\n",
    "    - HTML侧重于如何显示web页面中的数据"
   ]
  },
  {
   "cell_type": "code",
   "execution_count": null,
   "metadata": {},
   "outputs": [],
   "source": []
  }
 ],
 "metadata": {
  "kernelspec": {
   "display_name": "Python 3",
   "language": "python",
   "name": "python3"
  },
  "language_info": {
   "codemirror_mode": {
    "name": "ipython",
    "version": 3
   },
   "file_extension": ".py",
   "mimetype": "text/x-python",
   "name": "python",
   "nbconvert_exporter": "python",
   "pygments_lexer": "ipython3",
   "version": "3.7.3"
  }
 },
 "nbformat": 4,
 "nbformat_minor": 2
}
