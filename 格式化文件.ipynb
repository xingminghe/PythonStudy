{
 "cells": [
  {
   "cell_type": "markdown",
   "metadata": {},
   "source": [
    "# 结构化文件存储\n",
    "- xml,json\n",
    "- 为了解决不同设备之间信息交换"
   ]
  },
  {
   "cell_type": "markdown",
   "metadata": {},
   "source": [
    "# XML文件\n",
    "- 参考资料\n",
    "    - https://docs.python.org/3/library/xml.etree.elementtree.html\n",
    "    - http://www.runoob.com/python/python-xml.html\n",
    "    - https://blog.csdn.net/seetheworld518/article/details/49535285\n",
    " \n",
    "- XML(eXtensibleMarkupLanguage)\n",
    "    - 标记语言：语言使用中使用尖括号括起来的文本字符串标记\n",
    "    - 可扩展：用户可以自己定义需要的标记\n",
    "    - 例如：\n",
    "    - \n",
    "    ```\n",
    "    <Teacher>\n",
    "        自定义标记Teacher\n",
    "        在两个标记之间任何内容都应该跟Teacher相关\n",
    "     </Teacher>\n",
    "     ```\n",
    "     \n",
    "    - 是w3c组织制定的一个标准\n",
    "    - XML描述的是数据本身，即数据的结构和语义\n",
    "    - HTML侧重于如何显示web页面中的数据"
   ]
  },
  {
   "cell_type": "markdown",
   "metadata": {},
   "source": [
    "# XML文档的构成\n",
    "- 处理指令(可以认为一个文件内只有一个处理指令)\n",
    "    - 最多只有一行\n",
    "    - 且必须在第一行\n",
    "    - 内容是与xml本身处理起相关的一些声明或者指令\n",
    "    - 以xml关键字开头\n",
    "    - 一般用于声明XML的版本和采用的编码\n",
    "        - version属性是必须的\n",
    "        - encoding属性用来指出xml解释器使用的编码\n",
    "        \n",
    "- 根元素（一个文件内只有一个根元素）\n",
    "    - 在整个xml文件中可以把他看作一个树形结构\n",
    "    - 根元素有且只有一个\n",
    "\n",
    "- 子元素\n",
    "- 属性\n",
    "- 内容\n",
    "    - 表明标签所存储的信息\n",
    "\n",
    "- 注释\n",
    "    - 起说明作用的信息\n",
    "    - 注释不能嵌套在标签里\n",
    "    - 只有在注释的开始和结尾使用双短横线\n",
    "    - 三短横线只能出现在注释的开头而不能用在结尾\n",
    "    ```\n",
    "    <name> <!--wangdapeng-->   </name> #可以\n",
    "    <name <!--wangdapeng-->>   </name> #不可以，注释在标签内\n",
    "    <!--my-name-by-wang--> #可以，注释内容可以有一个短横线\n",
    "    <!--my--name--by--wang-->#不可以，双短横线只能出现在开头或结尾\n",
    "    <!---my-name--> #可以， 三短横线只能出现在开头\n",
    "    <!---my-name---> #不可以， 三短横线只能出现在开头  \n",
    "    ```"
   ]
  },
  {
   "cell_type": "markdown",
   "metadata": {},
   "source": [
    "# 保留字符的处理\n",
    "- XML中使用的符号可能跟实际符号相冲突，典型的就是左右尖括号\n",
    "- 使用实体引用(EntityReference)来表示保留字符<score> score>80 </score> #有错误，xml中不能出现>\n",
    "<score> score &gt:(;) 80</score> #使用实体引用\n",
    "- 把含有保留字符的部分放在CDATA块内部，CDATA块把内部信息视为不需要转义\n",
    "```\n",
    "<![CDATA[\n",
    "  select name,age\n",
    "  from Student\n",
    "  where score>80\n",
    "  ]]>\n",
    "```\n",
    "\n",
    "- 常用的需要转移的保留字符和对应实体引用\n",
    "```\n",
    "& :  &amp:(;)\n",
    "< : &lt:(;)\n",
    "> : &gt:(;)\n",
    "‘ : &apos:(;)\n",
    "” : &quot:(;)\n",
    "```\n",
    "- 一共五个， 每个实体引用都以&开头并且以分号 ; 结尾"
   ]
  },
  {
   "cell_type": "markdown",
   "metadata": {},
   "source": [
    "# XML标签的命名规则\n",
    "- Pascal命名法\n",
    "- 用单词表示，第一个字母大写\n",
    "- 大小写严格区分\n",
    "- 配对的标签必须一致"
   ]
  },
  {
   "cell_type": "markdown",
   "metadata": {},
   "source": [
    "# 命名空间\n",
    "### 为了防止命名冲突"
   ]
  },
  {
   "cell_type": "markdown",
   "metadata": {},
   "source": [
    "```\n",
    "<Student>\n",
    "    <Name>LiuYing</Name>\n",
    "    <Age>23</Age>\n",
    "</Student>\n",
    "<Room>\n",
    "    <Name>2014</Name>\n",
    "    <Location>1-23-1</Location>\n",
    "</Room>\n",
    "```\n",
    "\n",
    "### 如果归并上述两个内容信息，会产生冲突,有两个Name元素\n",
    "\n",
    "```\n",
    "<Student>\n",
    "    <Name>LiuYing</Name>\n",
    "    <Age>23</Age>\n",
    "    <Name>2014</Name>\n",
    "    <Location>1-23-1</Location>\n",
    "</Student>\n",
    "```\n",
    "\n",
    "### 为了避免冲突，需要给可能冲突元素添加命名空间\n",
    "\n",
    "#### xmlns: xml name space 的缩写\n",
    "\n",
    "```\n",
    "<Schoolert xmlns:student=\"http://my_student\" xmlns:room=\"http://my_room\">\n",
    "    <student:Name>LiuYing</student:Name>\n",
    "    <Age>23</Age>\n",
    "    <room:Name>2014</room:Name>\n",
    "    <Location>1-23-1</Location>\n",
    "</Schooler>\n",
    "```"
   ]
  },
  {
   "cell_type": "markdown",
   "metadata": {},
   "source": [
    "# XML访问\n",
    "## 读取"
   ]
  },
  {
   "cell_type": "markdown",
   "metadata": {},
   "source": [
    "- XML读取分两个主要技术: SAX, DOM\n",
    "- SAX（Simple API for XML):\n",
    "    - 基于事件驱动的API\n",
    "    - 利用SAX解析文档设计到解析器和事件处理两部分\n",
    "    - 特点\n",
    "        - 快\n",
    "        - 流式读取\n",
    "- DOM\n",
    "    - 是W3C规定的XML编程接口\n",
    "    - 一个XML文件再缓存中以树形结构保存，读取\n",
    "    - 用途\n",
    "        - 定位浏览XML任何一个节点信息\n",
    "        - 添加删除相应内容\n",
    "    - minidom\n",
    "        - minidom.parse(filename):加载读取的xml文件, filename也可以是xml代码\n",
    "        - doc.documentElement:获取xml文档对象，一个xml文件只有一个对于的文档对象\n",
    "        - node.getAttribute(attr_name):获取xml节点的属性值\n",
    "        - node.getElementByTagName(tage_name)：得到一个节点对象集合\n",
    "        - node.childNodes:得到所有孩子节点\n",
    "        - node.childNodes[index].nodeValue:获取单个节点值\n",
    "        - node.firstNode:得到第一个节点，等价于node.childNodes[0]\n",
    "        - node.attributes[tage_name]\n",
    "        - 案例01\n",
    "\n",
    "- etree\n",
    "    - 以树形结构来表示xml\n",
    "    - root.getiterator:得到相应的可迭代的node集合\n",
    "    - root.iter\n",
    "    - find(node_name):查找指定node_name的节点,返回一个node\n",
    "    - root.findall(node_name):返回多个node_name的节点\n",
    "    - node.tag: node对应的tagename\n",
    "    - node.text:node的文本值\n",
    "    - node.attrib： 是node的属性的字典类型的内容\n",
    "    - 案例02\n",
    "    \n",
    "- xml写入\n",
    "    - 更改\n",
    "        - ele.set:修改属性\n",
    "        - ele.append: 添加子元素\n",
    "        - ele.remove:删除元素\n",
    "        - 案例03\n",
    "    - 生成创建\n",
    "        - SubElement, 案例04\n",
    "        - minidom 写入， 案例05\n",
    "        - etree创建， 案例06"
   ]
  },
  {
   "cell_type": "markdown",
   "metadata": {},
   "source": [
    "# JSON\n",
    "- 在线工具\n",
    "    - https://www.sojson.com/\n",
    "    - http://www.w3school.com.cn/json/\n",
    "    - http://www.runoob.com/json/json-tutorial.html\n",
    "- JSON(JavaScriptObjectNotation)\n",
    "- 轻量级的数据交换格式，基于ECMAScript\n",
    "- json格式是一个键值对形式的数据集\n",
    "    - key: 字符串\n",
    "    - value:字符串，数字，列表，json\n",
    "    - json使用大括号包裹\n",
    "    - 键值对直接用都好隔开\n",
    "- json 和 python 格式的对应\n",
    "\t- 字符串：字符串\n",
    "\t- 数字：数字\n",
    "\t- 队列：list\n",
    "\t- 对象：dict\n",
    "\t- 布尔值：布尔值\n",
    "- python for json\n",
    "\t- json包\n",
    "\t- json和python对象的转换\n",
    "\t\t- json.dumps():对数据编码，把python格式表示成json格式\n",
    "\t\t- json.loads(): 对数据解码，把json格式转换成python格式\n",
    "- python读取json文件\n",
    "\t- json.dump(): 把内容写入文件\n",
    "\t- json.load(): 把json文件内容读入python\n",
    "- 案例07\n",
    "- 案例08读取文件\n"
   ]
  },
  {
   "cell_type": "markdown",
   "metadata": {},
   "source": [
    "# 正则表达式(RegularExpression, RE)\n",
    "- 是一个计算机科学的概念\n",
    "- 用于使用单个字符串来描述，匹配符合某个规则的字符串\n",
    "- 常常用来检索，替换某些模式的文本"
   ]
  },
  {
   "cell_type": "markdown",
   "metadata": {},
   "source": [
    "# 正则的写法\n",
    "- .(点号):表示任意一个字符，除了\\n, 比如查找所有的一个字符 .\n",
    "- []: 匹配中括号中列举的任意字符，比如[L,Y,0] , LLY, Y0, LIU\n",
    "- \\d: 任意一个数字\n",
    "- \\D:除了数字都可以\n",
    "- \\s:表示空格，tab键\n",
    "- \\S:除了空白符号\n",
    "- \\w: 单词字符， 就是a-z, A-Z, 0-9, _\n",
    "- \\W: 除了\n",
    "- ： 表示前面内容重复零次或者多次， \\w\n",
    "- +: 表示前面内容至少出现一次\n",
    "- ？： 前面才出现的内容零次或者一次\n",
    "- {m,n}:允许前面内容出现最少m次，最多n次\n",
    "- ^:匹配字符串的开始\n",
    "- $:匹配字符串的结尾\n",
    "- \\b:匹配单词的边界\n",
    "- ():对正则表达式内容进行分组， 从第一个括号开始，编号逐渐增大\n",
    "\n",
    "```\n",
    "验证一个数字： ^\\d$\n",
    "必须有一个数字，最少一位：^\\d+$\n",
    "只能出现数字，且位数为5-10位： ^\\d{5,10}$\n",
    "注册者输入年龄，要求16岁以上，99岁以下： ^[16-99]$\n",
    "只能输入英文字符和数字： ^[A-Za-z0-9]$\n",
    "验证qq号码： [0-9]{5,12}\n",
    "```\n",
    "- \\A: 只匹配字符串开头， \\Aabcd, 则abcd\n",
    "- \\Z: 仅匹配字符串末尾， abcd\\Z, abcd\n",
    "- |: 左右任意一个\n",
    "- (?P<name>…): 分组，除了原来的编号再制定一个别名， (?P<id>12345){2}， 1234512345\n",
    "- (?P=name): 引用分组\n",
    "\n"
   ]
  },
  {
   "cell_type": "markdown",
   "metadata": {},
   "source": [
    "# RE使用大致步骤\n",
    "- 使用compile将表示正则的字符串编译为一个pattern对象\n",
    "- 通过pattern对象提供一系列方法对文本进行查找匹配，获得匹配结果，一个Match对象\n",
    "- 最后利用Match对象提供的属性和方法获得信息，根据需要进行操作"
   ]
  },
  {
   "cell_type": "markdown",
   "metadata": {},
   "source": [
    "# RE常用函数\n",
    "- group()获得一个或者多个分组匹配的字符串，当要获得整个匹配的字符串时，直接使用group或者group(0)\n",
    "- start: 获取分组匹配的字符串在整个字符串中的起始位置，参数默认为0.\n",
    "- end: 获取分组匹配的字符串在整个字符串中的结束位置，参数默认为0.\n",
    "- span: 返回的结构(start(group),end(group))\n"
   ]
  },
  {
   "cell_type": "code",
   "execution_count": 28,
   "metadata": {},
   "outputs": [
    {
     "name": "stdout",
     "output_type": "stream",
     "text": [
      "None\n"
     ]
    }
   ],
   "source": [
    "# 导入相关包\n",
    "import re\n",
    "\n",
    "# 查找数字\n",
    "# r表示字符串不转义\n",
    "p = re.compile(r'\\d{2,3}')\n",
    "#在字符串“one123twothree33456four78”中进行查找，按照规则p制定的正则进行查找\n",
    "#返回结果None表示没有找到，否则会返回match对象\n",
    "a = [212,'ni',4,'dana','girl',2,9,True]\n",
    "m = p.match('one123twothree33456four78')\n",
    "print(m)"
   ]
  }
 ],
 "metadata": {
  "kernelspec": {
   "display_name": "Python 3",
   "language": "python",
   "name": "python3"
  },
  "language_info": {
   "codemirror_mode": {
    "name": "ipython",
    "version": 3
   },
   "file_extension": ".py",
   "mimetype": "text/x-python",
   "name": "python",
   "nbconvert_exporter": "python",
   "pygments_lexer": "ipython3",
   "version": "3.7.3"
  }
 },
 "nbformat": 4,
 "nbformat_minor": 2
}
