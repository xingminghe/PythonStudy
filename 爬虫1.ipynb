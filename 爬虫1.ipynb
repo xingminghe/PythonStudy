{
 "cells": [
  {
   "cell_type": "markdown",
   "metadata": {},
   "source": [
    "# 爬虫准备工作\n",
    "- 参考资料\n",
    "    - python网络数据采集， 图灵工业出版\n",
    "    - 精通Python爬虫框架Scrapy， 人民邮电出版社\n",
    "    - [Python3网络爬虫](https://blog.csdn.net/c406495762/article/details/72858983)\n",
    "    - [Scrapy官方教程](https://scrapy-chs.readthedocs.io/zh_CN/0.24/intro/tutorial.html)\n",
    "- 前提知识\n",
    "    - url\n",
    "    - http协议\n",
    "    - web前端，html, css, js\n",
    "    - ajax\n",
    "    - re, xpath\n",
    "    - xml"
   ]
  },
  {
   "cell_type": "markdown",
   "metadata": {},
   "source": [
    "# 1. 爬虫简介"
   ]
  },
  {
   "cell_type": "markdown",
   "metadata": {},
   "source": [
    "- 爬虫定义：网络爬虫（又被称为网页蜘蛛，网络机器人，在FOAF社区中间，更经常的称为网页追逐者）， 是一种按照一定的规则，自动地抓取万维网信息的程序或者脚本。 另外一些不常使用的名字还有蚂蚁、自动索引、模拟程序或者蠕虫。\n",
    "- 两大特征\n",
    "    - 能按作者要求下载数据或者内容\n",
    "    - 能自动在网络上流窜\n",
    "- 三大步骤：\n",
    "    - 下载网页\n",
    "    - 提取正确的信息\n",
    "    - 根据一定规则自动跳到另外的网页上执行上两步内容\n",
    "- 爬虫分类\n",
    "    - 通用爬虫\n",
    "    - 专用爬虫（聚焦爬虫）\n",
    "- Python网络包简介\n",
    "    - Python2.x：urllib, urllib2, urllib3, httplib, httplib2, requests\n",
    "    - Python3.x: urllib, urllib3, httplib2, requests\n",
    "    - python2: urllib和urllib2配合使用，或者requests\n",
    "    - Python3： urllib，requests\n"
   ]
  },
  {
   "cell_type": "markdown",
   "metadata": {},
   "source": [
    "# 2. urllib\n",
    "### 包含模块\n",
    "- urllib.request: 打开和读取urls\n",
    "- urllib.error： 包含urllib.request产生的常见的错误，使用try捕捉\n",
    "- urllib.parse: 包含解析url的方法\n",
    "- urllib.robotparse: 解析robots.txt文件\n",
    "- [RTFM](https://docs.python.org/3/library/index.html)\n",
    "- 案例v1"
   ]
  },
  {
   "cell_type": "markdown",
   "metadata": {},
   "source": [
    "# 网页编码问题解决\n",
    "- chardet 可以自动检测页面文件的编码格式，但是，可能有误\n",
    "- 需要安装， pip install chardet\n",
    "- RTFM\n",
    "- 案例v2"
   ]
  },
  {
   "cell_type": "markdown",
   "metadata": {},
   "source": [
    "# urlopen 的返回对象\n",
    "- 案例v3\n",
    "- geturl: 返回请求对象的url\n",
    "- info: 请求反馈对象的meta信息\n",
    "- getcode：返回的http code\n"
   ]
  },
  {
   "cell_type": "markdown",
   "metadata": {},
   "source": [
    "# request.data 的使用\n",
    "- 访问网络的两种方法\n",
    "    - get\n",
    "        - 利用参数给服务器传递信息\n",
    "        - 参数为dict，然后用parse编码\n",
    "        - 案例v4\n",
    "- post\n",
    "    - 一般向服务器传递参数使用\n",
    "    - post是把信息自动加密处理\n",
    "    - 我们如果想使用psot信息，需要用到data参数\n",
    "    - 使用post，意味着Http的请求头可能需要更改：\n",
    "        - Content-Type: application/x-www.form-urlencode\n",
    "        - Content-Length: 数据长度\n",
    "        - 简而言之，一旦更改请求方法，请注意其他请求头部信息相适应\n",
    "    - urllib.parse.urlencode 可以将字符串自动转换成上面的形式\n",
    "    - 案例v5\n",
    "    - 为了更多的设置请求信息，单纯的通过urlopen函数已经不太好用了\n",
    "    - 需要利用request.Request 类\n",
    "    - 案例V6\n",
    "\n",
    "    "
   ]
  },
  {
   "cell_type": "markdown",
   "metadata": {},
   "source": [
    "### urllib.error\n",
    "- URLError产生的原因：\n",
    "    - 没网\n",
    "    - 服务器链接失败\n",
    "    - 找不到服务器\n",
    "    - 是OSError的子类\n",
    "    - RTFB\n",
    "    - 案例V7\n",
    "- HTTPError, 是URLError的一个子类\n",
    "    - 案例v8\n",
    "    \n",
    "- 两者区别：\n",
    "    - HTTPError 是对应的HTTP请求的返回码错误, 如果返回错误码是400以上的，则引发HTTPError\n",
    "    - URLError 对应的一般是网络出现问题，包括url问题\n",
    "    - 关系区别： OSError-URLError-HTTPError"
   ]
  },
  {
   "cell_type": "markdown",
   "metadata": {},
   "source": [
    "# UserAgent\n",
    "- UserAgent： 用户代理，简称UA， 属于heads的一部分，服务器通过UA来判断访问者身份\n",
    "- 常见的UA值，使用的时候可以直接复制粘贴，也可以用浏览器访问的时候抓包\n",
    "- 1. Android\n",
    "```\n",
    "Mozilla/5.0 (Linux; Android 4.1.1; Nexus 7 Build/JRO03D) AppleWebKit/535.19 (KHTML, like Gecko) Chrome/18.0.1025.166 Safari/535.19\n",
    "Mozilla/5.0 (Linux; U; Android 4.0.4; en-gb; GT-I9300 Build/IMM76D) AppleWebKit/534.30 (KHTML, like Gecko) Version/4.0 Mobile Safari/534.30\n",
    "Mozilla/5.0 (Linux; U; Android 2.2; en-gb; GT-P1000 Build/FROYO) AppleWebKit/533.1 (KHTML, like Gecko) Version/4.0 Mobile Safari/533.1\n",
    "```\n",
    "- 2. Firefox\n",
    "```\n",
    "Mozilla/5.0 (Windows NT 6.2; WOW64; rv:21.0) Gecko/20100101 Firefox/21.0\n",
    "Mozilla/5.0 (Android; Mobile; rv:14.0) Gecko/14.0 Firefox/14.0\n",
    "```\n",
    "- 3. Google Chrome\n",
    "```\n",
    "Mozilla/5.0 (Windows NT 6.2; WOW64) AppleWebKit/537.36 (KHTML, like Gecko) Chrome/27.0.1453.94 Safari/537.36\n",
    "Mozilla/5.0 (Linux; Android 4.0.4; Galaxy Nexus Build/IMM76B) AppleWebKit/535.19 (KHTML, like Gecko) Chrome/18.0.1025.133 Mobile Safari/535.19\n",
    "```\n",
    "- 4. iOS\n",
    "```\n",
    "Mozilla/5.0 (iPad; CPU OS 5_0 like Mac OS X) AppleWebKit/534.46 (KHTML, like Gecko) Version/5.1 Mobile/9A334 Safari/7534.48.3\n",
    "Mozilla/5.0 (iPod; U; CPU like Mac OS X; en) AppleWebKit/420.1 (KHTML, like Gecko) Version/3.0 Mobile/3A101a Safari/419.3\n",
    "```\n",
    "- 设置UA可以通过两种方式：\n",
    "    - heads\n",
    "    - add_header\n",
    "    - 案例v9"
   ]
  },
  {
   "cell_type": "markdown",
   "metadata": {},
   "source": [
    "# ProxyHandler处理（代理服务器）\n",
    "- 使用代理IP，是爬虫的常用手段\n",
    "- 获取代理服务器的地址：\n",
    "    - www.xicidaili.com\n",
    "    - www.goubanjia.com\n",
    "- 代理用来隐藏真实访问中，代理也不允许频繁访问某一个固定网站，所以，代理一定要很多很多\n",
    "- 基本使用步骤：\n",
    "    - 设置代理地址\n",
    "    - 创建ProxyHandler\n",
    "    - 创建Opener\n",
    "    - 安装Opener\n",
    "- 案例v10"
   ]
  },
  {
   "cell_type": "markdown",
   "metadata": {},
   "source": [
    "# cookie & session\n",
    "- 由于http协议的无记忆性，人们为了弥补这个缺憾，所采用的一个补充协议\n",
    "- cookie是发放给用户（即http浏览器）的一段信息，session是保存在服务器上的对应的另一半信息，用来记录用户信息\n",
    "- cookie和session的区别\n",
    "    - 存放位置不同\n",
    "    - cookie不安全\n",
    "    - session会保存在服务器上一定时间，会过期\n",
    "    - 单个cookie保存数据不超过4k， 很多浏览器限制一个站点最多保存20个\n",
    "    \n",
    "    \n",
    "- session的存放位置\n",
    "    - 存在服务器端\n",
    "    - 一般情况，session是放在内存中或者数据库中\n",
    "    - 没有cookie登录 案例v11,可以看到，没使用cookie则反馈网页为未登录状态\n",
    "    \n",
    "    \n",
    "- 使用cookie登录\n",
    "    - 直接把cookie复制下来，然后手动放入请求头， 案例 v12\n",
    "    - http模块包含一些关于cookie的模块，通过他们我们可以自动使用cookie\n",
    "        - CookieJar\n",
    "            - 管理存储cookie，向传出的http请求添加cookie，\n",
    "            - cookie存储在内存中，CookieJar实例回收后cookie将消失\n",
    "            \n",
    "        - FileCookieJar(filename, delayload=None, policy=None):\n",
    "            - 使用文件管理cookie\n",
    "            - filename是保存cookie的文件\n",
    "            \n",
    "        - MozillaCookieJar(filename, delayload=None, policy=None):\n",
    "            - 创建与mocilla浏览器cookie.txt兼容的FileCookieJar实例   \n",
    "            \n",
    "        - LwpCookieJar(filename, delayload=None, policy=None):\n",
    "            - 创建与libwww-perl标准兼容的Set-Cookie3格式的FileCookieJar实例\n",
    "                  \n",
    "        - 他们的关系是: CookieJar–>FileCookieJar–>MozillaCookieJar & LwpCookieJar\n",
    "        \n",
    "        \n",
    "- 利用cookiejar访问人人， 案例13\n",
    "    - 自动使用cookie登录，大致流程是\n",
    "        - 打开登录页面后自动通过用户名密码登录\n",
    "        - 自动提取反馈回来的cookie\n",
    "        - 利用提取的cookie登录隐私页面"
   ]
  },
  {
   "cell_type": "code",
   "execution_count": null,
   "metadata": {},
   "outputs": [],
   "source": []
  }
 ],
 "metadata": {
  "kernelspec": {
   "display_name": "Python 3",
   "language": "python",
   "name": "python3"
  },
  "language_info": {
   "codemirror_mode": {
    "name": "ipython",
    "version": 3
   },
   "file_extension": ".py",
   "mimetype": "text/x-python",
   "name": "python",
   "nbconvert_exporter": "python",
   "pygments_lexer": "ipython3",
   "version": "3.7.3"
  }
 },
 "nbformat": 4,
 "nbformat_minor": 2
}
