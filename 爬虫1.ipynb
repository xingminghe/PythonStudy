{
 "cells": [
  {
   "cell_type": "markdown",
   "metadata": {},
   "source": [
    "# 爬虫准备工作\n",
    "- 参考资料\n",
    "    - python网络数据采集， 图灵工业出版\n",
    "    - 精通Python爬虫框架Scrapy， 人民邮电出版社\n",
    "    - [Python3网络爬虫](https://blog.csdn.net/c406495762/article/details/72858983)\n",
    "    - [Scrapy官方教程](https://scrapy-chs.readthedocs.io/zh_CN/0.24/intro/tutorial.html)\n",
    "- 前提知识\n",
    "    - url\n",
    "    - http协议\n",
    "    - web前端，html, css, js\n",
    "    - ajax\n",
    "    - re, xpath\n",
    "    - xml"
   ]
  },
  {
   "cell_type": "markdown",
   "metadata": {},
   "source": [
    "# 1. 爬虫简介"
   ]
  },
  {
   "cell_type": "markdown",
   "metadata": {},
   "source": [
    "- 爬虫定义：网络爬虫（又被称为网页蜘蛛，网络机器人，在FOAF社区中间，更经常的称为网页追逐者）， 是一种按照一定的规则，自动地抓取万维网信息的程序或者脚本。 另外一些不常使用的名字还有蚂蚁、自动索引、模拟程序或者蠕虫。\n",
    "- 两大特征\n",
    "    - 能按作者要求下载数据或者内容\n",
    "    - 能自动在网络上流窜\n",
    "- 三大步骤：\n",
    "    - 下载网页\n",
    "    - 提取正确的信息\n",
    "    - 根据一定规则自动跳到另外的网页上执行上两步内容\n",
    "- 爬虫分类\n",
    "    - 通用爬虫\n",
    "    - 专用爬虫（聚焦爬虫）\n",
    "- Python网络包简介\n",
    "    - Python2.x：urllib, urllib2, urllib3, httplib, httplib2, requests\n",
    "    - Python3.x: urllib, urllib3, httplib2, requests\n",
    "    - python2: urllib和urllib2配合使用，或者requests\n",
    "    - Python3： urllib，requests\n"
   ]
  },
  {
   "cell_type": "markdown",
   "metadata": {},
   "source": [
    "# 2. urllib\n",
    "### 包含模块\n",
    "- urllib.request: 打开和读取urls\n",
    "- urllib.error： 包含urllib.request产生的常见的错误，使用try捕捉\n",
    "- urllib.parse: 包含解析url的方法\n",
    "- urllib.robotparse: 解析robots.txt文件\n",
    "- [RTFM](https://docs.python.org/3/library/index.html)\n",
    "- 案例v1"
   ]
  },
  {
   "cell_type": "markdown",
   "metadata": {},
   "source": [
    "# 网页编码问题解决\n",
    "- chardet 可以自动检测页面文件的编码格式，但是，可能有误\n",
    "- 需要安装， pip install chardet\n",
    "- RTFM\n",
    "- 案例v2"
   ]
  },
  {
   "cell_type": "markdown",
   "metadata": {},
   "source": [
    "# urlopen 的返回对象\n",
    "- 案例v3\n",
    "- geturl: 返回请求对象的url\n",
    "- info: 请求反馈对象的meta信息\n",
    "- getcode：返回的http code\n"
   ]
  },
  {
   "cell_type": "markdown",
   "metadata": {},
   "source": [
    "# request.data 的使用\n",
    "- 访问网络的两种方法\n",
    "    - get\n",
    "        - 利用参数给服务器传递信息\n",
    "        - 参数为dict，然后用parse编码\n",
    "        - 案例v4\n",
    "- post\n",
    "    - 一般向服务器传递参数使用\n",
    "    - post是把信息自动加密处理\n",
    "    - 我们如果想使用psot信息，需要用到data参数\n",
    "    - 使用post，意味着Http的请求头可能需要更改：\n",
    "        - Content-Type: application/x-www.form-urlencode\n",
    "        - Content-Length: 数据长度\n",
    "        - 简而言之，一旦更改请求方法，请注意其他请求头部信息相适应\n",
    "    - urllib.parse.urlencode 可以将字符串自动转换成上面的形式\n",
    "    - 案例v5\n",
    "    - 为了更多的设置请求信息，单纯的通过urlopen函数已经不太好用了\n",
    "    - 需要利用request.Request 类\n",
    "    - 案例V6\n",
    "\n",
    "    "
   ]
  },
  {
   "cell_type": "markdown",
   "metadata": {},
   "source": [
    "### urllib.error\n",
    "- URLError产生的原因：\n",
    "    - 没网\n",
    "    - 服务器链接失败\n",
    "    - 找不到服务器\n",
    "    - 是OSError的子类\n",
    "    - RTFB\n",
    "    - 案例V7\n",
    "- HTTPError, 是URLError的一个子类\n",
    "    - 案例v8\n",
    "    \n",
    "- 两者区别：\n",
    "    - HTTPError 是对应的HTTP请求的返回码错误, 如果返回错误码是400以上的，则引发HTTPError\n",
    "    - URLError 对应的一般是网络出现问题，包括url问题\n",
    "    - 关系区别： OSError-URLError-HTTPError"
   ]
  }
 ],
 "metadata": {
  "kernelspec": {
   "display_name": "Python 3",
   "language": "python",
   "name": "python3"
  },
  "language_info": {
   "codemirror_mode": {
    "name": "ipython",
    "version": 3
   },
   "file_extension": ".py",
   "mimetype": "text/x-python",
   "name": "python",
   "nbconvert_exporter": "python",
   "pygments_lexer": "ipython3",
   "version": "3.7.3"
  }
 },
 "nbformat": 4,
 "nbformat_minor": 2
}
