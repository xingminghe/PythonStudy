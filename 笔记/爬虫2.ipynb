{
 "cells": [
  {
   "cell_type": "markdown",
   "metadata": {},
   "source": [
    "# 页面解析和数据提取\n",
    "- 结构数据：先有的结构，再谈数据\n",
    "    - JSON文件\n",
    "        - JSON Path\n",
    "        - 转换成Python类型进行操作（json类）\n",
    "    - XML文件\n",
    "        - 转换成python类型（xmltodict）\n",
    "        - Xpath\n",
    "        - CSS选择器\n",
    "        - 正则\n",
    "       \n",
    "- 非结构化数据：先有数据，再谈结构\n",
    "    - 文本\n",
    "    - 电话号码\n",
    "    - 邮箱地址\n",
    "        - 通常处理此类数据使用正则表达式\n",
    "    - Html文件\n",
    "        - 正则\n",
    "        - XPath\n",
    "        - CSS选择器\n",
    "        \n",
    "        \n",
    "# 正则表达式\n",
    "- 一套规则，可以在字符串文本中进行搜查替换等\n",
    "- 案例v24,re的基本使用流程"
   ]
  }
 ],
 "metadata": {
  "kernelspec": {
   "display_name": "Python 3",
   "language": "python",
   "name": "python3"
  },
  "language_info": {
   "codemirror_mode": {
    "name": "ipython",
    "version": 3
   },
   "file_extension": ".py",
   "mimetype": "text/x-python",
   "name": "python",
   "nbconvert_exporter": "python",
   "pygments_lexer": "ipython3",
   "version": "3.7.3"
  }
 },
 "nbformat": 4,
 "nbformat_minor": 2
}
