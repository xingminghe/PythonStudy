{
 "cells": [
  {
   "cell_type": "markdown",
   "metadata": {},
   "source": [
    "# 爬虫准备工作\n",
    "- 参考资料\n",
    "    - python网络数据采集， 图灵工业出版\n",
    "    - 精通Python爬虫框架Scrapy， 人民邮电出版社\n",
    "    - [Python3网络爬虫](https://blog.csdn.net/c406495762/article/details/72858983)\n",
    "    - [Scrapy官方教程](https://scrapy-chs.readthedocs.io/zh_CN/0.24/intro/tutorial.html)\n",
    "- 前提知识\n",
    "    - url\n",
    "    - http协议\n",
    "    - web前端，html, css, js\n",
    "    - ajax\n",
    "    - re, xpath\n",
    "    - xml"
   ]
  },
  {
   "cell_type": "markdown",
   "metadata": {},
   "source": [
    "# 1. 爬虫简介"
   ]
  },
  {
   "cell_type": "markdown",
   "metadata": {},
   "source": [
    "- 爬虫定义：网络爬虫（又被称为网页蜘蛛，网络机器人，在FOAF社区中间，更经常的称为网页追逐者）， 是一种按照一定的规则，自动地抓取万维网信息的程序或者脚本。 另外一些不常使用的名字还有蚂蚁、自动索引、模拟程序或者蠕虫。\n",
    "- 两大特征\n",
    "    - 能按作者要求下载数据或者内容\n",
    "    - 能自动在网络上流窜\n",
    "- 三大步骤：\n",
    "    - 下载网页\n",
    "    - 提取正确的信息\n",
    "    - 根据一定规则自动跳到另外的网页上执行上两步内容\n",
    "- 爬虫分类\n",
    "    - 通用爬虫\n",
    "    - 专用爬虫（聚焦爬虫）\n",
    "- Python网络包简介\n",
    "    - Python2.x：urllib, urllib2, urllib3, httplib, httplib2, requests\n",
    "    - Python3.x: urllib, urllib3, httplib2, requests\n",
    "    - python2: urllib和urllib2配合使用，或者requests\n",
    "    - Python3： urllib，requests\n"
   ]
  },
  {
   "cell_type": "markdown",
   "metadata": {},
   "source": [
    "# 2. urllib\n",
    "### 包含模块\n",
    "- urllib.request: 打开和读取urls\n",
    "- urllib.error： 包含urllib.request产生的常见的错误，使用try捕捉\n",
    "- urllib.parse: 包含解析url的方法\n",
    "- urllib.robotparse: 解析robots.txt文件\n",
    "- [RTFM](https://docs.python.org/3/library/index.html)\n",
    "- 案例v1"
   ]
  },
  {
   "cell_type": "markdown",
   "metadata": {},
   "source": [
    "# 网页编码问题解决\n",
    "- chardet 可以自动检测页面文件的编码格式，但是，可能有误\n",
    "- 需要安装， pip install chardet\n",
    "- RTFM\n",
    "- 案例v2"
   ]
  },
  {
   "cell_type": "markdown",
   "metadata": {},
   "source": [
    "# urlopen 的返回对象\n",
    "- 案例v3\n",
    "- geturl: 返回请求对象的url\n",
    "- info: 请求反馈对象的meta信息\n",
    "- getcode：返回的http code\n"
   ]
  },
  {
   "cell_type": "markdown",
   "metadata": {},
   "source": [
    "# request.data 的使用\n",
    "- 访问网络的两种方法\n",
    "    - get\n",
    "        - 利用参数给服务器传递信息\n",
    "        - 参数为dict，然后用parse编码\n",
    "        - 案例v4\n",
    "- post\n",
    "    - 一般向服务器传递参数使用\n",
    "    - post是把信息自动加密处理\n",
    "    - 我们如果想使用psot信息，需要用到data参数\n",
    "    - 使用post，意味着Http的请求头可能需要更改：\n",
    "        - Content-Type: application/x-www.form-urlencode\n",
    "        - Content-Length: 数据长度\n",
    "        - 简而言之，一旦更改请求方法，请注意其他请求头部信息相适应\n",
    "    - urllib.parse.urlencode 可以将字符串自动转换成上面的形式\n",
    "    - 案例v5\n",
    "    - 为了更多的设置请求信息，单纯的通过urlopen函数已经不太好用了\n",
    "    - 需要利用request.Request 类\n",
    "    - 案例V6\n",
    "\n",
    "    "
   ]
  },
  {
   "cell_type": "markdown",
   "metadata": {},
   "source": [
    "### urllib.error\n",
    "- URLError产生的原因：\n",
    "    - 没网\n",
    "    - 服务器链接失败\n",
    "    - 找不到服务器\n",
    "    - 是OSError的子类\n",
    "    - RTFB\n",
    "    - 案例V7\n",
    "- HTTPError, 是URLError的一个子类\n",
    "    - 案例v8\n",
    "    \n",
    "- 两者区别：\n",
    "    - HTTPError 是对应的HTTP请求的返回码错误, 如果返回错误码是400以上的，则引发HTTPError\n",
    "    - URLError 对应的一般是网络出现问题，包括url问题\n",
    "    - 关系区别： OSError-URLError-HTTPError"
   ]
  },
  {
   "cell_type": "markdown",
   "metadata": {},
   "source": [
    "# UserAgent\n",
    "- UserAgent： 用户代理，简称UA， 属于heads的一部分，服务器通过UA来判断访问者身份\n",
    "- 常见的UA值，使用的时候可以直接复制粘贴，也可以用浏览器访问的时候抓包\n",
    "- 1. Android\n",
    "```\n",
    "Mozilla/5.0 (Linux; Android 4.1.1; Nexus 7 Build/JRO03D) AppleWebKit/535.19 (KHTML, like Gecko) Chrome/18.0.1025.166 Safari/535.19\n",
    "Mozilla/5.0 (Linux; U; Android 4.0.4; en-gb; GT-I9300 Build/IMM76D) AppleWebKit/534.30 (KHTML, like Gecko) Version/4.0 Mobile Safari/534.30\n",
    "Mozilla/5.0 (Linux; U; Android 2.2; en-gb; GT-P1000 Build/FROYO) AppleWebKit/533.1 (KHTML, like Gecko) Version/4.0 Mobile Safari/533.1\n",
    "```\n",
    "- 2. Firefox\n",
    "```\n",
    "Mozilla/5.0 (Windows NT 6.2; WOW64; rv:21.0) Gecko/20100101 Firefox/21.0\n",
    "Mozilla/5.0 (Android; Mobile; rv:14.0) Gecko/14.0 Firefox/14.0\n",
    "```\n",
    "- 3. Google Chrome\n",
    "```\n",
    "Mozilla/5.0 (Windows NT 6.2; WOW64) AppleWebKit/537.36 (KHTML, like Gecko) Chrome/27.0.1453.94 Safari/537.36\n",
    "Mozilla/5.0 (Linux; Android 4.0.4; Galaxy Nexus Build/IMM76B) AppleWebKit/535.19 (KHTML, like Gecko) Chrome/18.0.1025.133 Mobile Safari/535.19\n",
    "```\n",
    "- 4. iOS\n",
    "```\n",
    "Mozilla/5.0 (iPad; CPU OS 5_0 like Mac OS X) AppleWebKit/534.46 (KHTML, like Gecko) Version/5.1 Mobile/9A334 Safari/7534.48.3\n",
    "Mozilla/5.0 (iPod; U; CPU like Mac OS X; en) AppleWebKit/420.1 (KHTML, like Gecko) Version/3.0 Mobile/3A101a Safari/419.3\n",
    "```\n",
    "- 设置UA可以通过两种方式：\n",
    "    - heads\n",
    "    - add_header\n",
    "    - 案例v9"
   ]
  },
  {
   "cell_type": "markdown",
   "metadata": {},
   "source": [
    "# ProxyHandler处理（代理服务器）\n",
    "- 使用代理IP，是爬虫的常用手段\n",
    "- 获取代理服务器的地址：\n",
    "    - www.xicidaili.com\n",
    "    - www.goubanjia.com\n",
    "- 代理用来隐藏真实访问中，代理也不允许频繁访问某一个固定网站，所以，代理一定要很多很多\n",
    "- 基本使用步骤：\n",
    "    - 设置代理地址\n",
    "    - 创建ProxyHandler\n",
    "    - 创建Opener\n",
    "    - 安装Opener\n",
    "- 案例v10"
   ]
  },
  {
   "cell_type": "markdown",
   "metadata": {},
   "source": [
    "# cookie & session\n",
    "- 由于http协议的无记忆性，人们为了弥补这个缺憾，所采用的一个补充协议\n",
    "- cookie是发放给用户（即http浏览器）的一段信息，session是保存在服务器上的对应的另一半信息，用来记录用户信息\n",
    "- cookie和session的区别\n",
    "    - 存放位置不同\n",
    "    - cookie不安全\n",
    "    - session会保存在服务器上一定时间，会过期\n",
    "    - 单个cookie保存数据不超过4k， 很多浏览器限制一个站点最多保存20个\n",
    "    \n",
    "    \n",
    "- session的存放位置\n",
    "    - 存在服务器端\n",
    "    - 一般情况，session是放在内存中或者数据库中\n",
    "    - 没有cookie登录 案例v11,可以看到，没使用cookie则反馈网页为未登录状态\n",
    "    \n",
    "    \n",
    "- 使用cookie登录\n",
    "    - 直接把cookie复制下来，然后手动放入请求头， 案例 v12\n",
    "    - http模块包含一些关于cookie的模块，通过他们我们可以自动使用cookie\n",
    "        - CookieJar\n",
    "            - 管理存储cookie，向传出的http请求添加cookie，\n",
    "            - cookie存储在内存中，CookieJar实例回收后cookie将消失\n",
    "            \n",
    "        - FileCookieJar(filename, delayload=None, policy=None):\n",
    "            - 使用文件管理cookie\n",
    "            - filename是保存cookie的文件\n",
    "            \n",
    "        - MozillaCookieJar(filename, delayload=None, policy=None):\n",
    "            - 创建与mocilla浏览器cookie.txt兼容的FileCookieJar实例   \n",
    "            \n",
    "        - LwpCookieJar(filename, delayload=None, policy=None):\n",
    "            - 创建与libwww-perl标准兼容的Set-Cookie3格式的FileCookieJar实例\n",
    "                  \n",
    "        - 他们的关系是: CookieJar–>FileCookieJar–>MozillaCookieJar & LwpCookieJar\n",
    "        \n",
    "        \n",
    "- 利用cookiejar访问人人， 案例13\n",
    "    - 自动使用cookie登录，大致流程是\n",
    "        - 打开登录页面后自动通过用户名密码登录\n",
    "        - 自动提取反馈回来的cookie\n",
    "        - 利用提取的cookie登录隐私页面"
   ]
  },
  {
   "cell_type": "markdown",
   "metadata": {},
   "source": [
    "- handler是Handler的实例，常用参看案例代码\n",
    "    - 用来处理复杂请求# 生成 cookie的管理器\n",
    "    - cookie_handler = request.HTTPCookieProcessor(cookie)\n",
    "    - \\# 创建http请求管理器\n",
    "    - http_handler = request.HTTPHandler()\n",
    "    - \\# 生成https管理器\n",
    "    - https_handler = request.HTTPSHandler()\n",
    "- 创立handler后，使用opener打开，打开后相应的业务由相应的hanlder处理\n",
    "- cookie作为一个变量，打印出来, 案例 v14\n",
    "    - cookie的属性\n",
    "        - name: 名称\n",
    "        - value： 值\n",
    "        - domain：可以访问此cookie的域名\n",
    "        - path： 可以发昂文此cookie的页面路径\n",
    "        - expires：过期时间\n",
    "        - size： 大小\n",
    "        - Http字段\n",
    "- cookie的保存-FileCookieJar， 案例v15\n",
    "- cookie的读取， 案例v16"
   ]
  },
  {
   "cell_type": "markdown",
   "metadata": {},
   "source": [
    "# SSL\n",
    "- SSL证书就是指遵守SSL安全套阶层协议的服务器数字证书（SercureSocketLayer)\n",
    "- 美国网景公司开发\n",
    "- CA（CertifacateAuthority)是数字证书认证中心，是发放，管理，废除数字证书的收信人的第三方机构\n",
    "- 遇到不信任的SSL证书，需要单独处理，案例v17"
   ]
  },
  {
   "cell_type": "markdown",
   "metadata": {},
   "source": [
    "# js加密\n",
    "- 有的反爬虫策略采用js对需要传输的数据进行加密处理（通常是取md5值)\n",
    "- 经过加密，传输的就是密文，但是\n",
    "- 加密函数或者过程一定是在浏览器完成，也就是一定会把代码（js代码）暴露给使用者\n",
    "- 通过阅读加密算法，就可以模拟出加密过程，从而达到破解\n",
    "- 过程参看案例v18, v19"
   ]
  },
  {
   "cell_type": "markdown",
   "metadata": {},
   "source": [
    "# ajax\n",
    "- AJAX = 异步 JavaScript 和 XML。\n",
    "- AJAX 是一种用于创建快速动态网页的技术。\n",
    "- 通过在后台与服务器进行少量数据交换，AJAX 可以使网页实现异步更新。这意味着可以在不重新加载整个网页的情况下，对网页的某部分进行更新\n",
    "- 传统的网页（不使用 AJAX）如果需要更新内容，必需重载整个网页面。\n",
    "- 有很多使用 AJAX 的应用程序案例：新浪微博、Google 地图、开心网等等。\n",
    "- 案例，爬取豆瓣电影， 案例v20\n"
   ]
  },
  {
   "attachments": {
    "image.png": {
     "image/png": "[encoded data removed]"
    }
   },
   "cell_type": "markdown",
   "metadata": {},
   "source": [
    "# Requests-献给人类\n",
    "- HTTP for Humans，更简洁更友好\n",
    "- 继承了urllib的所有特征\n",
    "- 底层使用的是urllib3\n",
    "- 开源地址： https://github.com/requests/requests\n",
    "- 中文文档： http://docs.python-requests.org/zh_CN/latest/index.html\n",
    "- 安装： conda install requests\n",
    "\n",
    "\n",
    "### get请求\n",
    "- requests.get(url)\n",
    "- requests.request(\"get\",url)\n",
    "- 可以带有headers和parmas参数\n",
    "- 案例v21\n",
    "\n",
    "### get返回内容\n",
    "- 案例v22\n",
    "\n",
    "### post\n",
    "- rsp = requests.post(url, data=data)\n",
    "- date, headers要求dict类型\n",
    "- 案例v23\n",
    "\n",
    "### proxy\n",
    "~~~\n",
    "proxies = {\n",
    "\"http\":\"address of proxy\",\n",
    "\"https\": \"address of proxy\"\n",
    "}\n",
    "​\n",
    "rsp = requests.request(\"get\", \"http:xxxxxx\", proxies=proxies)\n",
    "~~~\n",
    "- 代理有可能报错，如果使用人数多，考虑安全问题，可能会被强行关闭\n",
    "- 用户验证\n",
    "    - 代理验证\n",
    "![image.png](attachment:image.png) \n"
   ]
  },
  {
   "attachments": {
    "image.png": {
     "image/png": "[encoded data removed]"
    }
   },
   "cell_type": "markdown",
   "metadata": {},
   "source": [
    "### web客户端验证\n",
    "- 如果遇到web客户端验证，需要添加auth=（用户名，密码）\n",
    "![image.png](attachment:image.png)"
   ]
  },
  {
   "attachments": {
    "image.png": {
     "image/png": "[encoded data removed]"
    }
   },
   "cell_type": "markdown",
   "metadata": {},
   "source": [
    "### cookie\n",
    "- requests可以自动处理cookie信息\n",
    "![image.png](attachment:image.png)\n"
   ]
  },
  {
   "attachments": {
    "image.png": {
     "image/png": "[encoded data removed]"
    }
   },
   "cell_type": "markdown",
   "metadata": {},
   "source": [
    "### session\n",
    "- 跟服务器端session不是一个东东\n",
    "- 模拟一次会话，从客户端浏览器链接服务器开始，到客户端浏览器断开\n",
    "- 能让我们跨请求时保持某些参数，比如在同一个session实例发出的 所有请求之间保持cookie\n",
    "![image.png](attachment:image.png)"
   ]
  },
  {
   "attachments": {
    "image.png": {
     "image/png": "[encoded data removed]"
    }
   },
   "cell_type": "markdown",
   "metadata": {},
   "source": [
    "### https请求验证ssl证书\n",
    "- 参数verify负责表示是否需要验证ssL证书，默认是True\n",
    "- 如果不需要验证ssl证书，则设置成False表示关闭\n",
    "![image.png](attachment:image.png)"
   ]
  }
 ],
 "metadata": {
  "kernelspec": {
   "display_name": "Python 3",
   "language": "python",
   "name": "python3"
  },
  "language_info": {
   "codemirror_mode": {
    "name": "ipython",
    "version": 3
   },
   "file_extension": ".py",
   "mimetype": "text/x-python",
   "name": "python",
   "nbconvert_exporter": "python",
   "pygments_lexer": "ipython3",
   "version": "3.7.3"
  }
 },
 "nbformat": 4,
 "nbformat_minor": 2
}
