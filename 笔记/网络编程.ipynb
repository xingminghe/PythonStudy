{
 "cells": [
  {
   "cell_type": "markdown",
   "metadata": {},
   "source": [
    "# 网络编程\n",
    "- 网络编程\n",
    "- 网络协议： 一套规则\n",
    "- 网络模型：\n",
    "    - 七层模型-七层\n",
    "        - 物理层\n",
    "        - 数据链路层\n",
    "        - 网络层\n",
    "        - 传输层\n",
    "        - 会话层\n",
    "        - 表示层\n",
    "        - 应用层\n",
    "    - 四层模型-实际应用\n",
    "        - 链路层\n",
    "        - 网络\n",
    "        - 传输层\n",
    "        - 应用层\n",
    "- 每一层都有相应的协议负责交换信息或者协同工作\n",
    "- TCP/IP 协议族\n",
    "    - TCP/IP 是供已连接因特网的计算机进行通信的通信协议\n",
    "    - TCP/IP 指传输控制协议/网际协议 (Transmission Control Protocol / Internet Protocol)。\n",
    "    - TCP/IP 定义了电子设备（比如计算机）如何连入因特网，以及数据如何在它们之间传输的标准。\n",
    "- P地址：负责在网络上唯一定位一个机器\n",
    "    - IP地址分ABCDE类\n",
    "    - 是由四个数字段组成，每个数字段的取值是0-255\n",
    "    - 192.168.xxx.xxx:局域网ip\n",
    "    - 127.0.0.1：本机\n",
    "    - IPv4, IPv6\n",
    "- 端口\n",
    "    - 范围： 0-65535\n",
    "        - 知名端口：0-1023\n",
    "        - 非知名端口：1024-"
   ]
  },
  {
   "cell_type": "markdown",
   "metadata": {},
   "source": [
    "# TCP/UDP协议\n",
    "- UDP：非安全的不面向链接的传输\n",
    "    - 安全性差\n",
    "    - 大小限制64kb\n",
    "    - 没有顺序\n",
    "    - 速度快\n",
    "    \n",
    "    \n",
    "- TCP\n",
    "    - 基于链接的通信\n",
    "    \n",
    "    \n",
    "- Socket编程\n",
    "    - socket（套接字）: 是一个网络通信的端点， 能实现不同主机的进程通信，网络大多基于Socket通信\n",
    "    - 通过IP+端口定位对方并发送消息的通信机制\n",
    "    - 分为UDP和TCP\n",
    "    - 客户端Client： 发起访问的一方\n",
    "    - 服务器端Server：接受访问的一方"
   ]
  },
  {
   "cell_type": "markdown",
   "metadata": {},
   "source": [
    "# UDP 编程\n",
    "- Server端流程\n",
    "    - 1. 建立socket，socket是负责具体通信的一个实例\n",
    "    - 2. 绑定，为创建的socket指派固定的端口和ip地址\n",
    "    - 3. 接受对方发送内容\n",
    "    - 4. 给对方发送反馈，此步骤为非必须步骤\n",
    "    \n",
    "    \n",
    "- Client端流程\n",
    "    - 1. 建立通信的socket\n",
    "    - 2. 发送内容到指定服务器\n",
    "    - 3. 接受服务器给定的反馈内容\n",
    "    \n",
    "    \n",
    "- 服务器 案例01\n",
    "- 客户端 案例02\n",
    "- 服务器程序要求永久运行，一般用死循环处理\n",
    "- 改造的服务器版本 案例03"
   ]
  },
  {
   "cell_type": "markdown",
   "metadata": {},
   "source": [
    "# TCP编程\n",
    "- 面向链接的传输，即每次传输之前需要先建立一个链接\n",
    "- 客户端和服务器端两个程序需要编写\n",
    "- Server端的编写流程\n",
    "\t- 建立socket负责具体通信，这个socket其实只负责接受对方的请求，真正通信的是链接后从新建立的socket\n",
    "\t- 绑定端口和地址\n",
    "\t- 监听接入的访问socket\n",
    "\t- 接受访问的socket，可以理解接受访问即建立了一个通讯的链接通路\n",
    "\t- 接受对方的发送内容，利用接收到的socket接收内容\n",
    "\t- 如果有必要，给对方发送反馈信息\n",
    "\t- 关闭链接通路\n",
    "\n",
    "\n",
    "- Client端流程\n",
    "\t- 建立通信socket\n",
    "\t- 链接对方，请求跟对方建立通路\n",
    "\t- 发送内容到对方服务器\n",
    "\t- 接受对方的反馈\n",
    "\t- 关闭链接通路\n",
    "- 案例04 服务器端\n",
    "- 案例05 客户端\n"
   ]
  },
  {
   "cell_type": "markdown",
   "metadata": {},
   "source": [
    "# FTP编程\n",
    "- FTP(File Transfer Protocol)文件传输协议\n",
    "- 用途： 定制一些特殊的上传下载文件的服务\n",
    "- 用户分类： 登陆FTP服务器必须有一个账号\n",
    "\t- Real账户: 注册账户\n",
    "\t- Guest账户： 可能临时对某一类人的行为进行授权\n",
    "\t- Anonymous账户： 匿名账户，允许任何人\n",
    "    \n",
    "    \n",
    "- FTP工作流程\n",
    "\t- 1.客户端链接远程主机上的FTP服务器\n",
    "\t- 2.客户端输入用户名和密码（或者“anonymous”和电子邮件地址）\n",
    "\t- 3.客户端和服务器进行各种文件传输和信息查询操作\n",
    "\t- 4.客户端从远程FTP服务器退出，结束传输\n",
    "    \n",
    "    \n",
    "- FTP文件表示\n",
    "\t- 分三段表示FTP服务器上的文件\n",
    "\t- HOST: 主机地址，类似于 ftp.mozilla.org, 以ftp开头\n",
    "\t- DIR：目录， 表示文件所在本地的路径，例如 pub/android/focus/1.1-RC1/\n",
    "\t- File：文件名称， 例如 Klar-1.1-RC1.apk\n",
    "\t- 如果想完整精确表示ftp上某一个文件，需要上述三部分组合在一起\n",
    "\t- 案例06\n"
   ]
  },
  {
   "cell_type": "markdown",
   "metadata": {},
   "source": [
    "# Mail编程"
   ]
  },
  {
   "cell_type": "markdown",
   "metadata": {},
   "source": [
    "## 电子邮件的历史\n",
    "- 起源\n",
    "\t- 1969 Leonard K. 教授发给同事的 “LO”\n",
    "\t- 1971 美国国防部自主的阿帕网(ARPANET)的通讯机制\n",
    "\t- 通讯地址里用@\n",
    "\t- 1987年中国的第一份电子邮件 “Across the Great Wall we can reach every corner in the world”\n",
    "- 管理程序\n",
    "\t- Eudora\n",
    "\t- Netscape，outlook，foxmail 后来居上\n",
    "\t- Hotmail使用浏览器发送邮件\n",
    "- 参考资料\n",
    "\t- [官网](https://docs.python.org/3/library/email.mime.html)\n"
   ]
  },
  {
   "cell_type": "markdown",
   "metadata": {},
   "source": [
    "# 邮件工作流程\n",
    "\n",
    "\n",
    "- MUA(Mail User Agent)邮件用户代理\n",
    "- MTA(Mail Transfer Agent)邮件传输代理\n",
    "- MDA(Mail Delivery Agent)邮件投递代理\n",
    "- laoshi@qq.com, 老师，北京海淀\n",
    "- xuesheng@sina.com, 学生，上海江岸区\n",
    "\n",
    "\n",
    "- 流程\n",
    "\t- 1.MUA->MTA, 邮件已经在服务器上了\n",
    "\t- 2.qq MTA->………->sina MTA, 邮件在新浪的服务器上\n",
    "\t- 3.sina MTA-> sina MDA, 此时邮件已经在你的邮箱里了\n",
    "\t- 4.sina MDA -> MUA(Foxmail/Outlook), 邮件下载到本地电脑\n",
    "    \n",
    "    \n",
    "- 编写程序\n",
    "\t- 发送： MUA->MTA with SMTP: Simple Mail Transfer Protocol，包含MTA->MTA\n",
    "\t- 接受： MDA->MUA with POP3 and IMAP: Post Office Protocol v3 and Internet Message Access Protocol v4\n",
    "    \n",
    "    \n",
    "- 准备工作\n",
    "\t- 注册邮箱（以qq邮箱为例）\n",
    "\t- 第三方邮箱需要特殊设置， 以qq邮箱为例\n",
    "\t\t- 进入设置中心\n",
    "\t\t- 取得授权码\n",
    "        \n",
    "        \n",
    "- Python for mail\n",
    "\t- SMTP 协议负责发送邮件\n",
    "        - 使用email模块构建邮件\n",
    "        - 使用smtplib模块发送邮件\n",
    "        \n",
    "        \n",
    "   - POP3协议接收邮件\n"
   ]
  },
  {
   "cell_type": "markdown",
   "metadata": {},
   "source": [
    "## email模块\n",
    "- 纯文本邮件\n",
    "- 案例07"
   ]
  },
  {
   "cell_type": "markdown",
   "metadata": {},
   "source": [
    "## HTML格式邮件\n",
    "- 准备HTML代码作为内容\n",
    "- 把邮件的subtpye设为html发送\n",
    "- 案例08"
   ]
  },
  {
   "cell_type": "markdown",
   "metadata": {},
   "source": [
    "# 发送带附件的邮件\n",
    "- 可以把邮件看作是一个文本邮件和一个附件的合体\n",
    "- 一封邮件如果涉及多个部分，需要使用MIMEMultipart格式构建\n",
    "- 添加一个MIMEText正文\n",
    "- 添加一个MIMEBase或者MEMEText作为附件\n",
    "- 案例09"
   ]
  },
  {
   "cell_type": "markdown",
   "metadata": {},
   "source": [
    "# 添加邮件头，抄送等\n",
    "- mail[“From”] 表示发送着信息，包括姓名和邮件\n",
    "- mail[“To”] 表示接收者信息，包括姓名和邮件地址\n",
    "- mail[“Subject”] 表示摘要或者主题信息\n",
    "- 案例10"
   ]
  },
  {
   "cell_type": "markdown",
   "metadata": {},
   "source": [
    "# 同时支持html和text格式\n",
    "- 构建一个MIMEMultipart格式邮件\n",
    "- MIMEMultipart 的subtype设置成alternative格式\n",
    "- 添加HTML和text邮件\n",
    "- 案例11\n",
    "- 使用smtplib模块发送邮件"
   ]
  },
  {
   "cell_type": "markdown",
   "metadata": {},
   "source": [
    "# POP3协议接受邮件\n",
    "- 本质上是MDA到MUA的一个过程\n",
    "- 从 MDA下载下来的是一个完整的邮件结构体，需要解析才能得到每个具体可读的内容\n",
    "- 步骤：\n",
    "\t- 1.用poplib下载邮件结构体原始内容\n",
    "\t\t- 1.准备相应的内容（邮件地址，密码，POP3实例）\n",
    "\t\t- 2.身份认证\n",
    "\t\t- 3.一般会先得到邮箱内邮件的整体列表\n",
    "\t\t- 4.根据相应序号，得到某一封信的数据流\n",
    "\t\t- 5.利用解析函数进行解析出相应的邮件结构体\n",
    "\t- 2.用email解析邮件的具体内容\n",
    "- 案例12\n"
   ]
  },
  {
   "cell_type": "code",
   "execution_count": null,
   "metadata": {},
   "outputs": [],
   "source": []
  }
 ],
 "metadata": {
  "kernelspec": {
   "display_name": "Python 3",
   "language": "python",
   "name": "python3"
  },
  "language_info": {
   "codemirror_mode": {
    "name": "ipython",
    "version": 3
   },
   "file_extension": ".py",
   "mimetype": "text/x-python",
   "name": "python",
   "nbconvert_exporter": "python",
   "pygments_lexer": "ipython3",
   "version": "3.7.3"
  }
 },
 "nbformat": 4,
 "nbformat_minor": 2
}
