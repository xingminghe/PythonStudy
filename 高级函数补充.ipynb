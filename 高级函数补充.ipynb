{
 "cells": [
  {
   "cell_type": "markdown",
   "metadata": {},
   "source": [
    "# Zip\n",
    "- 把两个可迭代内容生成一个可迭代的tuple元素类型组成的内容"
   ]
  },
  {
   "cell_type": "code",
   "execution_count": 3,
   "metadata": {},
   "outputs": [
    {
     "name": "stdout",
     "output_type": "stream",
     "text": [
      "<class 'zip'>\n",
      "<zip object at 0x000002A4EDCEFB08>\n",
      "(1, 11)\n",
      "(2, 22)\n",
      "(3, 33)\n"
     ]
    }
   ],
   "source": [
    "# zip案例\n",
    "s1 = [1,2,3]\n",
    "s2 = [11,22,33]\n",
    "\n",
    "z = zip(s1,s2)\n",
    "\n",
    "print(type(z))\n",
    "print(z)\n",
    "\n",
    "for i in z:\n",
    "    print(i)"
   ]
  },
  {
   "cell_type": "code",
   "execution_count": 7,
   "metadata": {
    "scrolled": true
   },
   "outputs": [
    {
     "name": "stdout",
     "output_type": "stream",
     "text": [
      "('ab', 34)\n",
      "('ed', 89)\n",
      "('fo', 32)\n",
      "[]\n"
     ]
    }
   ],
   "source": [
    "s1 = [\"ab\",\"ed\",\"fo\"]\n",
    "s2 = [34,89,32]\n",
    "\n",
    "z = zip(s1,s2)\n",
    "\n",
    "for i in z:\n",
    "    print(i)\n",
    "    \n",
    "# 考虑下面结果，为什么为空\n",
    "n = [i for i in z]\n",
    "print(n)"
   ]
  },
  {
   "cell_type": "markdown",
   "metadata": {},
   "source": [
    "# enumerate\n",
    "- 跟zip功能比较像\n",
    "- 对可迭代对象里的每一元素，配上一个索引，然后索引和内容构成tuple类型"
   ]
  },
  {
   "cell_type": "code",
   "execution_count": 11,
   "metadata": {},
   "outputs": [
    {
     "name": "stdout",
     "output_type": "stream",
     "text": [
      "[(0, 23), (1, 56), (2, 89)]\n",
      "0 23\n",
      "1 56\n",
      "2 89\n"
     ]
    }
   ],
   "source": [
    "# enumerate 1\n",
    "s1 = [23,56,89]\n",
    "em = enumerate(s1)\n",
    "s2= [i for i in em]\n",
    "print(s2)\n",
    "for x,y in s2:\n",
    "    print(x,y)"
   ]
  },
  {
   "cell_type": "code",
   "execution_count": 13,
   "metadata": {},
   "outputs": [
    {
     "name": "stdout",
     "output_type": "stream",
     "text": [
      "[(100, 23), (101, 56), (102, 89)]\n"
     ]
    }
   ],
   "source": [
    "# enumerate 更改索引起点\n",
    "em = enumerate(s1,start=100)\n",
    "s2 = [i for i in em]\n",
    "print(s2)"
   ]
  },
  {
   "cell_type": "markdown",
   "metadata": {},
   "source": [
    "# collection模块\n",
    "- namedtuple\n",
    "- deque"
   ]
  },
  {
   "cell_type": "markdown",
   "metadata": {},
   "source": [
    "### namedtuple\n",
    "- tuple 类型\n",
    "- 是一个可命名的tuple"
   ]
  },
  {
   "cell_type": "code",
   "execution_count": 65,
   "metadata": {},
   "outputs": [
    {
     "name": "stdout",
     "output_type": "stream",
     "text": [
      "5\n",
      "6\n"
     ]
    }
   ],
   "source": [
    "import collections\n",
    "my = collections.namedtuple(\"Point\",['a','b','c','d'])\n",
    "mytuple = my(3,4,5,6)\n",
    "print(mytuple.c)\n",
    "print(mytuple[3])"
   ]
  },
  {
   "cell_type": "code",
   "execution_count": 66,
   "metadata": {},
   "outputs": [
    {
     "name": "stdout",
     "output_type": "stream",
     "text": [
      "Circle(x=100, y=150, r=50)\n",
      "50\n",
      "<class '__main__.Circle'>\n"
     ]
    },
    {
     "data": {
      "text/plain": [
       "True"
      ]
     },
     "execution_count": 66,
     "metadata": {},
     "output_type": "execute_result"
    }
   ],
   "source": [
    "Circle = collections.namedtuple(\"Circle\",[\"x\",\"y\",\"r\"])\n",
    "c = Circle(100,150,50)\n",
    "print(c)\n",
    "print(c.r)\n",
    "print(type(c))\n",
    "\n",
    "# 想检测以下namedtuple到底属于谁的子类\n",
    "isinstance(c,tuple)"
   ]
  },
  {
   "cell_type": "markdown",
   "metadata": {},
   "source": [
    "# deque\n",
    "- 比较方便的解决了频繁删除插入带来的效率问题"
   ]
  },
  {
   "cell_type": "code",
   "execution_count": 71,
   "metadata": {},
   "outputs": [
    {
     "name": "stdout",
     "output_type": "stream",
     "text": [
      "deque(['a', 'c', 'f'])\n",
      "deque(['a', 'c', 'f', 't'])\n",
      "deque(['x', 'a', 'c', 'f', 't'])\n",
      "x\n",
      "a\n",
      "c\n",
      "f\n",
      "t\n",
      "f\n"
     ]
    }
   ],
   "source": [
    "from collections import deque\n",
    "l = [\"a\",\"c\",\"f\"]\n",
    "q = deque(l)\n",
    "#q = deque([\"a\",\"c\",\"f\"])\n",
    "print(q)\n",
    "q.append(\"t\")\n",
    "print(q)\n",
    "q.appendleft(\"x\")\n",
    "print(q)\n",
    "for i in q:\n",
    "    print(i)\n",
    "print(q[3])"
   ]
  },
  {
   "cell_type": "markdown",
   "metadata": {},
   "source": [
    "# defaultdict\n",
    "- 当直接读取dict不存在的属性时，直接返回默认值"
   ]
  },
  {
   "cell_type": "code",
   "execution_count": 72,
   "metadata": {},
   "outputs": [
    {
     "name": "stdout",
     "output_type": "stream",
     "text": [
      "7\n"
     ]
    }
   ],
   "source": [
    "d = {\"s\":8,\"t\":7,\"m\":3}\n",
    "print(d[\"t\"])"
   ]
  },
  {
   "cell_type": "code",
   "execution_count": 73,
   "metadata": {},
   "outputs": [
    {
     "name": "stdout",
     "output_type": "stream",
     "text": [
      "1\n",
      "2\n",
      "leak\n"
     ]
    }
   ],
   "source": [
    "from collections import defaultdict\n",
    "# lambda表达式，直接返回字符串\n",
    "func = lambda: \"leak\"\n",
    "d2 = defaultdict(func)\n",
    "\n",
    "d2[\"one\"] = 1\n",
    "d2[\"two\"] = 2\n",
    "\n",
    "print(d2[\"one\"])\n",
    "print(d2[\"two\"])\n",
    "print(d2[\"ont\"])"
   ]
  },
  {
   "cell_type": "markdown",
   "metadata": {},
   "source": [
    "# Counter\n",
    "- 统计字符串个数"
   ]
  },
  {
   "cell_type": "code",
   "execution_count": 74,
   "metadata": {},
   "outputs": [
    {
     "name": "stdout",
     "output_type": "stream",
     "text": [
      "Counter({'k': 3, 'h': 2, 'j': 1})\n",
      "<class 'collections.Counter'>\n"
     ]
    }
   ],
   "source": [
    "from collections import Counter\n",
    "# 为什么下面结果不把abcdefgabced.....作为键值，\n",
    "# 而是以其中每一个字母作为键值\n",
    "# 因为：需要括号里内容为可迭代\n",
    "c = Counter(\"hjkhkk\")\n",
    "print(c)\n",
    "print(type(c))"
   ]
  },
  {
   "cell_type": "code",
   "execution_count": 78,
   "metadata": {},
   "outputs": [
    {
     "name": "stdout",
     "output_type": "stream",
     "text": [
      "Counter({'Neo': 1, 'Matrix': 1, 'Xirtam': 1, 'Oen': 1})\n",
      "1\n"
     ]
    }
   ],
   "source": [
    "s = [\"Neo\",\"Matrix\",\"Xirtam\",\"Oen\"]\n",
    "c = Counter(s)\n",
    "print(c)\n",
    "print(c[\"Neo\"])"
   ]
  },
  {
   "cell_type": "markdown",
   "metadata": {},
   "source": [
    "# 调试\n",
    "###  pycharm调试\n",
    "- run/debug模式\n",
    "- 断点：程序的某一行，程序在debug模式下，遇到断点就会暂停\n",
    "\n",
    "### 单元测试\n",
    "- 官方测试文档集合: https://wiki.python.org/moin/PythonTestingToolsTaxonomy\n",
    "- 测试案例01: https://blog.csdn.net/a542551042/article/details/46696635\n",
    "- PyUnit: https://wiki.python.org/moin/PyUnit\n",
    "- PyUnit详细讲解案例02: https://www.jb51.net/article/64119.htm\n",
    "- 测试案例03: https://www.cnblogs.com/iamjqy/p/7155315.html"
   ]
  },
  {
   "cell_type": "code",
   "execution_count": null,
   "metadata": {},
   "outputs": [],
   "source": []
  }
 ],
 "metadata": {
  "kernelspec": {
   "display_name": "Python 3",
   "language": "python",
   "name": "python3"
  },
  "language_info": {
   "codemirror_mode": {
    "name": "ipython",
    "version": 3
   },
   "file_extension": ".py",
   "mimetype": "text/x-python",
   "name": "python",
   "nbconvert_exporter": "python",
   "pygments_lexer": "ipython3",
   "version": "3.7.3"
  }
 },
 "nbformat": 4,
 "nbformat_minor": 2
}
