{
 "cells": [
  {
   "cell_type": "markdown",
   "metadata": {},
   "source": [
    "# 文件\n",
    "- 长久保存信息的一种数据信息集合\n",
    "- 常用操作\n",
    "    - 打开关闭（文件一旦打开需要关闭操作）\n",
    "    - 读写内容\n",
    "    - 查找\n",
    "    \n",
    "# open函数\n",
    "- open函数负责打开文件，带有很多参数\n",
    "- 第一个参数：必须有，文件的路径和名称\n",
    "- mode：表面文件用什么方式打开\n",
    "    - r：只读方式打卡\n",
    "    - w：写方式打开，会覆盖以前的内容\n",
    "    - x：创建方式打开，如文件已经存在，报错\n",
    "    - a：append方式，已追加的方式对文件内容进行写入\n",
    "    - b：binary凡是，二进制方式写入\n",
    "    - t：以文本的方式打开\n",
    "    - +：可读写\n",
    "   "
   ]
  },
  {
   "cell_type": "code",
   "execution_count": 6,
   "metadata": {},
   "outputs": [],
   "source": [
    "# 打开文件，用写的方式\n",
    "#r表示后面的字符串内容不需要转义\n",
    "#f称为文件句柄\n",
    "f = open(r\"test01.txt\",\"w\")\n",
    "#文件打开后必须关闭\n",
    "f.close()\n",
    "\n",
    "#此案例说明以写的方式打开，默认是如果没有文件，则创建"
   ]
  },
  {
   "cell_type": "markdown",
   "metadata": {},
   "source": [
    "# with语句\n",
    "- with语句使用的技术是一种称为上下文管理协议的技术(ContextMangementProtocal)\n",
    "- 自动判断文件的作用域，自动关闭不在使用的打开的文件句柄\n"
   ]
  },
  {
   "cell_type": "code",
   "execution_count": 7,
   "metadata": {},
   "outputs": [],
   "source": [
    "# with 语句案例\n",
    "with open(r\"test01.txt\",\"r\") as f:\n",
    "    pass\n",
    "    # 下面的语句块开始对文件f进行操作\n",
    "    # 在本模块中不需要再使用close关闭文件f\n"
   ]
  },
  {
   "cell_type": "code",
   "execution_count": 10,
   "metadata": {},
   "outputs": [
    {
     "name": "stdout",
     "output_type": "stream",
     "text": [
      "     离思\n",
      "\n",
      "\t-元稹\n",
      "\n",
      "曾经沧海难为水\n",
      "\n",
      "除却巫山不是云\n",
      "\n",
      "取次花丛懒回顾\n",
      "\n",
      "半缘修道半缘君\n"
     ]
    }
   ],
   "source": [
    "with open(r\"test01.txt\",\"r\") as f:\n",
    "    strline = f.readline()\n",
    "    while strline:\n",
    "        print(strline)\n",
    "        strline = f.readline()\n",
    "    "
   ]
  },
  {
   "cell_type": "code",
   "execution_count": 12,
   "metadata": {},
   "outputs": [
    {
     "name": "stdout",
     "output_type": "stream",
     "text": [
      "     离思\n",
      "\n",
      "\t-元稹\n",
      "\n",
      "曾经沧海难为水\n",
      "\n",
      "除却巫山不是云\n",
      "\n",
      "取次花丛懒回顾\n",
      "\n",
      "半缘修道半缘君\n"
     ]
    }
   ],
   "source": [
    "# list能用打开的文件作为参数，把文件内每一行内容作为一个元素\n",
    "\n",
    "with open(r\"test01.txt\",\"r\") as f:\n",
    "    #以f作为参数创建列表\n",
    "    l = list(f)\n",
    "    for line in l:\n",
    "        print(line)"
   ]
  },
  {
   "cell_type": "code",
   "execution_count": 37,
   "metadata": {},
   "outputs": [
    {
     "name": "stdout",
     "output_type": "stream",
     "text": [
      " - - - - -离-思-\n",
      "-\t---元-稹-\n",
      "-曾-经-沧-海-难-为-水-\n",
      "-除-却-巫-山-不-是-云-\n",
      "-取-次-花-丛-懒-回-顾-\n",
      "-半-缘-修-道-半-缘-君-"
     ]
    }
   ],
   "source": [
    "# read是安字符读取文件内容\n",
    "# 允许输入参数决定读取几个字符，如果没有限定从当前位置读取到结尾\n",
    "# 否则从当前位置读取指定个数字符\n",
    "\n",
    "with open(r\"test01.txt\", \"r\") as f:\n",
    "    strChar = f.read(1)\n",
    "    while strChar:\n",
    "        print(strChar,end=\"-\")\n",
    "        strChar = f.read(1)"
   ]
  },
  {
   "cell_type": "markdown",
   "metadata": {},
   "source": [
    "# seek (offset,from)\n",
    "- 移动文件的读取位置，也叫读取指针\n",
    "- from的位置范围\n",
    "    - 0：从文件头开始偏移\n",
    "    - 1：从文件当前位置开始偏移\n",
    "    - 2：从文件末尾开始偏移\n",
    "- 移动的单位是字节(byte)\n",
    "- 一个汉字由若干个字节构成\n",
    "- 返回文件只针对当前位置"
   ]
  },
  {
   "cell_type": "code",
   "execution_count": 55,
   "metadata": {},
   "outputs": [
    {
     "name": "stdout",
     "output_type": "stream",
     "text": [
      " 离思\n",
      "\t-元稹\n",
      "曾经沧海难为水\n",
      "除却巫山不是云\n",
      "取次花丛懒回顾\n",
      "半缘修道半缘君\n"
     ]
    }
   ],
   "source": [
    "# seek\n",
    "# 打开文件后，从 第5个字节开始读取\n",
    "with open(r\"test01.txt\",\"r\") as f:\n",
    "    f.seek(4,0)\n",
    "    strChar = f.read()\n",
    "    print(strChar)"
   ]
  },
  {
   "cell_type": "code",
   "execution_count": 54,
   "metadata": {},
   "outputs": [
    {
     "name": "stdout",
     "output_type": "stream",
     "text": [
      "   - - -离-思-\n",
      "-\t---元-稹-\n",
      "-曾-经-沧-海-难-为-水-\n",
      "-除-却-巫-山-不-是-云-\n",
      "-取-次-花-丛-懒-回-顾-\n",
      "-半-缘-修-道-半-缘-君-"
     ]
    }
   ],
   "source": [
    "import time\n",
    "with open(r\"test01.txt\",\"r\") as f:\n",
    "    strChar = f.read(3)\n",
    "    while strChar:\n",
    "        print(strChar,end=\"-\")\n",
    "        time.sleep(0.1)\n",
    "        strChar = f.read(1)\n"
   ]
  },
  {
   "cell_type": "code",
   "execution_count": 68,
   "metadata": {},
   "outputs": [
    {
     "name": "stdout",
     "output_type": "stream",
     "text": [
      "3\n",
      "abc\n",
      "6\n",
      "\tde\n",
      "9\n",
      "f\tg\n",
      "12\n",
      "hi \n",
      "15\n",
      "jkl\n",
      "18\n",
      " mn\n",
      "21\n",
      "opq\n",
      "24\n",
      "ist\n",
      "27\n",
      "uvw\n",
      "30\n",
      "xyz\n"
     ]
    }
   ],
   "source": [
    "# tell函数，用来显示文件读写指针的当前位置\n",
    "import time\n",
    "with open(r\"test01.txt\",\"r\") as f:\n",
    "    strChar = f.read(3)\n",
    "    post = f.tell()\n",
    "    while strChar:\n",
    "        \n",
    "        print(post)\n",
    "        print(strChar)\n",
    "        time.sleep(0.5)\n",
    "        strChar = f.read(3)\n",
    "        post = f.tell()"
   ]
  },
  {
   "cell_type": "markdown",
   "metadata": {},
   "source": [
    "# 文件写操作write\n",
    "- write(str)：把字符串写入文件\n",
    "- writelines（str）：把字符串按行写入文件\n",
    "- 区别\n",
    "    - write函数参数只能是字符串\n",
    "    - writeline参数可以是字符串，也可以是字符序列"
   ]
  },
  {
   "cell_type": "code",
   "execution_count": 83,
   "metadata": {},
   "outputs": [],
   "source": [
    "# write 案例\n",
    "# 1。向文件追加一句诗\n",
    "\n",
    "# a代表追加方式打开\n",
    "l = [\"I\",\"love\",\"your\"]\n",
    "with open(\"test01.txt\",\"a\") as f:\n",
    "    f.write(\"\\n生活不只有眼前的苟且，\\n还有诗和远方\")"
   ]
  },
  {
   "cell_type": "code",
   "execution_count": 76,
   "metadata": {},
   "outputs": [],
   "source": [
    "# 可以直接写入行\n",
    "with open(\"test01.txt\",\"a\") as f:\n",
    "    f.writelines(\"\\n取次花丛懒回顾\")\n",
    "    f.writelines(\"\\n半缘修道半缘君\")"
   ]
  },
  {
   "cell_type": "code",
   "execution_count": 84,
   "metadata": {},
   "outputs": [],
   "source": [
    "#写入一个list字符串\n",
    "l = [\"I \",\"love \",\"Junjun\"]\n",
    "with open(\"test01.txt\",\"a\") as f:\n",
    "    f.writelines(l)\n",
    "   "
   ]
  },
  {
   "cell_type": "markdown",
   "metadata": {},
   "source": [
    "#  pickle 持久化\n",
    "- 序列化（持久化，落地）：把程序运行中的信息保存在磁盘上\n",
    "- 反序列化：序列号的逆过程\n",
    "- pickle：python提供的序列化模块\n",
    "- pickle.dump: 序列化\n",
    "- pickle.load: 反序列化"
   ]
  },
  {
   "cell_type": "code",
   "execution_count": 85,
   "metadata": {},
   "outputs": [],
   "source": [
    "# pickle案例\n",
    "import pickle\n",
    "\n",
    "age = 19\n",
    "# b - binary\n",
    "with open(r'aloha.txt','wb') as f:\n",
    "    pickle.dump(age,f)"
   ]
  },
  {
   "cell_type": "code",
   "execution_count": 86,
   "metadata": {},
   "outputs": [
    {
     "name": "stdout",
     "output_type": "stream",
     "text": [
      "19\n"
     ]
    }
   ],
   "source": [
    "# 反序列化案例\n",
    "with open(r'aloha.txt','rb') as f:\n",
    "    age = pickle.load(f)\n",
    "    print(age)"
   ]
  },
  {
   "cell_type": "code",
   "execution_count": 87,
   "metadata": {},
   "outputs": [],
   "source": [
    "# 序列化案例\n",
    "import pickle\n",
    "\n",
    "a = [19,'1',\"am\",[19.34]]\n",
    "with open(r'aloha.txt','wb') as f:\n",
    "    pickle.dump(a,f)"
   ]
  },
  {
   "cell_type": "code",
   "execution_count": 89,
   "metadata": {},
   "outputs": [
    {
     "name": "stdout",
     "output_type": "stream",
     "text": [
      "[19, '1', 'am', [19.34]]\n"
     ]
    }
   ],
   "source": [
    "with open(r'aloha.txt','rb') as f:\n",
    "    print(pickle.load(f))"
   ]
  },
  {
   "cell_type": "markdown",
   "metadata": {},
   "source": [
    "# shelve持久化\n",
    "- 持久化工具\n",
    "- 类似字典，用kv对保存数据，存取方式跟字典也类似\n",
    "- open，close"
   ]
  },
  {
   "cell_type": "code",
   "execution_count": 99,
   "metadata": {},
   "outputs": [],
   "source": [
    "import shelve\n",
    "#打开文件\n",
    "# shv相当于一个字典\n",
    "shv = shelve.open(r\"shv\")\n",
    "shv['one'] = \"two\"\n",
    "shv['two'] = \"one\"\n",
    "shv['three'] = 3\n",
    "shv.close()"
   ]
  },
  {
   "cell_type": "code",
   "execution_count": 101,
   "metadata": {},
   "outputs": [
    {
     "name": "stdout",
     "output_type": "stream",
     "text": [
      "two\n",
      "3\n",
      "错误，没有这个key\n"
     ]
    }
   ],
   "source": [
    "shv = shelve.open(r'shv')\n",
    "try:\n",
    "    print(shv['one'])\n",
    "    print(shv['three'])\n",
    "    print(shv['five'])\n",
    "except Exception as e:\n",
    "    print(\"错误，没有这个key\")\n",
    "finally:\n",
    "    shv.close()"
   ]
  },
  {
   "cell_type": "markdown",
   "metadata": {},
   "source": [
    "# shelve特性\n",
    "- 不支持多个应用并行写入\n",
    "    - 为了解决这个问题，open的时候可以使用flag=r\n",
    "- 写回问题\n",
    "    - shelve在默认情况下不会对待持久化对象进行任何修改\n",
    "    - 解决方法： 强制写回：writeback=True"
   ]
  },
  {
   "cell_type": "code",
   "execution_count": 113,
   "metadata": {},
   "outputs": [],
   "source": [
    "# shelve 之只读打开\n",
    "import shelve\n",
    "\n",
    "shv = shelve.open(r'shv.db', flag='r')\n",
    "\n",
    "try:\n",
    "    k1 = shv['one']\n",
    "    print(k1)\n",
    "finally:\n",
    "    shv.close()"
   ]
  },
  {
   "cell_type": "code",
   "execution_count": 115,
   "metadata": {},
   "outputs": [
    {
     "name": "stdout",
     "output_type": "stream",
     "text": [
      "{'eins': 1, 'zwei': 2, 'drei': 3}\n"
     ]
    }
   ],
   "source": [
    "import shelve\n",
    "\n",
    "shv = shelve.open(r'shv.db')\n",
    "try:\n",
    "    shv['one'] = {\"eins\":1, \"zwei\":2, \"drei\":3}\n",
    "finally:\n",
    "    shv.close()\n",
    "    \n",
    "shv = shelve.open(r'shv.db')\n",
    "try:\n",
    "    one = shv['one']\n",
    "    print(one)\n",
    "finally:\n",
    "    shv.close()\n"
   ]
  },
  {
   "cell_type": "code",
   "execution_count": 116,
   "metadata": {},
   "outputs": [
    {
     "name": "stdout",
     "output_type": "stream",
     "text": [
      "{'eins': 1, 'zwei': 2, 'drei': 3}\n",
      "{'eins': 1, 'zwei': 2, 'drei': 3}\n"
     ]
    }
   ],
   "source": [
    "# shelve忘记写回，需要使用强制写回\n",
    "shv = shelve.open(r'shv.db')\n",
    "try:\n",
    "    k1 = shv['one']\n",
    "    print(k1)\n",
    "    # 此时，一旦shelve关闭，则内容还是存在于内存中，没有写回数据库\n",
    "    k1[\"eins\"] =100 # eins重新赋值100，但没有写回\n",
    "finally:\n",
    "    shv.close()\n",
    "    \n",
    "    \n",
    "shv = shelve.open(r'shv.db')\n",
    "try:\n",
    "    k1 = shv['one'] # 由于没有写回，eins的值未改变\n",
    "    print(k1)\n",
    "finally:\n",
    "    shv.close()"
   ]
  },
  {
   "cell_type": "code",
   "execution_count": 117,
   "metadata": {},
   "outputs": [
    {
     "name": "stdout",
     "output_type": "stream",
     "text": [
      "{'eins': 1, 'zwei': 2, 'drei': 3}\n",
      "{'eins': 100, 'zwei': 2, 'drei': 3}\n"
     ]
    }
   ],
   "source": [
    "# shelve忘记写回，需要使用强制写回\n",
    "shv = shelve.open(r'shv.db', writeback=True)\n",
    "try:\n",
    "    k1 = shv['one']\n",
    "    print(k1)\n",
    "    k1[\"eins\"] =100\n",
    "finally:\n",
    "    shv.close()\n",
    "    \n",
    "    \n",
    "shv = shelve.open(r'shv.db')\n",
    "try:\n",
    "    k1 = shv['one']\n",
    "    print(k1)\n",
    "finally:\n",
    "    shv.close()"
   ]
  },
  {
   "cell_type": "code",
   "execution_count": 119,
   "metadata": {},
   "outputs": [
    {
     "name": "stdout",
     "output_type": "stream",
     "text": [
      "{'eins': 100, 'zwei': 2, 'drei': 3}\n",
      "{'eins': 1000, 'zwei': 2, 'drei': 3}\n"
     ]
    }
   ],
   "source": [
    "# shelve 使用with管理上下文环境 推荐\n",
    "\n",
    "with shelve.open(r'shv.db', writeback=True) as shv:\n",
    "    k1 = shv['one']\n",
    "    print(k1)\n",
    "    k1[\"eins\"] =1000\n",
    "    \n",
    "with shelve.open(r'shv.db') as shv:\n",
    "    print(shv['one'])"
   ]
  }
 ],
 "metadata": {
  "kernelspec": {
   "display_name": "Python 3",
   "language": "python",
   "name": "python3"
  },
  "language_info": {
   "codemirror_mode": {
    "name": "ipython",
    "version": 3
   },
   "file_extension": ".py",
   "mimetype": "text/x-python",
   "name": "python",
   "nbconvert_exporter": "python",
   "pygments_lexer": "ipython3",
   "version": "3.7.3"
  }
 },
 "nbformat": 4,
 "nbformat_minor": 2
}
