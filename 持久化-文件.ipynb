{
 "cells": [
  {
   "cell_type": "markdown",
   "metadata": {},
   "source": [
    "# 文件\n",
    "- 长久保存信息的一种数据信息集合\n",
    "- 常用操作\n",
    "    - 打开关闭（文件一旦打开需要关闭操作）\n",
    "    - 读写内容\n",
    "    - 查找\n",
    "    \n",
    "# open函数\n",
    "- open函数负责打开文件，带有很多参数\n",
    "- 第一个参数：必须有，文件的路径和名称\n",
    "- mode：表面文件用什么方式打开\n",
    "    - r：只读方式打卡\n",
    "    - w：写方式打开，会覆盖以前的内容\n",
    "    - x：创建方式打开，如文件已经存在，报错\n",
    "    - a：append方式，已追加的方式对文件内容进行写入\n",
    "    - b：binary凡是，二进制方式写入\n",
    "    - +：可读写\n",
    "   "
   ]
  },
  {
   "cell_type": "code",
   "execution_count": null,
   "metadata": {},
   "outputs": [],
   "source": []
  }
 ],
 "metadata": {
  "kernelspec": {
   "display_name": "Python 3",
   "language": "python",
   "name": "python3"
  },
  "language_info": {
   "codemirror_mode": {
    "name": "ipython",
    "version": 3
   },
   "file_extension": ".py",
   "mimetype": "text/x-python",
   "name": "python",
   "nbconvert_exporter": "python",
   "pygments_lexer": "ipython3",
   "version": "3.7.3"
  }
 },
 "nbformat": 4,
 "nbformat_minor": 2
}
